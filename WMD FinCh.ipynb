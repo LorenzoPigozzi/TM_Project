{
 "cells": [
  {
   "cell_type": "code",
   "execution_count": 11,
   "id": "1705b0f0",
   "metadata": {},
   "outputs": [],
   "source": [
    "from nltk.corpus import stopwords\n",
    "from nltk.stem.wordnet import WordNetLemmatizer\n",
    "from nltk.tokenize import word_tokenize\n",
    "from nltk.corpus import wordnet\n",
    "from nltk.stem import SnowballStemmer\n",
    "from bs4 import BeautifulSoup\n",
    "from tqdm.notebook import tqdm\n",
    "import re\n",
    "import string\n",
    "import nltk\n",
    "import pandas as pd\n",
    "import os\n",
    "import numpy as np\n",
    "import matplotlib.pyplot as plt\n",
    "from sklearn.preprocessing import MinMaxScaler\n",
    "from sklearn.model_selection import train_test_split\n",
    "from sklearn.feature_extraction.text import CountVectorizer\n",
    "from sklearn.metrics.pairwise import cosine_similarity\n",
    "from scipy.stats import pearsonr, kendalltau\n",
    "import gensim.downloader as api\n",
    "import jieba"
   ]
  },
  {
   "cell_type": "code",
   "execution_count": 2,
   "id": "873d7029",
   "metadata": {},
   "outputs": [],
   "source": [
    "stop = set(stopwords.words('english'))\n",
    "exclude = set(string.punctuation)\n",
    "lemma = WordNetLemmatizer()"
   ]
  },
  {
   "cell_type": "markdown",
   "id": "ce514b72",
   "metadata": {
    "id": "jA_9c3SpLTUn"
   },
   "source": [
    "# Data Importing and Sorting"
   ]
  },
  {
   "cell_type": "code",
   "execution_count": 3,
   "id": "bb58d83f",
   "metadata": {
    "id": "nU_gOCWtF8XY"
   },
   "outputs": [],
   "source": [
    "files = os.listdir('corpus')\n",
    "files.remove('.DS_Store')\n",
    "files.remove('scores_ru-en.csv')\n",
    "scaler = MinMaxScaler()\n",
    "for file_ in files:\n",
    "  name = file_.split('-')[0] + file_.split('-')[1]\n",
    "  vars()[name] = pd.read_csv(os.path.join('corpus', file_, 'scores.csv'))\n",
    "  vars()[name].drop(columns = ['source', 'annotators', 'avg-score'], inplace = True)\n",
    "  vars()[name]['z-score'] = scaler.fit_transform(vars()[name]['z-score'].values.reshape(-1,1)) #normalizing values betwewen 0 and 1"
   ]
  },
  {
   "cell_type": "code",
   "execution_count": 4,
   "id": "9f1ef1c2",
   "metadata": {
    "id": "EcUEx6elHvwd"
   },
   "outputs": [],
   "source": [
    "english = csen.copy()\n",
    "for df in [deen, ruen, zhen]:\n",
    "  english = english.append(df)"
   ]
  },
  {
   "cell_type": "code",
   "execution_count": 5,
   "id": "074be1cf",
   "metadata": {
    "id": "8ziEKCv4LFwE"
   },
   "outputs": [],
   "source": [
    "finnish = enfi.copy()\n",
    "chinese = enzh.copy()"
   ]
  },
  {
   "cell_type": "code",
   "execution_count": 6,
   "id": "8ddc2095",
   "metadata": {},
   "outputs": [],
   "source": [
    "english.reset_index(drop = True, inplace = True)"
   ]
  },
  {
   "cell_type": "markdown",
   "id": "e17c2d59",
   "metadata": {},
   "source": [
    "# Cleaning the corpus (updated  cleaning function)"
   ]
  },
  {
   "cell_type": "code",
   "execution_count": 7,
   "id": "50996387",
   "metadata": {},
   "outputs": [],
   "source": [
    "def clean(text_list,\n",
    "          lower = False,\n",
    "          keep_numbers = False,\n",
    "          keep_expression = False,\n",
    "          remove_char = False,\n",
    "          remove_stop = False,\n",
    "          remove_tag = False,\n",
    "          lemmatize = False,\n",
    "          stemmer = False,\n",
    "          english = True\n",
    "          ):\n",
    "    \"\"\"\n",
    "    Function that a receives a list of strings and preprocesses it.\n",
    "    \n",
    "    :param text_list: List of strings.\n",
    "    :param lemmatize: Tag to apply lemmatization if True.\n",
    "    :param stemmer: Tag to apply the stemmer if True.\n",
    "    \"\"\"\n",
    "    if english:\n",
    "        lang = 'english'\n",
    "    else:\n",
    "        lang = 'finnish'\n",
    "    \n",
    "    stop = set(stopwords.words(lang))\n",
    "    stem = SnowballStemmer(lang)\n",
    "    \n",
    "    updates = []\n",
    "    for j in range(len(text_list)):\n",
    "        \n",
    "        text = text_list[j]\n",
    "        \n",
    "        #LOWERCASE TEXT\n",
    "        if lower:\n",
    "            text = text.lower()\n",
    "            \n",
    "        #KEEP NUMBERS AS TOKENS\n",
    "        if not keep_numbers:\n",
    "            text = re.sub(\"[\\d+]\", 'X', text)\n",
    "        \n",
    "        #KEEP '?' and '!' AS TOKENS\n",
    "        if not keep_expression:\n",
    "            text = re.sub(\"[\\?|\\!]\", 'EXPRESSION', text)\n",
    "            \n",
    "        #REMOVE TAGS\n",
    "        if remove_tag:\n",
    "            text = BeautifulSoup(text).get_text()\n",
    "            \n",
    "        #REMOVE THAT IS NOT TEXT\n",
    "        if remove_char:\n",
    "            text = re.sub(\"[^a-zA-Z]\", ' ', text)\n",
    "        \n",
    "        #REMOVE STOP WORDS\n",
    "        if remove_stop:\n",
    "            text = ' '.join([word for word in text.split(' ') if word not in stop])\n",
    "        \n",
    "        #LEMMATIZATION\n",
    "        if lemmatize:\n",
    "            if english:\n",
    "                lemma = WordNetLemmatizer()\n",
    "                text = \" \".join(lemma.lemmatize(word) for word in text.split())\n",
    "        \n",
    "        #STEMMER\n",
    "        if stemmer:\n",
    "            text = \" \".join(stem.stem(word) for word in text.split())\n",
    "        \n",
    "        updates.append(text)\n",
    "        \n",
    "    return updates\n",
    "\n",
    "def clean_ch(text_list, keep_numbers=False, remove_punctuation=False, remove_stop = False, stopwords_set='merged'):\n",
    "    \"\"\"\n",
    "    Function that removes chinese stopwords\n",
    "    \n",
    "    :param stopwords_set: remove words of both sets (merged), just the 1st (fst) or just the second (snd) \n",
    "    \"\"\"\n",
    "    updates = []\n",
    "    \n",
    "    zh_stopwords1 = [line.strip() for line in open('chinese_stopwords/chinese_stopwords1.txt', 'r', encoding='utf-8').readlines()]\n",
    "    zh_stopwords2 = [line.strip() for line in open('chinese_stopwords/chinese_stopwords2.txt', 'r', encoding='utf-8').readlines()]\n",
    "    \n",
    "    if stopwords_set == 'merged':\n",
    "        stop = list(set(zh_stopwords1 + zh_stopwords2))\n",
    "    elif stopwords_set == 'fst':\n",
    "        stop = zh_stopwords1\n",
    "    elif stopwords_set == 'snd':\n",
    "        stop = zh_stopwords2\n",
    "\n",
    "    for j in range(len(text_list)):\n",
    "        \n",
    "        text = text_list[j]\n",
    "        \n",
    "        #KEEP NUMBERS AS TOKENS\n",
    "        if keep_numbers:\n",
    "            text = re.sub(\"[\\d+]\", 'X', text)\n",
    "        \n",
    "        # REMOVE PUNCTUATION\n",
    "        if remove_punctuation:\n",
    "            # https://stackoverflow.com/questions/36640587/how-to-remove-chinese-punctuation-in-python\n",
    "            punc = \"！？｡。＂＃＄％＆＇（）＊＋，－／：；＜＝＞＠［＼］＾＿｀｛｜｝～｟｠｢｣､、〃》「」『』【】〔〕〖〗〘〙〚〛〜〝〞〟〰〾〿–—‘’‛“”„‟…‧﹏.\"\n",
    "            text = re.sub(r\"[%s]+\" %punc, \"\", text)\n",
    "        \n",
    "        # REMOVE STOP WORDS\n",
    "        if remove_stop:\n",
    "            pretext = text\n",
    "            text = ' '.join([word for word in jieba.cut(text) if word not in stop])\n",
    "            \n",
    "        updates.append(text)\n",
    "        \n",
    "    return updates"
   ]
  },
  {
   "cell_type": "code",
   "execution_count": 8,
   "id": "27c8a23f",
   "metadata": {},
   "outputs": [],
   "source": [
    "finnish_cleaned = pd.DataFrame()\n",
    "finnish_cleaned['z-score'] = finnish['z-score']\n",
    "for column in ['reference', 'translation']:\n",
    "    finnish_cleaned[column] = clean(finnish[column],\n",
    "                                    lower = True,\n",
    "                                    keep_numbers = False,\n",
    "                                    keep_expression = True,\n",
    "                                    remove_char = True,\n",
    "                                    remove_stop = False,\n",
    "                                    remove_tag = True,\n",
    "                                    lemmatize = False,\n",
    "                                    stemmer = True,\n",
    "                                    english = False)"
   ]
  },
  {
   "cell_type": "code",
   "execution_count": 12,
   "id": "d2f68c56",
   "metadata": {},
   "outputs": [
    {
     "name": "stderr",
     "output_type": "stream",
     "text": [
      "Building prefix dict from the default dictionary ...\n",
      "Dumping model to file cache C:\\Users\\Public\\Documents\\Wondershare\\CreatorTemp\\jieba.cache\n",
      "Loading model cost 1.321 seconds.\n",
      "Prefix dict has been built successfully.\n"
     ]
    }
   ],
   "source": [
    "chinese_cleaned = pd.DataFrame()\n",
    "chinese_cleaned['z-score'] = chinese['z-score']\n",
    "for column in ['reference', 'translation']:\n",
    "    chinese_cleaned[column] = clean_ch(chinese[column],\n",
    "                                    keep_numbers = True,\n",
    "                                    remove_punctuation = False,\n",
    "                                    remove_stop = True,\n",
    "                                    stopwords_set = 'merged')"
   ]
  },
  {
   "cell_type": "markdown",
   "id": "fb5e63d2",
   "metadata": {
    "id": "NjBupUyDLNRa"
   },
   "source": [
    "# Train, Dev & Test Split"
   ]
  },
  {
   "cell_type": "code",
   "execution_count": 13,
   "id": "bd5d3aa6",
   "metadata": {
    "id": "qZKkQkBNLSYT"
   },
   "outputs": [],
   "source": [
    "# en_train, en_dev = train_test_split(english, shuffle = True, test_size = 0.2, random_state = 7)\n",
    "# en_dev, en_test = train_test_split(en_dev, shuffle = True, test_size = 0.5, random_state = 7)\n",
    "\n",
    "# en_train_cleaned, en_dev_cleaned = train_test_split(english_cleaned, shuffle = True, test_size = 0.2, random_state = 7)\n",
    "# en_dev_cleaned, en_test_cleaned = train_test_split(en_dev_cleaned, shuffle = True, test_size = 0.5, random_state = 7)\n",
    "\n",
    "##NEED TO IMPLEMENT\n",
    "fin_train, fin_dev = train_test_split(finnish, shuffle = True, test_size = 0.2, random_state = 7)\n",
    "fin_dev, fin_test = train_test_split(fin_dev, shuffle = True, test_size = 0.5, random_state = 7)\n",
    "\n",
    "fin_train_cleaned, fin_dev_cleaned = train_test_split(finnish_cleaned, shuffle = True, test_size = 0.2, random_state = 7)\n",
    "fin_dev_cleaned, fin_test_cleaned = train_test_split(fin_dev_cleaned, shuffle = True, test_size = 0.5, random_state = 7)\n",
    "\n",
    "ch_train, ch_dev = train_test_split(chinese, shuffle = True, test_size = 0.2, random_state = 7)\n",
    "ch_dev, ch_test = train_test_split(ch_dev, shuffle = True, test_size = 0.5, random_state = 7)\n",
    "\n",
    "ch_train_cleaned, ch_dev_cleaned = train_test_split(chinese_cleaned, shuffle = True, test_size = 0.2, random_state = 7)\n",
    "ch_dev_cleaned, ch_test_cleaned = train_test_split(ch_dev_cleaned, shuffle = True, test_size = 0.5, random_state = 7)"
   ]
  },
  {
   "cell_type": "markdown",
   "id": "601f2e7c",
   "metadata": {},
   "source": [
    "# Not cleaned corpus"
   ]
  },
  {
   "cell_type": "markdown",
   "id": "e4188f32",
   "metadata": {},
   "source": [
    "## Encoding (Word2Vec + Word Mover Distance)"
   ]
  },
  {
   "cell_type": "code",
   "execution_count": 14,
   "id": "5d83c34e",
   "metadata": {},
   "outputs": [],
   "source": [
    "model = api.load('word2vec-google-news-300')"
   ]
  },
  {
   "cell_type": "code",
   "execution_count": 15,
   "id": "451604d9",
   "metadata": {},
   "outputs": [
    {
     "data": {
      "application/vnd.jupyter.widget-view+json": {
       "model_id": "53896eff2e98484fabeeccaa4323de3e",
       "version_major": 2,
       "version_minor": 0
      },
      "text/plain": [
       "  0%|          | 0/5398 [00:00<?, ?it/s]"
      ]
     },
     "metadata": {},
     "output_type": "display_data"
    },
    {
     "data": {
      "application/vnd.jupyter.widget-view+json": {
       "model_id": "c2ce6202fe884ca7a4d3362c740de261",
       "version_major": 2,
       "version_minor": 0
      },
      "text/plain": [
       "  0%|          | 0/675 [00:00<?, ?it/s]"
      ]
     },
     "metadata": {},
     "output_type": "display_data"
    },
    {
     "data": {
      "application/vnd.jupyter.widget-view+json": {
       "model_id": "a1c7de6cf1a64c798280862c61577f10",
       "version_major": 2,
       "version_minor": 0
      },
      "text/plain": [
       "  0%|          | 0/675 [00:00<?, ?it/s]"
      ]
     },
     "metadata": {},
     "output_type": "display_data"
    }
   ],
   "source": [
    "names = ['fin_train', 'fin_dev', 'fin_test']\n",
    "for j,df in enumerate([fin_train, fin_dev, fin_test]):\n",
    "    name = 'distances_' + names[j]\n",
    "    vars()[name] = []\n",
    "    df.reset_index(drop = True, inplace = True)\n",
    "    for i in tqdm(range(len(df))):\n",
    "                  \n",
    "        vars()[name].append(model.wmdistance(df['reference'][i], df['translation'][i]))\n",
    "    \n",
    "    name2 = 'score_' + names[j]\n",
    "    vars()[name2] = np.array(df['z-score'])"
   ]
  },
  {
   "cell_type": "code",
   "execution_count": 16,
   "id": "74dd9985",
   "metadata": {},
   "outputs": [
    {
     "data": {
      "application/vnd.jupyter.widget-view+json": {
       "model_id": "2ff149064e2541589068dddd65aac0af",
       "version_major": 2,
       "version_minor": 0
      },
      "text/plain": [
       "  0%|          | 0/8176 [00:00<?, ?it/s]"
      ]
     },
     "metadata": {},
     "output_type": "display_data"
    },
    {
     "data": {
      "application/vnd.jupyter.widget-view+json": {
       "model_id": "e43e8919972c4074bf69fdc3d2db13e7",
       "version_major": 2,
       "version_minor": 0
      },
      "text/plain": [
       "  0%|          | 0/1022 [00:00<?, ?it/s]"
      ]
     },
     "metadata": {},
     "output_type": "display_data"
    },
    {
     "data": {
      "application/vnd.jupyter.widget-view+json": {
       "model_id": "fd5e79fcdb554339b882a5886cd87dba",
       "version_major": 2,
       "version_minor": 0
      },
      "text/plain": [
       "  0%|          | 0/1023 [00:00<?, ?it/s]"
      ]
     },
     "metadata": {},
     "output_type": "display_data"
    }
   ],
   "source": [
    "names = ['ch_train', 'ch_dev', 'ch_test']\n",
    "for j,df in enumerate([ch_train, ch_dev, ch_test]):\n",
    "    name = 'distances_' + names[j]\n",
    "    vars()[name] = []\n",
    "    df.reset_index(drop = True, inplace = True)\n",
    "    for i in tqdm(range(len(df))):\n",
    "                  \n",
    "        vars()[name].append(model.wmdistance(df['reference'][i], df['translation'][i]))\n",
    "    \n",
    "    name2 = 'score_' + names[j]\n",
    "    vars()[name2] = np.array(df['z-score'])"
   ]
  },
  {
   "cell_type": "markdown",
   "id": "af3eff71",
   "metadata": {},
   "source": [
    "## Calculating correlation"
   ]
  },
  {
   "cell_type": "code",
   "execution_count": 17,
   "id": "862a7446",
   "metadata": {},
   "outputs": [],
   "source": [
    "def corr(y_train_true, y_train_pred, y_dev_true, y_dev_pred, y_test_true, y_test_pred, return_corr = False):\n",
    "    \n",
    "    cleaned_corr_train, cleaned_corr_train_pvalue = pearsonr(y_train_true, y_train_pred)\n",
    "    cleaned_corr_ktau_train, cleaned_corr_ktau_train_pvalue = kendalltau(y_train_true, y_train_pred)\n",
    "    \n",
    "    cleaned_corr_dev, cleaned_corr_dev_pvalue = pearsonr(y_dev_true, y_dev_pred)\n",
    "    cleaned_corr_ktau_dev, cleaned_corr_ktau_dev_pvalue = kendalltau(y_dev_true, y_dev_pred)\n",
    "\n",
    "\n",
    "    cleaned_corr_ktau_test, cleaned_corr_ktau_test_pvalue = kendalltau(y_test_true, y_test_pred)\n",
    "    cleaned_corr_test, cleaned_corr_test_pvalue = pearsonr(y_test_true, y_test_pred)\n",
    "        \n",
    "    print(f'Pearson correlation between cosine similarity and score on train set: {cleaned_corr_train} (p-value < 0.001: {cleaned_corr_train_pvalue < 0.001}); and Kendall Tau: {cleaned_corr_ktau_train} (p-value < 0.001: {cleaned_corr_ktau_train_pvalue < 0.001})')\n",
    "    print(f'Pearson correlation between cosine similarity and score on development set: {cleaned_corr_dev} (p-value < 0.001: {cleaned_corr_dev_pvalue < 0.001}); and Kendall Tau: {cleaned_corr_ktau_dev} (p-value < 0.001: {cleaned_corr_ktau_dev_pvalue < 0.001})')\n",
    "    print(f'Pearson correlation between cosine similarity and score on test set: {cleaned_corr_test} (p-value < 0.001: {cleaned_corr_test_pvalue < 0.001}); and Kendall Tau: {cleaned_corr_ktau_test} (p-value < 0.001: {cleaned_corr_ktau_test_pvalue < 0.001})')\n",
    "    \n",
    "    if return_corr:\n",
    "        return cleaned_corr_dev"
   ]
  },
  {
   "cell_type": "markdown",
   "id": "d246c6a9",
   "metadata": {},
   "source": [
    "How to treat np.inf???"
   ]
  },
  {
   "cell_type": "code",
   "execution_count": 20,
   "id": "a7f24a39",
   "metadata": {},
   "outputs": [],
   "source": [
    "while np.inf in distances_fin_train:\n",
    "    distances_fin_train[distances_fin_train.index(np.inf)] = 0\n",
    "\n",
    "while np.inf in distances_fin_dev:\n",
    "    distances_fin_dev[distances_fin_dev.index(np.inf)] = 0\n",
    "    \n",
    "while np.inf in distances_fin_test:\n",
    "    distances_fin_test[distances_fin_test.index(np.inf)] = 0"
   ]
  },
  {
   "cell_type": "code",
   "execution_count": 21,
   "id": "b19b79b3",
   "metadata": {},
   "outputs": [],
   "source": [
    "while np.inf in distances_ch_train:\n",
    "    distances_ch_train[distances_ch_train.index(np.inf)] = 0\n",
    "\n",
    "while np.inf in distances_ch_dev:\n",
    "    distances_ch_dev[distances_ch_dev.index(np.inf)] = 0\n",
    "    \n",
    "while np.inf in distances_ch_test:\n",
    "    distances_ch_test[distances_ch_test.index(np.inf)] = 0"
   ]
  },
  {
   "cell_type": "code",
   "execution_count": 22,
   "id": "181f3b7f",
   "metadata": {},
   "outputs": [
    {
     "name": "stdout",
     "output_type": "stream",
     "text": [
      "Pearson correlation between cosine similarity and score on train set: -0.4423001770601065 (p-value < 0.001: True); and Kendall Tau: -0.304006891633581 (p-value < 0.001: True)\n",
      "Pearson correlation between cosine similarity and score on development set: -0.40423504312735 (p-value < 0.001: True); and Kendall Tau: -0.2822384195577719 (p-value < 0.001: True)\n",
      "Pearson correlation between cosine similarity and score on test set: -0.35667416940720503 (p-value < 0.001: True); and Kendall Tau: -0.25342281135122874 (p-value < 0.001: True)\n"
     ]
    }
   ],
   "source": [
    "corr(score_fin_train, distances_fin_train, score_fin_dev, distances_fin_dev, score_fin_test, distances_fin_test)"
   ]
  },
  {
   "cell_type": "code",
   "execution_count": 23,
   "id": "d0cd4088",
   "metadata": {},
   "outputs": [
    {
     "name": "stdout",
     "output_type": "stream",
     "text": [
      "Pearson correlation between cosine similarity and score on train set: -0.3213889382134847 (p-value < 0.001: True); and Kendall Tau: -0.23975835475012616 (p-value < 0.001: True)\n",
      "Pearson correlation between cosine similarity and score on development set: -0.3497285570880814 (p-value < 0.001: True); and Kendall Tau: -0.24686863006174922 (p-value < 0.001: True)\n",
      "Pearson correlation between cosine similarity and score on test set: -0.32907919454326545 (p-value < 0.001: True); and Kendall Tau: -0.25310354525228784 (p-value < 0.001: True)\n"
     ]
    }
   ],
   "source": [
    "corr(score_ch_train, distances_ch_train, score_ch_dev, distances_ch_dev, score_ch_test, distances_ch_test)"
   ]
  },
  {
   "cell_type": "markdown",
   "id": "aa946e66",
   "metadata": {},
   "source": [
    "# Cleaned corpus"
   ]
  },
  {
   "cell_type": "markdown",
   "id": "7650b763",
   "metadata": {},
   "source": [
    "## Encoding (Word2Vec + Word Mover Distance)"
   ]
  },
  {
   "cell_type": "code",
   "execution_count": 24,
   "id": "b893e1d2",
   "metadata": {},
   "outputs": [
    {
     "data": {
      "application/vnd.jupyter.widget-view+json": {
       "model_id": "006f116b325c46df946a4d761b9e7b51",
       "version_major": 2,
       "version_minor": 0
      },
      "text/plain": [
       "  0%|          | 0/5398 [00:00<?, ?it/s]"
      ]
     },
     "metadata": {},
     "output_type": "display_data"
    },
    {
     "data": {
      "application/vnd.jupyter.widget-view+json": {
       "model_id": "d0d9e339dffe473d871c8df50497340e",
       "version_major": 2,
       "version_minor": 0
      },
      "text/plain": [
       "  0%|          | 0/675 [00:00<?, ?it/s]"
      ]
     },
     "metadata": {},
     "output_type": "display_data"
    },
    {
     "data": {
      "application/vnd.jupyter.widget-view+json": {
       "model_id": "989a4e691a8a4fe793b48ec73416a619",
       "version_major": 2,
       "version_minor": 0
      },
      "text/plain": [
       "  0%|          | 0/675 [00:00<?, ?it/s]"
      ]
     },
     "metadata": {},
     "output_type": "display_data"
    }
   ],
   "source": [
    "# model = api.load('word2vec-google-news-300')\n",
    "names = ['fin_train_cleaned', 'fin_dev_cleaned', 'fin_test_cleaned']\n",
    "for j,df in enumerate([fin_train_cleaned, fin_dev_cleaned, fin_test_cleaned]):\n",
    "    name = 'distances_' + names[j]\n",
    "    vars()[name] = []\n",
    "    df.reset_index(drop = True, inplace = True)\n",
    "    for i in tqdm(range(len(df))):\n",
    "                  \n",
    "        vars()[name].append(model.wmdistance(df['reference'][i], df['translation'][i]))\n",
    "    \n",
    "    name2 = 'score_' + names[j]\n",
    "    vars()[name2] = np.array(df['z-score'])"
   ]
  },
  {
   "cell_type": "code",
   "execution_count": 25,
   "id": "98165acd",
   "metadata": {},
   "outputs": [
    {
     "data": {
      "application/vnd.jupyter.widget-view+json": {
       "model_id": "ef652661c4e744319d22707ed8afc61b",
       "version_major": 2,
       "version_minor": 0
      },
      "text/plain": [
       "  0%|          | 0/8176 [00:00<?, ?it/s]"
      ]
     },
     "metadata": {},
     "output_type": "display_data"
    },
    {
     "data": {
      "application/vnd.jupyter.widget-view+json": {
       "model_id": "a4acc4d6d9224d82acb69e0333aa25eb",
       "version_major": 2,
       "version_minor": 0
      },
      "text/plain": [
       "  0%|          | 0/1022 [00:00<?, ?it/s]"
      ]
     },
     "metadata": {},
     "output_type": "display_data"
    },
    {
     "data": {
      "application/vnd.jupyter.widget-view+json": {
       "model_id": "a5dd117e7880461d8389eb44f24894b3",
       "version_major": 2,
       "version_minor": 0
      },
      "text/plain": [
       "  0%|          | 0/1023 [00:00<?, ?it/s]"
      ]
     },
     "metadata": {},
     "output_type": "display_data"
    }
   ],
   "source": [
    "# model = api.load('word2vec-google-news-300')\n",
    "names = ['ch_train_cleaned', 'ch_dev_cleaned', 'ch_test_cleaned']\n",
    "for j,df in enumerate([ch_train_cleaned, ch_dev_cleaned, ch_test_cleaned]):\n",
    "    name = 'distances_' + names[j]\n",
    "    vars()[name] = []\n",
    "    df.reset_index(drop = True, inplace = True)\n",
    "    for i in tqdm(range(len(df))):\n",
    "                  \n",
    "        vars()[name].append(model.wmdistance(df['reference'][i], df['translation'][i]))\n",
    "    \n",
    "    name2 = 'score_' + names[j]\n",
    "    vars()[name2] = np.array(df['z-score'])"
   ]
  },
  {
   "cell_type": "markdown",
   "id": "5b3f48c3",
   "metadata": {},
   "source": [
    "## Calculating correlation"
   ]
  },
  {
   "cell_type": "code",
   "execution_count": 26,
   "id": "7d7c0abb",
   "metadata": {},
   "outputs": [],
   "source": [
    "while np.inf in distances_fin_train_cleaned:\n",
    "    distances_fin_train_cleaned[distances_fin_train_cleaned.index(np.inf)] = 0\n",
    "\n",
    "while np.inf in distances_fin_dev_cleaned:\n",
    "    distances_fin_dev_cleaned[distances_fin_dev_cleaned.index(np.inf)] = 0\n",
    "    \n",
    "while np.inf in distances_fin_test_cleaned:\n",
    "    distances_fin_test_cleaned[distances_fin_test_cleaned.index(np.inf)] = 0"
   ]
  },
  {
   "cell_type": "code",
   "execution_count": 27,
   "id": "b959b62e",
   "metadata": {},
   "outputs": [],
   "source": [
    "while np.inf in distances_ch_train_cleaned:\n",
    "    distances_ch_train_cleaned[distances_ch_train_cleaned.index(np.inf)] = 0\n",
    "\n",
    "while np.inf in distances_ch_dev_cleaned:\n",
    "    distances_ch_dev_cleaned[distances_ch_dev_cleaned.index(np.inf)] = 0\n",
    "    \n",
    "while np.inf in distances_ch_test_cleaned:\n",
    "    distances_ch_test_cleaned[distances_ch_test_cleaned.index(np.inf)] = 0"
   ]
  },
  {
   "cell_type": "code",
   "execution_count": 28,
   "id": "c65e6598",
   "metadata": {},
   "outputs": [
    {
     "name": "stdout",
     "output_type": "stream",
     "text": [
      "Pearson correlation between cosine similarity and score on train set: -0.43161416179470985 (p-value < 0.001: True); and Kendall Tau: -0.29760017477818435 (p-value < 0.001: True)\n",
      "Pearson correlation between cosine similarity and score on development set: -0.3815949530749775 (p-value < 0.001: True); and Kendall Tau: -0.27013049060618927 (p-value < 0.001: True)\n",
      "Pearson correlation between cosine similarity and score on test set: -0.3367278955650935 (p-value < 0.001: True); and Kendall Tau: -0.24948405560974188 (p-value < 0.001: True)\n"
     ]
    }
   ],
   "source": [
    "corr(score_fin_train_cleaned, distances_fin_train_cleaned, score_fin_dev_cleaned, distances_fin_dev_cleaned, score_fin_test_cleaned, distances_fin_test_cleaned)"
   ]
  },
  {
   "cell_type": "code",
   "execution_count": 29,
   "id": "af608347",
   "metadata": {},
   "outputs": [
    {
     "name": "stdout",
     "output_type": "stream",
     "text": [
      "Pearson correlation between cosine similarity and score on train set: -0.2956892364499134 (p-value < 0.001: True); and Kendall Tau: -0.2100104363215054 (p-value < 0.001: True)\n",
      "Pearson correlation between cosine similarity and score on development set: -0.30223590648625553 (p-value < 0.001: True); and Kendall Tau: -0.21777037176121378 (p-value < 0.001: True)\n",
      "Pearson correlation between cosine similarity and score on test set: -0.32710221458107114 (p-value < 0.001: True); and Kendall Tau: -0.23194633772384848 (p-value < 0.001: True)\n"
     ]
    }
   ],
   "source": [
    "corr(score_ch_train_cleaned, distances_ch_train_cleaned, score_ch_dev_cleaned, distances_ch_dev_cleaned, score_ch_test_cleaned, distances_ch_test_cleaned)"
   ]
  }
 ],
 "metadata": {
  "kernelspec": {
   "display_name": "Python 3",
   "language": "python",
   "name": "python3"
  },
  "language_info": {
   "codemirror_mode": {
    "name": "ipython",
    "version": 3
   },
   "file_extension": ".py",
   "mimetype": "text/x-python",
   "name": "python",
   "nbconvert_exporter": "python",
   "pygments_lexer": "ipython3",
   "version": "3.9.4"
  }
 },
 "nbformat": 4,
 "nbformat_minor": 5
}
