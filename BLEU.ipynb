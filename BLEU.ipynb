{
 "cells": [
  {
   "cell_type": "code",
   "execution_count": 29,
   "id": "1f3c2a57",
   "metadata": {},
   "outputs": [],
   "source": [
    "from nltk.corpus import stopwords\n",
    "from nltk.stem.wordnet import WordNetLemmatizer\n",
    "from nltk.tokenize import word_tokenize\n",
    "from nltk.corpus import wordnet\n",
    "from nltk.stem import SnowballStemmer\n",
    "from nltk.translate.bleu_score import sentence_bleu\n",
    "from bs4 import BeautifulSoup\n",
    "from tqdm.notebook import tqdm\n",
    "import re\n",
    "import string\n",
    "import nltk\n",
    "import pandas as pd\n",
    "import os\n",
    "import numpy as np\n",
    "import matplotlib.pyplot as plt\n",
    "import seaborn as sns\n",
    "from sklearn.preprocessing import MinMaxScaler\n",
    "from sklearn.model_selection import train_test_split, ParameterGrid\n",
    "from sklearn.feature_extraction.text import CountVectorizer\n",
    "from sklearn.metrics.pairwise import cosine_similarity\n",
    "from sklearn.linear_model import LinearRegression\n",
    "from scipy.stats import pearsonr, kendalltau\n",
    "import jieba"
   ]
  },
  {
   "cell_type": "code",
   "execution_count": 30,
   "id": "ee48cab4",
   "metadata": {},
   "outputs": [],
   "source": [
    "import warnings\n",
    "warnings.filterwarnings(\"ignore\")"
   ]
  },
  {
   "cell_type": "code",
   "execution_count": 31,
   "id": "4c95e187",
   "metadata": {},
   "outputs": [],
   "source": [
    "def corr(y_train_true, y_train_pred, y_dev_true, y_dev_pred, y_test_true, y_test_pred, return_corr = False):\n",
    "    \n",
    "    cleaned_corr_train, cleaned_corr_train_pvalue = pearsonr(y_train_true, y_train_pred)\n",
    "    cleaned_corr_ktau_train, cleaned_corr_ktau_train_pvalue = kendalltau(y_train_true, y_train_pred)\n",
    "    \n",
    "    cleaned_corr_dev, cleaned_corr_dev_pvalue = pearsonr(y_dev_true, y_dev_pred)\n",
    "    cleaned_corr_ktau_dev, cleaned_corr_ktau_dev_pvalue = kendalltau(y_dev_true, y_dev_pred)\n",
    "\n",
    "\n",
    "    cleaned_corr_ktau_test, cleaned_corr_ktau_test_pvalue = kendalltau(y_test_true, y_test_pred)\n",
    "    cleaned_corr_test, cleaned_corr_test_pvalue = pearsonr(y_test_true, y_test_pred)\n",
    "        \n",
    "    print(f'Train - Pearson: {cleaned_corr_train}; Kendall Tau: {cleaned_corr_ktau_train}')\n",
    "    print(f'Dev - Pearson: {cleaned_corr_dev}; Kendall Tau: {cleaned_corr_ktau_dev}')\n",
    "    print(f'Test - Pearson: {cleaned_corr_test}; Kendall Tau: {cleaned_corr_ktau_test}')\n",
    "    \n",
    "    if return_corr:\n",
    "        return [cleaned_corr_train, cleaned_corr_ktau_train, \n",
    "                cleaned_corr_dev, cleaned_corr_ktau_dev]"
   ]
  },
  {
   "cell_type": "markdown",
   "id": "ce514b72",
   "metadata": {
    "id": "jA_9c3SpLTUn"
   },
   "source": [
    "# Data Importing and Sorting"
   ]
  },
  {
   "cell_type": "code",
   "execution_count": 32,
   "id": "bb58d83f",
   "metadata": {
    "id": "nU_gOCWtF8XY"
   },
   "outputs": [],
   "source": [
    "files = os.listdir('corpus')\n",
    "files.remove('.DS_Store')\n",
    "files.remove('scores_ru-en.csv')\n",
    "scaler = MinMaxScaler()\n",
    "for file_ in files:\n",
    "  name = file_.split('-')[0] + file_.split('-')[1]\n",
    "  vars()[name] = pd.read_csv(os.path.join('corpus', file_, 'scores.csv'))\n",
    "  vars()[name].drop(columns = ['source', 'annotators', 'avg-score'], inplace = True)"
   ]
  },
  {
   "cell_type": "code",
   "execution_count": 33,
   "id": "9f1ef1c2",
   "metadata": {
    "id": "EcUEx6elHvwd"
   },
   "outputs": [],
   "source": [
    "english = csen.copy()\n",
    "for df in [deen, ruen, zhen]:\n",
    "  english = english.append(df)"
   ]
  },
  {
   "cell_type": "code",
   "execution_count": 34,
   "id": "074be1cf",
   "metadata": {
    "id": "8ziEKCv4LFwE"
   },
   "outputs": [],
   "source": [
    "finnish = enfi.copy()\n",
    "chinese = enzh.copy()"
   ]
  },
  {
   "cell_type": "code",
   "execution_count": 35,
   "id": "8ddc2095",
   "metadata": {},
   "outputs": [],
   "source": [
    "english.reset_index(drop = True, inplace = True)"
   ]
  },
  {
   "cell_type": "markdown",
   "id": "9197ad40",
   "metadata": {},
   "source": [
    "# Clean corpora"
   ]
  },
  {
   "cell_type": "code",
   "execution_count": 36,
   "id": "0248aae7",
   "metadata": {},
   "outputs": [],
   "source": [
    "def clean(text_list,\n",
    "          lower = False,\n",
    "          keep_numbers = False,\n",
    "          keep_expression = False,\n",
    "          remove_char = False,\n",
    "          remove_stop = False,\n",
    "          remove_tag = False,\n",
    "          lemmatize = False,\n",
    "          stemmer = False,\n",
    "          english = True\n",
    "          ):\n",
    "    \"\"\"\n",
    "    Function that a receives a list of strings and preprocesses it.\n",
    "    \n",
    "    :param text_list: List of strings.\n",
    "    :param lemmatize: Tag to apply lemmatization if True.\n",
    "    :param stemmer: Tag to apply the stemmer if True.\n",
    "    \"\"\"\n",
    "    if english:\n",
    "        lang = 'english'\n",
    "    else:\n",
    "        lang = 'finnish'\n",
    "    \n",
    "    stop = set(stopwords.words(lang))\n",
    "    stem = SnowballStemmer(lang)\n",
    "    \n",
    "    updates = []\n",
    "    for j in range(len(text_list)):\n",
    "        \n",
    "        text = text_list[j]\n",
    "        \n",
    "        #LOWERCASE TEXT\n",
    "        if lower:\n",
    "            text = text.lower()\n",
    "            \n",
    "        #KEEP NUMBERS AS TOKENS\n",
    "        if not keep_numbers:\n",
    "            text = re.sub(\"[\\d+]\", 'X', text)\n",
    "        \n",
    "        #KEEP '?' and '!' AS TOKENS\n",
    "        if not keep_expression:\n",
    "            text = re.sub(\"[\\?|\\!]\", 'EXPRESSION', text)\n",
    "            \n",
    "        #REMOVE TAGS\n",
    "        if remove_tag:\n",
    "            text = BeautifulSoup(text).get_text()\n",
    "            \n",
    "        #REMOVE THAT IS NOT TEXT\n",
    "        if remove_char:\n",
    "            text = re.sub(\"[^a-zA-Z]\", ' ', text)\n",
    "        \n",
    "        #REMOVE STOP WORDS\n",
    "        if remove_stop:\n",
    "            text = ' '.join([word for word in text.split(' ') if word not in stop])\n",
    "        \n",
    "        #LEMMATIZATION\n",
    "        if lemmatize:\n",
    "            if english:\n",
    "                lemma = WordNetLemmatizer()\n",
    "                text = \" \".join(lemma.lemmatize(word) for word in text.split())\n",
    "        \n",
    "        #STEMMER\n",
    "        if stemmer:\n",
    "            text = \" \".join(stem.stem(word) for word in text.split())\n",
    "        \n",
    "        updates.append(text)\n",
    "        \n",
    "    return updates\n",
    "\n",
    "def clean_ch(text_list, keep_numbers=False, remove_punctuation=False, remove_stop = False, stopwords_set='merged'):\n",
    "    \"\"\"\n",
    "    Function that removes chinese stopwords\n",
    "    \n",
    "    :param stopwords_set: remove words of both sets (merged), just the 1st (fst) or just the second (snd) \n",
    "    \"\"\"\n",
    "    updates = []\n",
    "    \n",
    "    zh_stopwords1 = [line.strip() for line in open('chinese_stopwords/chinese_stopwords1.txt', 'r', encoding='utf-8').readlines()]\n",
    "    zh_stopwords2 = [line.strip() for line in open('chinese_stopwords/chinese_stopwords2.txt', 'r', encoding='utf-8').readlines()]\n",
    "    \n",
    "    if stopwords_set == 'merged':\n",
    "        stop = list(set(zh_stopwords1 + zh_stopwords2))\n",
    "    elif stopwords_set == 'fst':\n",
    "        stop = zh_stopwords1\n",
    "    elif stopwords_set == 'snd':\n",
    "        stop = zh_stopwords2\n",
    "\n",
    "    for j in range(len(text_list)):\n",
    "        \n",
    "        text = text_list[j]\n",
    "        \n",
    "        #KEEP NUMBERS AS TOKENS\n",
    "        if keep_numbers:\n",
    "            text = re.sub(\"[\\d+]\", 'X', text)\n",
    "        \n",
    "        # REMOVE PUNCTUATION\n",
    "        if remove_punctuation:\n",
    "            # https://stackoverflow.com/questions/36640587/how-to-remove-chinese-punctuation-in-python\n",
    "            punc = \"！？｡。＂＃＄％＆＇（）＊＋，－／：；＜＝＞＠［＼］＾＿｀｛｜｝～｟｠｢｣､、〃》「」『』【】〔〕〖〗〘〙〚〛〜〝〞〟〰〾〿–—‘’‛“”„‟…‧﹏.\"\n",
    "            text = re.sub(r\"[%s]+\" %punc, \"\", text)\n",
    "        \n",
    "        # REMOVE STOP WORDS\n",
    "        if remove_stop:\n",
    "            pretext = text\n",
    "            text = ' '.join([word for word in jieba.cut(text) if word not in stop])\n",
    "            \n",
    "        updates.append(text)\n",
    "        \n",
    "    return updates"
   ]
  },
  {
   "cell_type": "code",
   "execution_count": 37,
   "id": "8156998d",
   "metadata": {},
   "outputs": [],
   "source": [
    "# En\n",
    "cleaning_dict = {'lower': False, 'keep_numbers': True, 'keep_expression': False, 'remove_char': True, 'remove_stop': True, 'remove_tag': False, 'lemmatize': False, 'stemmer': True}\n",
    "english_clean = pd.DataFrame()\n",
    "english_clean['z-score'] = english['z-score']\n",
    "for column in ['reference', 'translation']:\n",
    "    english_clean[column] = clean(english[column], cleaning_dict)\n",
    "    \n",
    "# Fi\n",
    "finnish_clean = pd.DataFrame()\n",
    "for c in ['reference', 'translation']:\n",
    "    finnish_clean[c] = clean(finnish[c],\n",
    "                             lower = False,\n",
    "                             keep_numbers = False,\n",
    "                             keep_expression = True,\n",
    "                             remove_char = True,\n",
    "                             remove_stop = False,\n",
    "                             remove_tag = True,\n",
    "                             lemmatize = False,\n",
    "                             stemmer = True,\n",
    "                             english=False)\n",
    "finnish_clean['z-score'] = finnish['z-score']\n",
    "\n",
    "#Ch\n",
    "chinese_clean = pd.DataFrame()\n",
    "for c in ['reference', 'translation']:\n",
    "    chinese_clean[c] = clean_ch(chinese[c],\n",
    "                                keep_numbers = False,\n",
    "                                remove_punctuation = False,\n",
    "                                remove_stop = True,\n",
    "                                stopwords_set = 'snd')\n",
    "chinese_clean['z-score'] = chinese['z-score']"
   ]
  },
  {
   "cell_type": "markdown",
   "id": "fb5e63d2",
   "metadata": {
    "id": "NjBupUyDLNRa"
   },
   "source": [
    "# Train, Dev & Test Split"
   ]
  },
  {
   "cell_type": "code",
   "execution_count": 39,
   "id": "bd5d3aa6",
   "metadata": {
    "id": "qZKkQkBNLSYT"
   },
   "outputs": [],
   "source": [
    "# English\n",
    "en_train, en_dev = train_test_split(english, shuffle = True, test_size = 0.2, random_state = 7)\n",
    "en_dev, en_test = train_test_split(en_dev, shuffle = True, test_size = 0.5, random_state = 7)\n",
    "\n",
    "en_train_clean, en_dev_clean = train_test_split(english_clean, shuffle = True, test_size = 0.2, random_state = 7)\n",
    "en_dev_clean, en_test_clean = train_test_split(en_dev_clean, shuffle = True, test_size = 0.5, random_state = 7)\n",
    "\n",
    "\n",
    "# Finnish\n",
    "fin_train, fin_dev = train_test_split(finnish, shuffle = True, test_size = 0.2, random_state = 7)\n",
    "fin_dev, fin_test = train_test_split(fin_dev, shuffle = True, test_size = 0.5, random_state = 7)\n",
    "\n",
    "fin_train_clean, fin_dev_clean = train_test_split(finnish_clean, shuffle = True, test_size = 0.2, random_state = 7)\n",
    "fin_dev_clean, fin_test_clean = train_test_split(fin_dev_clean, shuffle = True, test_size = 0.5, random_state = 7)\n",
    "\n",
    "\n",
    "#Chinese\n",
    "ch_train, ch_dev = train_test_split(chinese, shuffle = True, test_size = 0.2, random_state = 7)\n",
    "ch_dev, ch_test = train_test_split(ch_dev, shuffle = True, test_size = 0.5, random_state = 7)\n",
    "\n",
    "ch_train_clean, ch_dev_clean = train_test_split(chinese_clean, shuffle = True, test_size = 0.2, random_state = 7)\n",
    "ch_dev_clean, ch_test_clean = train_test_split(ch_dev_clean, shuffle = True, test_size = 0.5, random_state = 7)"
   ]
  },
  {
   "cell_type": "markdown",
   "id": "a5db87e2",
   "metadata": {},
   "source": [
    "# BLEU (original corpora)"
   ]
  },
  {
   "cell_type": "code",
   "execution_count": 40,
   "id": "1af42813",
   "metadata": {},
   "outputs": [],
   "source": [
    "def bleu_score(dfCorpus, gram, chinese = False):\n",
    "    if gram == 1:\n",
    "        if chinese:\n",
    "            dfCorpus[str(gram)+'-gram'] = dfCorpus.apply(lambda x: sentence_bleu([list(jieba.cut(x.reference))], list(jieba.cut(x.translation)), \n",
    "                                                                                 weights=(1, 0, 0, 0)), axis=1)\n",
    "        else:\n",
    "            dfCorpus[str(gram)+'-gram'] = dfCorpus.apply(lambda x: sentence_bleu([x.reference.split(' ')], x.translation.split(' '), \n",
    "                                                                                 weights=(1, 0, 0, 0)), axis=1)\n",
    "    elif gram == 2:\n",
    "        if chinese:\n",
    "            dfCorpus[str(gram)+'-gram'] = dfCorpus.apply(lambda x: sentence_bleu([list(jieba.cut(x.reference))], list(jieba.cut(x.translation)), \n",
    "                                                                                 weights=(0.5, 0.5, 0, 0)), axis=1)\n",
    "        else:\n",
    "            dfCorpus[str(gram)+'-gram'] = dfCorpus.apply(lambda x: sentence_bleu([x.reference.split(' ')], x.translation.split(' '), \n",
    "                                                                                 weights=(0.5, 0.5, 0, 0)), axis=1)\n",
    "    elif gram == 3:\n",
    "        if chinese:\n",
    "            dfCorpus[str(gram)+'-gram'] = dfCorpus.apply(lambda x: sentence_bleu([list(jieba.cut(x.reference))], list(jieba.cut(x.translation)), \n",
    "                                                                             weights=(0.33, 0.33, 0.33, 0)), axis=1)\n",
    "        else:\n",
    "            dfCorpus[str(gram)+'-gram'] = dfCorpus.apply(lambda x: sentence_bleu([x.reference.split(' ')], x.translation.split(' '), \n",
    "                                                                             weights=(0.33, 0.33, 0.33, 0)), axis=1)\n",
    "    else:\n",
    "        if chinese:\n",
    "            dfCorpus['4-gram'] = dfCorpus.apply(lambda x: sentence_bleu([list(jieba.cut(x.reference))], list(jieba.cut(x.translation))), axis=1)\n",
    "        else:\n",
    "            dfCorpus['4-gram'] = dfCorpus.apply(lambda x: sentence_bleu([x.reference.split(' ')], x.translation.split(' ')), axis=1)"
   ]
  },
  {
   "cell_type": "code",
   "execution_count": 12,
   "id": "3148404c",
   "metadata": {},
   "outputs": [
    {
     "name": "stdout",
     "output_type": "stream",
     "text": [
      "en_train\n",
      "en_dev\n",
      "en_test\n",
      "fin_train\n",
      "fin_dev\n",
      "fin_test\n",
      "ch_train\n",
      "ch_dev\n",
      "ch_test\n"
     ]
    }
   ],
   "source": [
    "raw_sets = [en_train, en_dev, en_test, fin_train, fin_dev, fin_test, ch_train, ch_dev, ch_test]\n",
    "raw_names = ['en_train', 'en_dev', 'en_test', 'fin_train', 'fin_dev', 'fin_test', 'ch_train', 'ch_dev', 'ch_test']\n",
    "for l in range(len(raw_sets)):\n",
    "    print(raw_names[l])\n",
    "    if l < 6:\n",
    "        for i in range(1, 5):\n",
    "            bleu_score(raw_sets[l], i)\n",
    "    else:\n",
    "        for i in range(1, 5):\n",
    "            bleu_score(raw_sets[l], i, chinese = True)"
   ]
  },
  {
   "cell_type": "code",
   "execution_count": 13,
   "id": "d00ae235",
   "metadata": {},
   "outputs": [
    {
     "name": "stdout",
     "output_type": "stream",
     "text": [
      "English\n",
      "1-gram\n",
      "Train - Pearson: 0.33154206587739704; Kendall Tau: 0.22605889412008515\n",
      "Dev - Pearson: 0.3198136226322284; Kendall Tau: 0.21811528257612472\n",
      "Test - Pearson: 0.32881846512187746; Kendall Tau: 0.2247800647809818\n",
      "2-gram\n",
      "Train - Pearson: 0.31758158471953835; Kendall Tau: 0.21999362437718187\n",
      "Dev - Pearson: 0.31217158607348394; Kendall Tau: 0.2134725324164924\n",
      "Test - Pearson: 0.31654440853477483; Kendall Tau: 0.21867902520564958\n",
      "3-gram\n",
      "Train - Pearson: 0.2900827879995898; Kendall Tau: 0.20478888217682178\n",
      "Dev - Pearson: 0.2884744918357954; Kendall Tau: 0.20146832849141774\n",
      "Test - Pearson: 0.2902123735666089; Kendall Tau: 0.2045308540774924\n",
      "4-gram\n",
      "Train - Pearson: 0.2538288797993442; Kendall Tau: 0.18899751441372847\n",
      "Dev - Pearson: 0.24987064862220623; Kendall Tau: 0.18533536352769572\n",
      "Test - Pearson: 0.25647708553043047; Kendall Tau: 0.19101106488252276\n",
      "\n",
      "Finnish\n",
      "1-gram\n",
      "Train - Pearson: 0.5094910352193147; Kendall Tau: 0.33598776194674673\n",
      "Dev - Pearson: 0.5279442634028998; Kendall Tau: 0.3647838161072639\n",
      "Test - Pearson: 0.4740268476004485; Kendall Tau: 0.3018721193307079\n",
      "2-gram\n",
      "Train - Pearson: 0.4407360379975813; Kendall Tau: 0.319042967314899\n",
      "Dev - Pearson: 0.44740930665170586; Kendall Tau: 0.3306290845816571\n",
      "Test - Pearson: 0.4058312190287918; Kendall Tau: 0.2864447254707167\n",
      "3-gram\n",
      "Train - Pearson: 0.3538648090812974; Kendall Tau: 0.30273796402144926\n",
      "Dev - Pearson: 0.3191672306253; Kendall Tau: 0.29736002096042397\n",
      "Test - Pearson: 0.31830414619785363; Kendall Tau: 0.2656545722648058\n",
      "4-gram\n",
      "Train - Pearson: 0.2655723001082595; Kendall Tau: 0.29377881131507394\n",
      "Dev - Pearson: 0.2562845062255542; Kendall Tau: 0.2877806078824016\n",
      "Test - Pearson: 0.24091967658106633; Kendall Tau: 0.2593845030516989\n",
      "\n",
      "Chinese\n",
      "1-gram\n",
      "Train - Pearson: 0.4122207145905572; Kendall Tau: 0.27777045211342366\n",
      "Dev - Pearson: 0.4529144415529226; Kendall Tau: 0.3180541394141151\n",
      "Test - Pearson: 0.4377645790950282; Kendall Tau: 0.3090802291161836\n",
      "2-gram\n",
      "Train - Pearson: 0.42018899240326296; Kendall Tau: 0.2884196181271526\n",
      "Dev - Pearson: 0.4574571022351525; Kendall Tau: 0.321843091985438\n",
      "Test - Pearson: 0.43406100790077123; Kendall Tau: 0.3108742250767125\n",
      "3-gram\n",
      "Train - Pearson: 0.3633274118519628; Kendall Tau: 0.2693274705837475\n",
      "Dev - Pearson: 0.40364767624612496; Kendall Tau: 0.29595741670737236\n",
      "Test - Pearson: 0.3753189123210253; Kendall Tau: 0.28621668971160635\n",
      "4-gram\n",
      "Train - Pearson: 0.30333371199988574; Kendall Tau: 0.2550349029216431\n",
      "Dev - Pearson: 0.3380784369197487; Kendall Tau: 0.2795114928403453\n",
      "Test - Pearson: 0.3173738174299411; Kendall Tau: 0.27480805652814255\n"
     ]
    }
   ],
   "source": [
    "en_raw_df = pd.DataFrame(columns= ['gram', 'train_pearson', 'train_ktau', 'dev_pearson', 'dev_ktau'])\n",
    "fin_raw_df = en_raw_df.copy()\n",
    "ch_raw_df = en_raw_df.copy()\n",
    "print('English')\n",
    "for i in range (1, 5):\n",
    "    print(str(i) + '-gram')\n",
    "    corr_list = corr(en_train['z-score'], en_train[str(i) + '-gram'], \n",
    "                     en_dev['z-score'], en_dev[str(i) + '-gram'], \n",
    "                     en_test['z-score'], en_test[str(i) + '-gram'], return_corr = True)\n",
    "    en_raw_df = en_raw_df.append({'gram':str(i) + '-gram', 'train_pearson': corr_list[0], 'train_ktau': corr_list[1], \n",
    "                                  'dev_pearson': corr_list[2], 'dev_ktau': corr_list[3]}, ignore_index=True)\n",
    "    \n",
    "print()\n",
    "print('Finnish')\n",
    "for i in range (1, 5):\n",
    "    print(str(i) + '-gram')\n",
    "    corr_list = corr(fin_train['z-score'], fin_train[str(i) + '-gram'], \n",
    "                     fin_dev['z-score'], fin_dev[str(i) + '-gram'], \n",
    "                     fin_test['z-score'], fin_test[str(i) + '-gram'], return_corr = True)\n",
    "    fin_raw_df = fin_raw_df.append({'gram':str(i) + '-gram', 'train_pearson': corr_list[0], 'train_ktau': corr_list[1], \n",
    "                                  'dev_pearson': corr_list[2], 'dev_ktau': corr_list[3]}, ignore_index=True)\n",
    "        \n",
    "print()\n",
    "print('Chinese')\n",
    "for i in range (1, 5):\n",
    "    print(str(i) + '-gram')\n",
    "    corr_list = corr(ch_train['z-score'], ch_train[str(i) + '-gram'], \n",
    "                     ch_dev['z-score'], ch_dev[str(i) + '-gram'], \n",
    "                     ch_test['z-score'], ch_test[str(i) + '-gram'], return_corr = True)\n",
    "    ch_raw_df = ch_raw_df.append({'gram':str(i) + '-gram', 'train_pearson': corr_list[0], 'train_ktau': corr_list[1], \n",
    "                                  'dev_pearson': corr_list[2], 'dev_ktau': corr_list[3]}, ignore_index=True)"
   ]
  },
  {
   "cell_type": "code",
   "execution_count": 14,
   "id": "d780ce89",
   "metadata": {},
   "outputs": [
    {
     "data": {
      "image/png": "[encoded data removed]",
      "text/plain": [
       "<Figure size 720x504 with 1 Axes>"
      ]
     },
     "metadata": {},
     "output_type": "display_data"
    }
   ],
   "source": [
    "sns.set(rc={\"figure.figsize\":(10, 7)})\n",
    "tidy = en_raw_df.melt(id_vars='gram').rename(columns=str.title)\n",
    "fig = sns.barplot(x='Gram', y='Value', hue='Variable', data=tidy)\n",
    "for bar in fig.patches:\n",
    "    fig.annotate(format(bar.get_height(), '.3f'), \n",
    "                       (bar.get_x() + bar.get_width() / 2, \n",
    "                        bar.get_height()), ha='center', va='center',\n",
    "                       size=8, xytext=(0, 8),\n",
    "                       textcoords='offset points')\n",
    "    fig.set_title('BLEU - Original En')"
   ]
  },
  {
   "cell_type": "code",
   "execution_count": 15,
   "id": "2fc62331",
   "metadata": {},
   "outputs": [
    {
     "data": {
      "image/png": "[encoded data removed]",
      "text/plain": [
       "<Figure size 720x504 with 1 Axes>"
      ]
     },
     "metadata": {},
     "output_type": "display_data"
    }
   ],
   "source": [
    "sns.set(rc={\"figure.figsize\":(10, 7)})\n",
    "tidy = fin_raw_df.melt(id_vars='gram').rename(columns=str.title)\n",
    "fig = sns.barplot(x='Gram', y='Value', hue='Variable', data=tidy)\n",
    "for bar in fig.patches:\n",
    "    fig.annotate(format(bar.get_height(), '.3f'), \n",
    "                       (bar.get_x() + bar.get_width() / 2, \n",
    "                        bar.get_height()), ha='center', va='center',\n",
    "                       size=8, xytext=(0, 8),\n",
    "                       textcoords='offset points')\n",
    "    fig.set_title('BLEU - Original Fin')"
   ]
  },
  {
   "cell_type": "code",
   "execution_count": 16,
   "id": "679ef107",
   "metadata": {},
   "outputs": [
    {
     "data": {
      "image/png": "[encoded data removed]",
      "text/plain": [
       "<Figure size 720x504 with 1 Axes>"
      ]
     },
     "metadata": {},
     "output_type": "display_data"
    }
   ],
   "source": [
    "sns.set(rc={\"figure.figsize\":(10, 7)})\n",
    "tidy = ch_raw_df.melt(id_vars='gram').rename(columns=str.title)\n",
    "fig = sns.barplot(x='Gram', y='Value', hue='Variable', data=tidy)\n",
    "for bar in fig.patches:\n",
    "    fig.annotate(format(bar.get_height(), '.3f'), \n",
    "                       (bar.get_x() + bar.get_width() / 2, \n",
    "                        bar.get_height()), ha='center', va='center',\n",
    "                       size=8, xytext=(0, 8),\n",
    "                       textcoords='offset points')\n",
    "    fig.set_title('BLEU - Original Ch')"
   ]
  },
  {
   "cell_type": "markdown",
   "id": "95bf0bcd",
   "metadata": {},
   "source": [
    "# BLEU (cleaned corpora)"
   ]
  },
  {
   "cell_type": "code",
   "execution_count": 43,
   "id": "7491c0a7",
   "metadata": {},
   "outputs": [
    {
     "name": "stdout",
     "output_type": "stream",
     "text": [
      "en_train_clean\n",
      "en_dev_clean\n",
      "en_test_clean\n",
      "fin_train_clean\n",
      "fin_dev_clean\n",
      "fin_test_clean\n",
      "ch_train_clean\n",
      "ch_dev_clean\n",
      "ch_test_clean\n"
     ]
    }
   ],
   "source": [
    "raw_sets = [en_train_clean, en_dev_clean, en_test_clean, fin_train_clean, fin_dev_clean, fin_test_clean, ch_train_clean, ch_dev_clean, ch_test_clean]\n",
    "raw_names = ['en_train_clean', 'en_dev_clean', 'en_test_clean', 'fin_train_clean', 'fin_dev_clean', 'fin_test_clean', 'ch_train_clean', 'ch_dev_clean', 'ch_test_clean']\n",
    "for l in range(len(raw_sets)):\n",
    "    print(raw_names[l])\n",
    "    if l < 6:\n",
    "        for i in range(1, 5):\n",
    "            bleu_score(raw_sets[l], i)\n",
    "    else:\n",
    "        for i in range(1, 5):\n",
    "            bleu_score(raw_sets[l], i, chinese = True)"
   ]
  },
  {
   "cell_type": "code",
   "execution_count": 44,
   "id": "3254abb6",
   "metadata": {
    "scrolled": true
   },
   "outputs": [
    {
     "name": "stdout",
     "output_type": "stream",
     "text": [
      "English\n",
      "1-gram\n",
      "Train - Pearson: 0.3335379856835123; Kendall Tau: 0.22724627315325666\n",
      "Dev - Pearson: 0.32229239245124375; Kendall Tau: 0.21920682720119775\n",
      "Test - Pearson: 0.334963977949431; Kendall Tau: 0.2297474460777964\n",
      "2-gram\n",
      "Train - Pearson: 0.32030299688234554; Kendall Tau: 0.22155027941785801\n",
      "Dev - Pearson: 0.3098865576085551; Kendall Tau: 0.21278971459154958\n",
      "Test - Pearson: 0.31958031029055456; Kendall Tau: 0.22273365849850874\n",
      "3-gram\n",
      "Train - Pearson: 0.29250094174338737; Kendall Tau: 0.20609104529969655\n",
      "Dev - Pearson: 0.2886187932306111; Kendall Tau: 0.20076113395639178\n",
      "Test - Pearson: 0.29696844371001135; Kendall Tau: 0.2081995641782386\n",
      "4-gram\n",
      "Train - Pearson: 0.2579232993909011; Kendall Tau: 0.19041233458306822\n",
      "Dev - Pearson: 0.2520413726044806; Kendall Tau: 0.18441324162827666\n",
      "Test - Pearson: 0.2622925318729431; Kendall Tau: 0.193684816571312\n",
      "\n",
      "Finnish\n",
      "1-gram\n",
      "Train - Pearson: 0.5570731091505412; Kendall Tau: 0.3579980255985664\n",
      "Dev - Pearson: 0.5870844811799091; Kendall Tau: 0.3977119591733919\n",
      "Test - Pearson: 0.5041167003375; Kendall Tau: 0.31984737537164654\n",
      "2-gram\n",
      "Train - Pearson: 0.5018023875615459; Kendall Tau: 0.3423162630165364\n",
      "Dev - Pearson: 0.5326360395816248; Kendall Tau: 0.368731083067777\n",
      "Test - Pearson: 0.44876921131357994; Kendall Tau: 0.29815013198766\n",
      "3-gram\n",
      "Train - Pearson: 0.41057213278130916; Kendall Tau: 0.31345475201927736\n",
      "Dev - Pearson: 0.44340155500862977; Kendall Tau: 0.33213714617957546\n",
      "Test - Pearson: 0.36073661228637877; Kendall Tau: 0.2677023694379431\n",
      "4-gram\n",
      "Train - Pearson: 0.3408989922402146; Kendall Tau: 0.29744675005754395\n",
      "Dev - Pearson: 0.3499582761047969; Kendall Tau: 0.30651056239246344\n",
      "Test - Pearson: 0.3182494140932086; Kendall Tau: 0.2534341945242485\n",
      "\n",
      "Chinese\n",
      "1-gram\n",
      "Train - Pearson: 0.3321741316929579; Kendall Tau: 0.22575851977452063\n",
      "Dev - Pearson: 0.36170859452774984; Kendall Tau: 0.25485738434809707\n",
      "Test - Pearson: 0.3566673215925983; Kendall Tau: 0.2616582530664564\n",
      "2-gram\n",
      "Train - Pearson: 0.3967469111835905; Kendall Tau: 0.2605596442284607\n",
      "Dev - Pearson: 0.42355260621237745; Kendall Tau: 0.28978386091056013\n",
      "Test - Pearson: 0.4250527882389878; Kendall Tau: 0.29415145681967814\n",
      "3-gram\n",
      "Train - Pearson: 0.3929524968833039; Kendall Tau: 0.26572986751876193\n",
      "Dev - Pearson: 0.4076838858892239; Kendall Tau: 0.2855644340158522\n",
      "Test - Pearson: 0.4200273281847648; Kendall Tau: 0.29617084696675205\n",
      "4-gram\n",
      "Train - Pearson: 0.37453745038991326; Kendall Tau: 0.2641336282677931\n",
      "Dev - Pearson: 0.3767725795613108; Kendall Tau: 0.27305194785255027\n",
      "Test - Pearson: 0.39179008110554203; Kendall Tau: 0.28751178008956546\n"
     ]
    }
   ],
   "source": [
    "en_clean_df = pd.DataFrame(columns= ['gram', 'train_pearson', 'train_ktau', 'dev_pearson', 'dev_ktau'])\n",
    "fin_clean_df = en_clean_df.copy()\n",
    "ch_clean_df = en_clean_df.copy()\n",
    "print('English')\n",
    "for i in range (1, 5):\n",
    "    print(str(i) + '-gram')\n",
    "    corr_list = corr(en_train_clean['z-score'], en_train_clean[str(i) + '-gram'], \n",
    "                     en_dev_clean['z-score'], en_dev_clean[str(i) + '-gram'], \n",
    "                     en_test_clean['z-score'], en_test_clean[str(i) + '-gram'], return_corr = True)\n",
    "    en_clean_df = en_clean_df.append({'gram':str(i) + '-gram', 'train_pearson': corr_list[0], 'train_ktau': corr_list[1], \n",
    "                                  'dev_pearson': corr_list[2], 'dev_ktau': corr_list[3]}, ignore_index=True)\n",
    "    \n",
    "print()\n",
    "print('Finnish')\n",
    "for i in range (1, 5):\n",
    "    print(str(i) + '-gram')\n",
    "    corr_list = corr(fin_train_clean['z-score'], fin_train_clean[str(i) + '-gram'], \n",
    "                     fin_dev_clean['z-score'], fin_dev_clean[str(i) + '-gram'], \n",
    "                     fin_test_clean['z-score'], fin_test_clean[str(i) + '-gram'], return_corr = True)\n",
    "    fin_clean_df = fin_clean_df.append({'gram':str(i) + '-gram', 'train_pearson': corr_list[0], 'train_ktau': corr_list[1], \n",
    "                                  'dev_pearson': corr_list[2], 'dev_ktau': corr_list[3]}, ignore_index=True)\n",
    "print()\n",
    "print('Chinese')\n",
    "for i in range (1, 5):\n",
    "    print(str(i) + '-gram')\n",
    "    corr_list = corr(ch_train_clean['z-score'], ch_train_clean[str(i) + '-gram'], \n",
    "                     ch_dev_clean['z-score'], ch_dev_clean[str(i) + '-gram'], \n",
    "                     ch_test_clean['z-score'], ch_test_clean[str(i) + '-gram'], return_corr = True)\n",
    "    ch_clean_df = ch_clean_df.append({'gram':str(i) + '-gram', 'train_pearson': corr_list[0], 'train_ktau': corr_list[1], \n",
    "                                  'dev_pearson': corr_list[2], 'dev_ktau': corr_list[3]}, ignore_index=True)"
   ]
  },
  {
   "cell_type": "code",
   "execution_count": 19,
   "id": "7846cdd9",
   "metadata": {},
   "outputs": [
    {
     "data": {
      "image/png": "[encoded data removed]",
      "text/plain": [
       "<Figure size 720x504 with 1 Axes>"
      ]
     },
     "metadata": {},
     "output_type": "display_data"
    }
   ],
   "source": [
    "sns.set(rc={\"figure.figsize\":(10, 7)})\n",
    "tidy = en_clean_df.melt(id_vars='gram').rename(columns=str.title)\n",
    "fig = sns.barplot(x='Gram', y='Value', hue='Variable', data=tidy)\n",
    "for bar in fig.patches:\n",
    "    fig.annotate(format(bar.get_height(), '.3f'), \n",
    "                       (bar.get_x() + bar.get_width() / 2, \n",
    "                        bar.get_height()), ha='center', va='center',\n",
    "                       size=8, xytext=(0, 8),\n",
    "                       textcoords='offset points')\n",
    "    fig.set_title('BLEU - Cleaned En')"
   ]
  },
  {
   "cell_type": "code",
   "execution_count": 20,
   "id": "01a1f61c",
   "metadata": {},
   "outputs": [
    {
     "data": {
      "image/png": "[encoded data removed]",
      "text/plain": [
       "<Figure size 720x504 with 1 Axes>"
      ]
     },
     "metadata": {},
     "output_type": "display_data"
    }
   ],
   "source": [
    "sns.set(rc={\"figure.figsize\":(10, 7)})\n",
    "tidy = fin_clean_df.melt(id_vars='gram').rename(columns=str.title)\n",
    "fig = sns.barplot(x='Gram', y='Value', hue='Variable', data=tidy)\n",
    "for bar in fig.patches:\n",
    "    fig.annotate(format(bar.get_height(), '.3f'), \n",
    "                       (bar.get_x() + bar.get_width() / 2, \n",
    "                        bar.get_height()), ha='center', va='center',\n",
    "                       size=8, xytext=(0, 8),\n",
    "                       textcoords='offset points')\n",
    "    fig.set_title('BLEU - Cleaned Fin')"
   ]
  },
  {
   "cell_type": "code",
   "execution_count": 21,
   "id": "a4b27118",
   "metadata": {},
   "outputs": [
    {
     "data": {
      "image/png": "[encoded data removed]",
      "text/plain": [
       "<Figure size 720x504 with 1 Axes>"
      ]
     },
     "metadata": {},
     "output_type": "display_data"
    }
   ],
   "source": [
    "sns.set(rc={\"figure.figsize\":(10, 7)})\n",
    "tidy = ch_clean_df.melt(id_vars='gram').rename(columns=str.title)\n",
    "fig = sns.barplot(x='Gram', y='Value', hue='Variable', data=tidy)\n",
    "for bar in fig.patches:\n",
    "    fig.annotate(format(bar.get_height(), '.3f'), \n",
    "                       (bar.get_x() + bar.get_width() / 2, \n",
    "                        bar.get_height()), ha='center', va='center',\n",
    "                       size=8, xytext=(0, 8),\n",
    "                       textcoords='offset points')\n",
    "    fig.set_title('BLEU - Cleaned Ch')"
   ]
  },
  {
   "cell_type": "markdown",
   "id": "f694cc9d",
   "metadata": {},
   "source": [
    "# Test set prediction"
   ]
  },
  {
   "cell_type": "code",
   "execution_count": 13,
   "id": "4390412d",
   "metadata": {},
   "outputs": [
    {
     "data": {
      "text/html": [
       "<div>\n",
       "<style scoped>\n",
       "    .dataframe tbody tr th:only-of-type {\n",
       "        vertical-align: middle;\n",
       "    }\n",
       "\n",
       "    .dataframe tbody tr th {\n",
       "        vertical-align: top;\n",
       "    }\n",
       "\n",
       "    .dataframe thead th {\n",
       "        text-align: right;\n",
       "    }\n",
       "</style>\n",
       "<table border=\"1\" class=\"dataframe\">\n",
       "  <thead>\n",
       "    <tr style=\"text-align: right;\">\n",
       "      <th></th>\n",
       "      <th>source</th>\n",
       "      <th>reference</th>\n",
       "      <th>translation</th>\n",
       "    </tr>\n",
       "  </thead>\n",
       "  <tbody>\n",
       "    <tr>\n",
       "      <th>0</th>\n",
       "      <td>One local resident who did not wish to be name...</td>\n",
       "      <td>Eräs paikallinen asukas, joka ei halunnut nime...</td>\n",
       "      <td>Toisen nimettömänä pysyttelevän asukkaan mukaa...</td>\n",
       "    </tr>\n",
       "    <tr>\n",
       "      <th>1</th>\n",
       "      <td>Still, she clings to a chant she's committed t...</td>\n",
       "      <td>Silti hän takertuu chant hän on sitoutunut mui...</td>\n",
       "      <td>Silti hän luottaa edelleen iskulauseeseen, jon...</td>\n",
       "    </tr>\n",
       "    <tr>\n",
       "      <th>2</th>\n",
       "      <td>I don't want to be asked, 'What were you doing...</td>\n",
       "      <td>En halua, että minulta kysytään: \"Mitä te teit...</td>\n",
       "      <td>En halua, että kenenkään tarvitsee kysyä minul...</td>\n",
       "    </tr>\n",
       "    <tr>\n",
       "      <th>3</th>\n",
       "      <td>\"I wouldn't say it was a lie – that's a pretty...</td>\n",
       "      <td>\"En sanoisi, että se oli valhe - se on aika ro...</td>\n",
       "      <td>En sanoisi, että se oli valhe, se on aika kova...</td>\n",
       "    </tr>\n",
       "    <tr>\n",
       "      <th>4</th>\n",
       "      <td>Kari Kola took part in the opening ceremony of...</td>\n",
       "      <td>Kari Kola osallistui valon vuoden avajaisiin v...</td>\n",
       "      <td>Kari Kola oli mukana Valon teemavuoden avajais...</td>\n",
       "    </tr>\n",
       "  </tbody>\n",
       "</table>\n",
       "</div>"
      ],
      "text/plain": [
       "                                              source  \\\n",
       "0  One local resident who did not wish to be name...   \n",
       "1  Still, she clings to a chant she's committed t...   \n",
       "2  I don't want to be asked, 'What were you doing...   \n",
       "3  \"I wouldn't say it was a lie – that's a pretty...   \n",
       "4  Kari Kola took part in the opening ceremony of...   \n",
       "\n",
       "                                           reference  \\\n",
       "0  Eräs paikallinen asukas, joka ei halunnut nime...   \n",
       "1  Silti hän takertuu chant hän on sitoutunut mui...   \n",
       "2  En halua, että minulta kysytään: \"Mitä te teit...   \n",
       "3  \"En sanoisi, että se oli valhe - se on aika ro...   \n",
       "4  Kari Kola osallistui valon vuoden avajaisiin v...   \n",
       "\n",
       "                                         translation  \n",
       "0  Toisen nimettömänä pysyttelevän asukkaan mukaa...  \n",
       "1  Silti hän luottaa edelleen iskulauseeseen, jon...  \n",
       "2  En halua, että kenenkään tarvitsee kysyä minul...  \n",
       "3  En sanoisi, että se oli valhe, se on aika kova...  \n",
       "4  Kari Kola oli mukana Valon teemavuoden avajais...  "
      ]
     },
     "execution_count": 13,
     "metadata": {},
     "output_type": "execute_result"
    }
   ],
   "source": [
    "testFin = pd.read_csv('testset/en-fi/scores.csv')\n",
    "testFin.head()"
   ]
  },
  {
   "cell_type": "code",
   "execution_count": 14,
   "id": "d1547dfe",
   "metadata": {},
   "outputs": [
    {
     "data": {
      "text/html": [
       "<div>\n",
       "<style scoped>\n",
       "    .dataframe tbody tr th:only-of-type {\n",
       "        vertical-align: middle;\n",
       "    }\n",
       "\n",
       "    .dataframe tbody tr th {\n",
       "        vertical-align: top;\n",
       "    }\n",
       "\n",
       "    .dataframe thead th {\n",
       "        text-align: right;\n",
       "    }\n",
       "</style>\n",
       "<table border=\"1\" class=\"dataframe\">\n",
       "  <thead>\n",
       "    <tr style=\"text-align: right;\">\n",
       "      <th></th>\n",
       "      <th>reference</th>\n",
       "      <th>translation</th>\n",
       "    </tr>\n",
       "  </thead>\n",
       "  <tbody>\n",
       "    <tr>\n",
       "      <th>0</th>\n",
       "      <td>er s paikallin asukas joka ei halunu nime n sa...</td>\n",
       "      <td>toise nimet m n pysyttelev n asuk muka on naur...</td>\n",
       "    </tr>\n",
       "    <tr>\n",
       "      <th>1</th>\n",
       "      <td>silt h n takertu chant h n on sitoutunu muist ...</td>\n",
       "      <td>silt h n luot ede iskulaus jonk h n op ulko fe...</td>\n",
       "    </tr>\n",
       "    <tr>\n",
       "      <th>2</th>\n",
       "      <td>en halu et minu kysy n mit te teit niin suure ...</td>\n",
       "      <td>en halu et kenenk n tarvits kysy minu mis ol k...</td>\n",
       "    </tr>\n",
       "    <tr>\n",
       "      <th>3</th>\n",
       "      <td>en sanoi et se oli valh se on aika rohk syyt s</td>\n",
       "      <td>en sanoi et se oli valh se on aika kova syyt s</td>\n",
       "    </tr>\n",
       "    <tr>\n",
       "      <th>4</th>\n",
       "      <td>kari kola osallistui valo vuode avaj vuon xxx ...</td>\n",
       "      <td>kari kola oli muka valo teemavuod avajais vuon...</td>\n",
       "    </tr>\n",
       "  </tbody>\n",
       "</table>\n",
       "</div>"
      ],
      "text/plain": [
       "                                           reference  \\\n",
       "0  er s paikallin asukas joka ei halunu nime n sa...   \n",
       "1  silt h n takertu chant h n on sitoutunu muist ...   \n",
       "2  en halu et minu kysy n mit te teit niin suure ...   \n",
       "3     en sanoi et se oli valh se on aika rohk syyt s   \n",
       "4  kari kola osallistui valo vuode avaj vuon xxx ...   \n",
       "\n",
       "                                         translation  \n",
       "0  toise nimet m n pysyttelev n asuk muka on naur...  \n",
       "1  silt h n luot ede iskulaus jonk h n op ulko fe...  \n",
       "2  en halu et kenenk n tarvits kysy minu mis ol k...  \n",
       "3     en sanoi et se oli valh se on aika kova syyt s  \n",
       "4  kari kola oli muka valo teemavuod avajais vuon...  "
      ]
     },
     "execution_count": 14,
     "metadata": {},
     "output_type": "execute_result"
    }
   ],
   "source": [
    "# Cleaning\n",
    "test_fin = pd.DataFrame()\n",
    "for c in ['reference', 'translation']:\n",
    "    test_fin[c] = clean(testFin[c],\n",
    "                             lower = False,\n",
    "                             keep_numbers = False,\n",
    "                             keep_expression = True,\n",
    "                             remove_char = True,\n",
    "                             remove_stop = False,\n",
    "                             remove_tag = True,\n",
    "                             lemmatize = False,\n",
    "                             stemmer = True,\n",
    "                             english=False)\n",
    "test_fin.head()"
   ]
  },
  {
   "cell_type": "code",
   "execution_count": 15,
   "id": "6ee09096",
   "metadata": {},
   "outputs": [
    {
     "data": {
      "text/html": [
       "<div>\n",
       "<style scoped>\n",
       "    .dataframe tbody tr th:only-of-type {\n",
       "        vertical-align: middle;\n",
       "    }\n",
       "\n",
       "    .dataframe tbody tr th {\n",
       "        vertical-align: top;\n",
       "    }\n",
       "\n",
       "    .dataframe thead th {\n",
       "        text-align: right;\n",
       "    }\n",
       "</style>\n",
       "<table border=\"1\" class=\"dataframe\">\n",
       "  <thead>\n",
       "    <tr style=\"text-align: right;\">\n",
       "      <th></th>\n",
       "      <th>reference</th>\n",
       "      <th>translation</th>\n",
       "      <th>metric</th>\n",
       "    </tr>\n",
       "  </thead>\n",
       "  <tbody>\n",
       "    <tr>\n",
       "      <th>0</th>\n",
       "      <td>er s paikallin asukas joka ei halunu nime n sa...</td>\n",
       "      <td>toise nimet m n pysyttelev n asuk muka on naur...</td>\n",
       "      <td>0.230011</td>\n",
       "    </tr>\n",
       "    <tr>\n",
       "      <th>1</th>\n",
       "      <td>silt h n takertu chant h n on sitoutunu muist ...</td>\n",
       "      <td>silt h n luot ede iskulaus jonk h n op ulko fe...</td>\n",
       "      <td>0.429556</td>\n",
       "    </tr>\n",
       "    <tr>\n",
       "      <th>2</th>\n",
       "      <td>en halu et minu kysy n mit te teit niin suure ...</td>\n",
       "      <td>en halu et kenenk n tarvits kysy minu mis ol k...</td>\n",
       "      <td>0.454545</td>\n",
       "    </tr>\n",
       "    <tr>\n",
       "      <th>3</th>\n",
       "      <td>en sanoi et se oli valh se on aika rohk syyt s</td>\n",
       "      <td>en sanoi et se oli valh se on aika kova syyt s</td>\n",
       "      <td>0.916667</td>\n",
       "    </tr>\n",
       "    <tr>\n",
       "      <th>4</th>\n",
       "      <td>kari kola osallistui valo vuode avaj vuon xxx ...</td>\n",
       "      <td>kari kola oli muka valo teemavuod avajais vuon...</td>\n",
       "      <td>0.550000</td>\n",
       "    </tr>\n",
       "    <tr>\n",
       "      <th>...</th>\n",
       "      <td>...</td>\n",
       "      <td>...</td>\n",
       "      <td>...</td>\n",
       "    </tr>\n",
       "    <tr>\n",
       "      <th>8092</th>\n",
       "      <td>duba siviilipuolustusviranomaist muka palomieh...</td>\n",
       "      <td>duba pelastusviranomaist muka sammutusjouko sa...</td>\n",
       "      <td>0.333333</td>\n",
       "    </tr>\n",
       "    <tr>\n",
       "      <th>8093</th>\n",
       "      <td>mut useim nykyaj el ime jotk ova vastapaino aj...</td>\n",
       "      <td>nykyisist el imist esimerk peuro seepro ja arm...</td>\n",
       "      <td>0.172306</td>\n",
       "    </tr>\n",
       "    <tr>\n",
       "      <th>8094</th>\n",
       "      <td>tom h nen puoliso riina ja heid n kaks pient l...</td>\n",
       "      <td>tom h nen avopuoliso riina ja pariskun kaks pi...</td>\n",
       "      <td>0.658375</td>\n",
       "    </tr>\n",
       "    <tr>\n",
       "      <th>8095</th>\n",
       "      <td>sitkei ulko uintikoululais imatr ei huole jos ...</td>\n",
       "      <td>imatr sinnik it rantauimakoululais ei hetkau s...</td>\n",
       "      <td>0.263158</td>\n",
       "    </tr>\n",
       "    <tr>\n",
       "      <th>8096</th>\n",
       "      <td>kun h nen teht v ns lin ohi rhodes on mets st ...</td>\n",
       "      <td>nyt rhodes hake uus kirjoituskokemuks</td>\n",
       "      <td>0.012162</td>\n",
       "    </tr>\n",
       "  </tbody>\n",
       "</table>\n",
       "<p>8097 rows × 3 columns</p>\n",
       "</div>"
      ],
      "text/plain": [
       "                                              reference  \\\n",
       "0     er s paikallin asukas joka ei halunu nime n sa...   \n",
       "1     silt h n takertu chant h n on sitoutunu muist ...   \n",
       "2     en halu et minu kysy n mit te teit niin suure ...   \n",
       "3        en sanoi et se oli valh se on aika rohk syyt s   \n",
       "4     kari kola osallistui valo vuode avaj vuon xxx ...   \n",
       "...                                                 ...   \n",
       "8092  duba siviilipuolustusviranomaist muka palomieh...   \n",
       "8093  mut useim nykyaj el ime jotk ova vastapaino aj...   \n",
       "8094  tom h nen puoliso riina ja heid n kaks pient l...   \n",
       "8095  sitkei ulko uintikoululais imatr ei huole jos ...   \n",
       "8096  kun h nen teht v ns lin ohi rhodes on mets st ...   \n",
       "\n",
       "                                            translation    metric  \n",
       "0     toise nimet m n pysyttelev n asuk muka on naur...  0.230011  \n",
       "1     silt h n luot ede iskulaus jonk h n op ulko fe...  0.429556  \n",
       "2     en halu et kenenk n tarvits kysy minu mis ol k...  0.454545  \n",
       "3        en sanoi et se oli valh se on aika kova syyt s  0.916667  \n",
       "4     kari kola oli muka valo teemavuod avajais vuon...  0.550000  \n",
       "...                                                 ...       ...  \n",
       "8092  duba pelastusviranomaist muka sammutusjouko sa...  0.333333  \n",
       "8093  nykyisist el imist esimerk peuro seepro ja arm...  0.172306  \n",
       "8094  tom h nen avopuoliso riina ja pariskun kaks pi...  0.658375  \n",
       "8095  imatr sinnik it rantauimakoululais ei hetkau s...  0.263158  \n",
       "8096              nyt rhodes hake uus kirjoituskokemuks  0.012162  \n",
       "\n",
       "[8097 rows x 3 columns]"
      ]
     },
     "execution_count": 15,
     "metadata": {},
     "output_type": "execute_result"
    }
   ],
   "source": [
    "bleu_score(test_fin, 1)\n",
    "test_fin.rename(columns={'1-gram': 'metric'})"
   ]
  },
  {
   "cell_type": "code",
   "execution_count": 17,
   "id": "1d55a333",
   "metadata": {},
   "outputs": [],
   "source": [
    "test_fin.to_csv('test_scores/en-fi_metric_scores.csv')"
   ]
  },
  {
   "cell_type": "code",
   "execution_count": null,
   "id": "b6c9a204",
   "metadata": {},
   "outputs": [],
   "source": []
  }
 ],
 "metadata": {
  "kernelspec": {
   "display_name": "Python 3",
   "language": "python",
   "name": "python3"
  },
  "language_info": {
   "codemirror_mode": {
    "name": "ipython",
    "version": 3
   },
   "file_extension": ".py",
   "mimetype": "text/x-python",
   "name": "python",
   "nbconvert_exporter": "python",
   "pygments_lexer": "ipython3",
   "version": "3.8.8"
  }
 },
 "nbformat": 4,
 "nbformat_minor": 5
}
