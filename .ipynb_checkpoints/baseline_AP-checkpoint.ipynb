{
 "cells": [
  {
   "cell_type": "code",
   "execution_count": null,
   "id": "1705b0f0",
   "metadata": {},
   "outputs": [],
   "source": [
    "from nltk.corpus import stopwords\n",
    "from nltk.stem.wordnet import WordNetLemmatizer\n",
    "from nltk.tokenize import word_tokenize\n",
    "from nltk.corpus import wordnet\n",
    "from nltk.stem import SnowballStemmer\n",
    "from bs4 import BeautifulSoup\n",
    "from tqdm.notebook import tqdm\n",
    "import re\n",
    "import string\n",
    "import nltk\n",
    "import pandas as pd\n",
    "import os\n",
    "import numpy as np\n",
    "import matplotlib.pyplot as plt\n",
    "from sklearn.preprocessing import MinMaxScaler\n",
    "from sklearn.model_selection import train_test_split\n",
    "from sklearn.feature_extraction.text import CountVectorizer\n",
    "from sklearn.metrics.pairwise import cosine_similarity\n",
    "from scipy.stats import pearsonr, kendalltau\n",
    "import libvoikko"
   ]
  },
  {
   "cell_type": "code",
   "execution_count": null,
   "id": "873d7029",
   "metadata": {},
   "outputs": [],
   "source": [
    "exclude = set(string.punctuation)"
   ]
  },
  {
   "cell_type": "code",
   "execution_count": null,
   "id": "fdcce188",
   "metadata": {},
   "outputs": [],
   "source": [
    "# !pip install libvoikko\n",
    "# !pip install voikko"
   ]
  },
  {
   "cell_type": "markdown",
   "id": "ce514b72",
   "metadata": {
    "id": "jA_9c3SpLTUn"
   },
   "source": [
    "# Data Importing and Sorting"
   ]
  },
  {
   "cell_type": "code",
   "execution_count": null,
   "id": "bb58d83f",
   "metadata": {
    "id": "nU_gOCWtF8XY"
   },
   "outputs": [],
   "source": [
    "files = os.listdir('corpus')\n",
    "files.remove('.DS_Store')\n",
    "files.remove('scores_ru-en.csv')\n",
    "scaler = MinMaxScaler()\n",
    "for file_ in files:\n",
    "  name = file_.split('-')[0] + file_.split('-')[1]\n",
    "  vars()[name] = pd.read_csv(os.path.join('corpus', file_, 'scores.csv'))\n",
    "  vars()[name].drop(columns = ['source', 'annotators', 'z-score'], inplace = True)\n",
    "  vars()[name]['avg-score'] = scaler.fit_transform(vars()[name]['avg-score'].values.reshape(-1,1)) #normalizing values betwewen 0 and 1"
   ]
  },
  {
   "cell_type": "code",
   "execution_count": null,
   "id": "9f1ef1c2",
   "metadata": {
    "id": "EcUEx6elHvwd"
   },
   "outputs": [],
   "source": [
    "english = csen.copy()\n",
    "for df in [deen, ruen, zhen]:\n",
    "  english = english.append(df)"
   ]
  },
  {
   "cell_type": "code",
   "execution_count": null,
   "id": "074be1cf",
   "metadata": {
    "id": "8ziEKCv4LFwE"
   },
   "outputs": [],
   "source": [
    "finnish = enfi.copy()\n",
    "chinese = enzh.copy()"
   ]
  },
  {
   "cell_type": "code",
   "execution_count": null,
   "id": "8ddc2095",
   "metadata": {},
   "outputs": [],
   "source": [
    "english.reset_index(drop = True, inplace = True)"
   ]
  },
  {
   "cell_type": "markdown",
   "id": "a5db87e2",
   "metadata": {},
   "source": [
    "# Baseline assessment before preprocessment"
   ]
  },
  {
   "cell_type": "markdown",
   "id": "a99c246d",
   "metadata": {},
   "source": [
    "### Finnish & Chinese"
   ]
  },
  {
   "cell_type": "code",
   "execution_count": null,
   "id": "1932053c",
   "metadata": {},
   "outputs": [],
   "source": [
    "# Train, Validation & Test split\n",
    "# en_train, en_dev = train_test_split(english, shuffle = True, test_size = 0.2, random_state = 7)\n",
    "# en_dev, en_test = train_test_split(en_dev, shuffle = True, test_size = 0.5, random_state = 7)\n",
    "\n",
    "fin_train, fin_dev = train_test_split(finnish, shuffle = True, test_size = 0.2, random_state = 7)\n",
    "fin_dev, fin_test = train_test_split(fin_dev, shuffle = True, test_size = 0.5, random_state = 7)\n",
    "\n",
    "ch_train, ch_dev = train_test_split(chinese, shuffle = True, test_size = 0.2, random_state = 7)\n",
    "ch_dev, ch_test = train_test_split(ch_dev, shuffle = True, test_size = 0.5, random_state = 7)"
   ]
  },
  {
   "cell_type": "code",
   "execution_count": null,
   "id": "af021ddf",
   "metadata": {},
   "outputs": [],
   "source": [
    "# Transform dataset into a bag of words\n",
    "baseline_encoder = CountVectorizer(max_features = 5000)#settting limit for computational reasons\n",
    "names = ['fin_train', 'fin_dev', 'fin_test', 'ch_train', 'ch_dev', 'ch_test']\n",
    "for i,df in enumerate([fin_train, fin_dev, fin_test, ch_train, ch_dev, ch_test]):\n",
    "    for column in ['reference', 'translation']:\n",
    "        encoded_df = names[i] + '_bl_encoded_' + column\n",
    "        if i == 0:\n",
    "            vars()[encoded_df] = baseline_encoder.fit_transform(df[column]).todense()\n",
    "        else:\n",
    "            vars()[encoded_df] = baseline_encoder.transform(df[column]).todense()\n",
    "            \n",
    "    y_name = 'y_' + names[i]\n",
    "    vars()[y_name] = np.array(df['avg-score'])"
   ]
  },
  {
   "cell_type": "code",
   "execution_count": null,
   "id": "c9401543",
   "metadata": {},
   "outputs": [],
   "source": [
    "# Merge reference and translation\n",
    "fin_train_bl_encoded = np.hstack((fin_train_bl_encoded_reference, fin_train_bl_encoded_translation))\n",
    "fin_dev_bl_encoded = np.hstack((fin_dev_bl_encoded_reference, fin_dev_bl_encoded_translation))\n",
    "\n",
    "ch_train_bl_encoded = np.hstack((ch_train_bl_encoded_reference, ch_train_bl_encoded_translation))\n",
    "ch_dev_bl_encoded = np.hstack((ch_dev_bl_encoded_reference, ch_dev_bl_encoded_translation))\n",
    "\n",
    "baseline_regressor = LinearRegression()\n",
    "\n",
    "baseline_regressor.fit(fin_train_bl_encoded, y_fin_train)\n",
    "baseline_regressor.fit(ch_train_bl_encoded, y_ch_train)"
   ]
  },
  {
   "cell_type": "code",
   "execution_count": null,
   "id": "022a7a67",
   "metadata": {},
   "outputs": [],
   "source": [
    "cos_dev = []\n",
    "for i in range(fin_dev_bl_encoded_reference.shape[0]):\n",
    "    cos_dev.append(cosine_similarity(fin_dev_bl_encoded_reference[i], fin_dev_bl_encoded_translation[i])[0])\n",
    "cos_dev = np.array(cos_dev)\n",
    "cos_dev.shape = (cos_dev.shape[0],)"
   ]
  },
  {
   "cell_type": "code",
   "execution_count": null,
   "id": "d42c1d63",
   "metadata": {},
   "outputs": [],
   "source": []
  },
  {
   "cell_type": "markdown",
   "id": "e17c2d59",
   "metadata": {},
   "source": [
    "# Cleaning the corpus"
   ]
  },
  {
   "cell_type": "code",
   "execution_count": null,
   "id": "50996387",
   "metadata": {},
   "outputs": [],
   "source": [
    "def clean(text_list,\n",
    "          lower = False,\n",
    "          keep_numbers = False,\n",
    "          keep_expression = False,\n",
    "          remove_char = False,\n",
    "          remove_stop = False,\n",
    "          remove_tag = False,\n",
    "          lemmatize = False,\n",
    "          stemmer = False,\n",
    "          english = True\n",
    "          ):\n",
    "    \"\"\"\n",
    "    Function that a receives a list of strings and preprocesses it.\n",
    "    \n",
    "    :param text_list: List of strings.\n",
    "    :param lemmatize: Tag to apply lemmatization if True.\n",
    "    :param stemmer: Tag to apply the stemmer if True.\n",
    "    \"\"\"\n",
    "    if english:\n",
    "        lang = 'english'\n",
    "    else:\n",
    "        lang = 'finnish'\n",
    "    \n",
    "    stop = set(stopwords.words(lang))\n",
    "    stem = SnowballStemmer(lang)\n",
    "    \n",
    "    updates = []\n",
    "    for j in tqdm(range(len(text_list))):\n",
    "        \n",
    "        text = text_list[j]\n",
    "        \n",
    "        #LOWERCASE TEXT\n",
    "        if lower:\n",
    "            text = text.lower()\n",
    "            \n",
    "        #KEEP NUMBERS AS TOKENS\n",
    "        if keep_numbers:\n",
    "            text = re.sub(\"[\\d+]\", 'NUMBER', text)\n",
    "        \n",
    "        #KEEP '?' and '!' AS TOKENS\n",
    "        if keep_expression:\n",
    "            text = re.sub(\"[\\?|\\!]\", 'EXPRESSION', text)\n",
    "            \n",
    "        #REMOVE THAT IS NOT TEXT\n",
    "        if remove_char:\n",
    "            text = re.sub(\"[^a-zA-Z]\", ' ', text)\n",
    "            \n",
    "        #REMOVE TAGS\n",
    "        if remove_tag:\n",
    "            text = BeautifulSoup(text).get_text()\n",
    "        \n",
    "        #REMOVE STOP WORDS\n",
    "        if remove_stop:\n",
    "            text = ' '.join([word for word in text.split(' ') if word not in stop])\n",
    "        \n",
    "        #LEMMATIZATION\n",
    "        if lemmatize:\n",
    "            if english:\n",
    "                lemma = WordNetLemmatizer()\n",
    "                text = \" \".join(lemma.lemmatize(word) for word in text.split())\n",
    "#             else:\n",
    "#                 lemma = libvoikko.Voikko(u\"fi\")\n",
    "#                 text = \" \".join(lemma.analyze(word)[0]['BASEFORM'] for word in text.split())\n",
    "        \n",
    "        #STEMMER\n",
    "        if stemmer:\n",
    "            text = \" \".join(stem.stem(word) for word in text.split())\n",
    "        \n",
    "        updates.append(text)\n",
    "        \n",
    "    return updates\n",
    "\n",
    "def clean_zh_stopwords(text_list, keep_numbers=False, remove_punctuation=False, remove_stop = False, stopwords_set='merged'):\n",
    "    \"\"\"\n",
    "    Function that removes chinese stopwords\n",
    "    \n",
    "    :param stopwords_set: remove words of both sets (merged), just the 1st (fst) or just the second (snd) \n",
    "    \"\"\"\n",
    "    updates = []\n",
    "    \n",
    "    zh_stopwords1 = [line.strip() for line in open('chinese_stopwords/chinese_stopwords1.txt', 'r', encoding='utf-8').readlines()]\n",
    "    zh_stopwords2 = [line.strip() for line in open('chinese_stopwords/chinese_stopwords2.txt', 'r', encoding='utf-8').readlines()]\n",
    "    \n",
    "    if stopwords_set == 'merged':\n",
    "        stop = list(set(zh_stopwords1 + zh_stopwords2))\n",
    "    elif stopwords_set == 'fst':\n",
    "        stop = zh_stopwords1\n",
    "    elif stopwords_set == 'snd':\n",
    "        stop = zh_stopwords2\n",
    "        \n",
    "\n",
    "    for j in tqdm(range(len(text_list))):\n",
    "        \n",
    "        text = text_list[j]\n",
    "        \n",
    "        #KEEP NUMBERS AS TOKENS\n",
    "        if keep_numbers:\n",
    "            text = re.sub(\"[\\d+]\", 'NUMBER', text)\n",
    "        \n",
    "        # REMOVE PUNCTUATION\n",
    "        if remove_punctuation:\n",
    "            # https://stackoverflow.com/questions/36640587/how-to-remove-chinese-punctuation-in-python\n",
    "            punc = \"！？｡。＂＃＄％＆＇（）＊＋，－／：；＜＝＞＠［＼］＾＿｀｛｜｝～｟｠｢｣､、〃》「」『』【】〔〕〖〗〘〙〚〛〜〝〞〟〰〾〿–—‘’‛“”„‟…‧﹏.\"\n",
    "            text = re.sub(r\"[%s]+\" %punc, \"\", text)\n",
    "            \n",
    "        # REMOVE STOP WORDS\n",
    "        if remove_stop:\n",
    "            text = ' '.join([word for word in text.split(' ') if word not in stop])\n",
    "            updates.append(text)\n",
    "        \n",
    "    return updates\n",
    "        \n",
    "    \n",
    "def update_df(dataframe, list_updated):\n",
    "    dataframe.update(pd.DataFrame({\"Text\": list_updated}))"
   ]
  },
  {
   "cell_type": "code",
   "execution_count": null,
   "id": "27c8a23f",
   "metadata": {},
   "outputs": [],
   "source": [
    "# english_cleaned = pd.DataFrame()\n",
    "# english_cleaned['avg-score'] = english['avg-score']\n",
    "# for column in ['reference', 'translation']:\n",
    "#     english_cleaned[column] = clean(english[column], lower = True, \n",
    "#                                                     remove_char = True,\n",
    "#                                                     remove_stop = True,\n",
    "#                                                     lemmatize = True,\n",
    "#                                                     stemmer = False)"
   ]
  },
  {
   "cell_type": "code",
   "execution_count": null,
   "id": "5d55d1fb",
   "metadata": {},
   "outputs": [],
   "source": [
    "# english_cleaned.head()"
   ]
  },
  {
   "cell_type": "code",
   "execution_count": null,
   "id": "76568a02",
   "metadata": {},
   "outputs": [],
   "source": [
    "finnish_cleaned = pd.DataFrame()\n",
    "finnish_cleaned['avg-score'] = finnish['avg-score']\n",
    "for column in ['reference', 'translation']:\n",
    "    finnish_cleaned[column] = clean(finnish[column], lower = True, \n",
    "                                                    remove_char = True,\n",
    "                                                    lemmatize = True,\n",
    "                                                    stemmer = False,\n",
    "                                                    english=False)\n",
    "finnish_cleaned.head()"
   ]
  },
  {
   "cell_type": "code",
   "execution_count": null,
   "id": "2faed125",
   "metadata": {},
   "outputs": [],
   "source": [
    "chinese_cleaned = pd.DataFrame()\n",
    "chinese_cleaned['avg-score'] = chinese['avg-score']\n",
    "for column in ['reference', 'translation']:\n",
    "    chinese_cleaned[column] = clean_zh_stopwords(chinese[column], remove_punctuation=True, remove_stop = True)\n",
    "chinese_cleaned.head()"
   ]
  },
  {
   "cell_type": "markdown",
   "id": "fb5e63d2",
   "metadata": {
    "id": "NjBupUyDLNRa"
   },
   "source": [
    "# Train, Dev & Test Split"
   ]
  },
  {
   "cell_type": "code",
   "execution_count": null,
   "id": "bd5d3aa6",
   "metadata": {
    "id": "qZKkQkBNLSYT"
   },
   "outputs": [],
   "source": [
    "# en_train, en_dev = train_test_split(english_cleaned, shuffle = True, test_size = 0.2, random_state = 7)\n",
    "# en_dev, en_test = train_test_split(en_dev, shuffle = True, test_size = 0.5, random_state = 7)\n",
    "\n",
    "fin_train, fin_dev = train_test_split(finnish_cleaned, shuffle = True, test_size = 0.2, random_state = 7)\n",
    "fin_dev, fin_test = train_test_split(fin_dev, shuffle = True, test_size = 0.5, random_state = 7)\n",
    "\n",
    "ch_train, ch_dev = train_test_split(chinese_cleaned, shuffle = True, test_size = 0.2, random_state = 7)\n",
    "ch_dev, ch_test = train_test_split(ch_dev, shuffle = True, test_size = 0.5, random_state = 7)"
   ]
  },
  {
   "cell_type": "markdown",
   "id": "f2f4e76a",
   "metadata": {},
   "source": [
    "# Baseline model assessment "
   ]
  },
  {
   "cell_type": "code",
   "execution_count": null,
   "id": "3e1af438",
   "metadata": {},
   "outputs": [],
   "source": [
    "baseline_encoder = CountVectorizer(max_features = 5000)#settting limit for computational reasons\n",
    "names = ['fin_train', 'fin_dev', 'fin_test']\n",
    "for i,df in enumerate([fin_train, fin_dev, fin_test]):\n",
    "    for column in ['reference', 'translation']:\n",
    "        encoded_df = names[i] + '_bl_encoded_' + column\n",
    "        if i == 0:\n",
    "            vars()[encoded_df] = baseline_encoder.fit_transform(df[column]).todense()\n",
    "        else:\n",
    "            vars()[encoded_df] = baseline_encoder.transform(df[column]).todense()\n",
    "            \n",
    "    y_name = 'y_' + names[i].split('_')[1]\n",
    "    vars()[y_name] = np.array(df['avg-score'])"
   ]
  },
  {
   "cell_type": "code",
   "execution_count": null,
   "id": "fdbafb11",
   "metadata": {},
   "outputs": [],
   "source": [
    "fin_train_bl_encoded_reference.shape"
   ]
  },
  {
   "cell_type": "markdown",
   "id": "e4188f32",
   "metadata": {},
   "source": [
    "# Encoding (for now only bag of words)"
   ]
  },
  {
   "cell_type": "code",
   "execution_count": null,
   "id": "451604d9",
   "metadata": {},
   "outputs": [],
   "source": [
    "encoder = CountVectorizer()\n",
    "names = ['en_train', 'en_dev', 'en_test']\n",
    "for i,df in enumerate([en_train, en_dev, en_test]):\n",
    "    for column in ['reference', 'translation']:\n",
    "        encoded_df = names[i] + '_encoded_' + column\n",
    "        if i == 0:\n",
    "            vars()[encoded_df] = encoder.fit_transform(df[column]).todense()\n",
    "        else:\n",
    "            vars()[encoded_df] = encoder.transform(df[column]).todense()\n",
    "            \n",
    "    y_name = 'y_' + names[i].split('_')[1]\n",
    "    vars()[y_name] = np.array(df['avg-score'])"
   ]
  },
  {
   "cell_type": "markdown",
   "id": "3740c2db",
   "metadata": {},
   "source": [
    "# Distance"
   ]
  },
  {
   "cell_type": "code",
   "execution_count": null,
   "id": "de2f0c5d",
   "metadata": {},
   "outputs": [],
   "source": [
    "cos_dev = []\n",
    "for i in range(en_dev_encoded_reference.shape[0]):\n",
    "    cos_dev.append(cosine_similarity(en_dev_encoded_reference[i], en_dev_encoded_translation[i])[0])\n",
    "cos_dev = np.array(cos_dev)\n",
    "cos_dev.shape = (cos_dev.shape[0],)\n",
    "\n",
    "cos_test = []\n",
    "for i in range(en_test_encoded_reference.shape[0]):\n",
    "    cos_test.append(cosine_similarity(en_test_encoded_reference[i], en_test_encoded_translation[i])[0])\n",
    "cos_test = np.array(cos_test)\n",
    "cos_test.shape = (cos_test.shape[0],)"
   ]
  },
  {
   "cell_type": "code",
   "execution_count": null,
   "id": "9e00d28b",
   "metadata": {},
   "outputs": [],
   "source": [
    "cleaned_corr_dev, cleaned_corr_dev_pvalue = pearsonr(y_dev, cos_dev)\n",
    "cleaned_corr_test, cleaned_corr_test_pvalue = pearsonr(y_test,cos_test)\n",
    "\n",
    "cleaned_corr_ktau_dev, cleaned_corr_ktau_dev_pvalue = kendalltau(y_dev, cos_dev)\n",
    "cleaned_corr_ktau_test, cleaned_corr_ktau_test_pvalue = kendalltau(y_test,cos_test)\n",
    "\n",
    "print(f'Pearson correlation between cosine similarity and score on development set: {cleaned_corr_dev} (p-value < 0.001: {cleaned_corr_dev_pvalue < 0.001}); and Kendall Tau: {cleaned_corr_ktau_dev} (p-value < 0.001: {cleaned_corr_ktau_dev_pvalue < 0.001})')\n",
    "print(f'Pearson correlation between cosine similarity and score on test set: {cleaned_corr_test} (p-value < 0.001: {cleaned_corr_test_pvalue < 0.001}); and Kendall Tau: {cleaned_corr_ktau_test} (p-value < 0.001: {cleaned_corr_ktau_test_pvalue < 0.001})')"
   ]
  }
 ],
 "metadata": {
  "kernelspec": {
   "display_name": "Python 3",
   "language": "python",
   "name": "python3"
  },
  "language_info": {
   "codemirror_mode": {
    "name": "ipython",
    "version": 3
   },
   "file_extension": ".py",
   "mimetype": "text/x-python",
   "name": "python",
   "nbconvert_exporter": "python",
   "pygments_lexer": "ipython3",
   "version": "3.8.8"
  }
 },
 "nbformat": 4,
 "nbformat_minor": 5
}
