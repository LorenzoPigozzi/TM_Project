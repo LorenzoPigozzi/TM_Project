{
 "cells": [
  {
   "cell_type": "code",
   "execution_count": 7,
   "id": "1705b0f0",
   "metadata": {},
   "outputs": [],
   "source": [
    "from nltk.corpus import stopwords\n",
    "from nltk.stem.wordnet import WordNetLemmatizer\n",
    "from nltk.tokenize import word_tokenize\n",
    "from nltk.corpus import wordnet\n",
    "from nltk.stem import SnowballStemmer\n",
    "from bs4 import BeautifulSoup\n",
    "from tqdm.notebook import tqdm\n",
    "import re\n",
    "import string\n",
    "import nltk\n",
    "import pandas as pd\n",
    "import os\n",
    "import numpy as np\n",
    "import matplotlib.pyplot as plt\n",
    "from sklearn.preprocessing import MinMaxScaler\n",
    "from sklearn.model_selection import train_test_split\n",
    "from sklearn.feature_extraction.text import CountVectorizer\n",
    "from sklearn.metrics.pairwise import cosine_similarity"
   ]
  },
  {
   "cell_type": "code",
   "execution_count": 8,
   "id": "873d7029",
   "metadata": {},
   "outputs": [],
   "source": [
    "stop = set(stopwords.words('english'))\n",
    "exclude = set(string.punctuation)\n",
    "lemma = WordNetLemmatizer()"
   ]
  },
  {
   "cell_type": "markdown",
   "id": "ce514b72",
   "metadata": {
    "id": "jA_9c3SpLTUn"
   },
   "source": [
    "# Data Importing and Sorting"
   ]
  },
  {
   "cell_type": "code",
   "execution_count": 11,
   "id": "bb58d83f",
   "metadata": {
    "id": "nU_gOCWtF8XY"
   },
   "outputs": [],
   "source": [
    "files = os.listdir('corpus')\n",
    "files.remove('.DS_Store')\n",
    "files.remove('scores_ru-en.csv')\n",
    "scaler = MinMaxScaler()\n",
    "for file_ in files:\n",
    "  name = file_.split('-')[0] + file_.split('-')[1]\n",
    "  vars()[name] = pd.read_csv(os.path.join('corpus', file_, 'scores.csv'))\n",
    "  vars()[name].drop(columns = ['source', 'annotators', 'z-score'], inplace = True)\n",
    "  vars()[name]['avg-score'] = scaler.fit_transform(vars()[name]['avg-score'].values.reshape(-1,1)) #normalizing values betwewen 0 and 1"
   ]
  },
  {
   "cell_type": "code",
   "execution_count": 12,
   "id": "9f1ef1c2",
   "metadata": {
    "id": "EcUEx6elHvwd"
   },
   "outputs": [],
   "source": [
    "english = csen.copy()\n",
    "for df in [deen, ruen, zhen]:\n",
    "  english = english.append(df)"
   ]
  },
  {
   "cell_type": "code",
   "execution_count": 13,
   "id": "074be1cf",
   "metadata": {
    "id": "8ziEKCv4LFwE"
   },
   "outputs": [],
   "source": [
    "finnish = enfi.copy()\n",
    "chinese = enzh.copy()"
   ]
  },
  {
   "cell_type": "code",
   "execution_count": 14,
   "id": "8ddc2095",
   "metadata": {},
   "outputs": [],
   "source": [
    "english.reset_index(drop = True, inplace = True)"
   ]
  },
  {
   "cell_type": "markdown",
   "id": "e17c2d59",
   "metadata": {},
   "source": [
    "# Cleaning the corpus"
   ]
  },
  {
   "cell_type": "code",
   "execution_count": 15,
   "id": "50996387",
   "metadata": {},
   "outputs": [],
   "source": [
    "def clean(text_list,\n",
    "          lower = False,\n",
    "          remove_char = False,\n",
    "          remove_stop = False,\n",
    "          lemmatize = False,\n",
    "          stemmer = False):\n",
    "    \"\"\"\n",
    "    Function that a receives a list of strings and preprocesses it.\n",
    "    \n",
    "    :param text_list: List of strings.\n",
    "    :param lemmatize: Tag to apply lemmatization if True.\n",
    "    :param stemmer: Tag to apply the stemmer if True.\n",
    "    \"\"\"\n",
    "    \n",
    "    updates = []\n",
    "    for j in tqdm(range(len(text_list))):\n",
    "        \n",
    "        text = text_list[j]\n",
    "        \n",
    "        #LOWERCASE TEXT\n",
    "        if lower:\n",
    "            text = text.lower()\n",
    "        \n",
    "        #REMOVE THAT IS NOT TEXT\n",
    "        if remove_char:\n",
    "            text = re.sub(\"[^a-zA-Z]\", ' ', text)\n",
    "        \n",
    "        #REMOVE STOP WORDS\n",
    "        if remove_stop:\n",
    "            text = ' '.join([word for word in text.split(' ') if word not in stop])\n",
    "        \n",
    "        #LEMMATIZATION\n",
    "        if lemmatize:\n",
    "            text = \" \".join(lemma.lemmatize(word) for word in text.split())\n",
    "        \n",
    "        #STEMMER\n",
    "        if stemmer:\n",
    "            text = \" \".join(snowball_stemmer.stem(word) for word in text.split())\n",
    "        \n",
    "        updates.append(text)\n",
    "        \n",
    "    return updates\n",
    "\n",
    "def update_df(dataframe, list_updated):\n",
    "    dataframe.update(pd.DataFrame({\"Text\": list_updated}))"
   ]
  },
  {
   "cell_type": "code",
   "execution_count": null,
   "id": "27c8a23f",
   "metadata": {},
   "outputs": [
    {
     "data": {
      "application/vnd.jupyter.widget-view+json": {
       "model_id": "74c6440af2494c0f8df010cfde4a63e5",
       "version_major": 2,
       "version_minor": 0
      },
      "text/plain": [
       "  0%|          | 0/77688 [00:00<?, ?it/s]"
      ]
     },
     "metadata": {},
     "output_type": "display_data"
    }
   ],
   "source": [
    "english_cleaned = pd.DataFrame()\n",
    "english_cleaned['avg-score'] = english['avg-score']\n",
    "for column in ['reference', 'translation']:\n",
    "    english_cleaned[column] = clean(english[column], lower = True, \n",
    "                                                    remove_char = True,\n",
    "                                                    remove_stop = True,\n",
    "                                                    lemmatize = True,\n",
    "                                                    stemmer = False)"
   ]
  },
  {
   "cell_type": "code",
   "execution_count": null,
   "id": "5d55d1fb",
   "metadata": {},
   "outputs": [],
   "source": [
    "english_cleaned.head()"
   ]
  },
  {
   "cell_type": "markdown",
   "id": "fb5e63d2",
   "metadata": {
    "id": "NjBupUyDLNRa"
   },
   "source": [
    "# Train, Dev & Test Split"
   ]
  },
  {
   "cell_type": "code",
   "execution_count": null,
   "id": "bd5d3aa6",
   "metadata": {
    "id": "qZKkQkBNLSYT"
   },
   "outputs": [],
   "source": [
    "en_train, en_dev = train_test_split(english_cleaned, shuffle = True, test_size = 0.2, random_state = 7)\n",
    "en_dev, en_test = train_test_split(en_dev, shuffle = True, test_size = 0.5, random_state = 7)\n",
    "\n",
    "##NEED TO IMPLEMENT\n",
    "# fin_train, fin_dev = train_test_split(finnish, shuffle = True, test_size = 0.2, random_state = 7)\n",
    "# fin_dev, fin_test = train_test_split(fin_dev, shuffle = True, test_size = 0.5, random_state = 7)\n",
    "\n",
    "# ch_train, ch_dev = train_test_split(chinese, shuffle = True, test_size = 0.2, random_state = 7)\n",
    "# ch_dev, ch_test = train_test_split(ch_dev, shuffle = True, test_size = 0.5, random_state = 7)"
   ]
  },
  {
   "cell_type": "markdown",
   "id": "e4188f32",
   "metadata": {},
   "source": [
    "# Encoding"
   ]
  },
  {
   "cell_type": "code",
   "execution_count": null,
   "id": "451604d9",
   "metadata": {},
   "outputs": [],
   "source": [
    "baseline_encoder = CountVectorizer()\n",
    "names = ['en_train', 'en_dev', 'en_test']\n",
    "for i,df in enumerate([en_train, en_dev, en_test]):\n",
    "    for column in ['reference', 'translation']:\n",
    "        encoded_df = names[i] + '_encoded_' + column\n",
    "        if i == 0:\n",
    "            vars()[encoded_df] = baseline_encoder.fit_transform(df[column]).todense()\n",
    "        else:\n",
    "            vars()[encoded_df] = baseline_encoder.transform(df[column]).todense()\n",
    "            \n",
    "    y_name = 'y_' + names[i].split('_')[1]\n",
    "    vars()[y_name] = np.array(df['avg-score'])"
   ]
  },
  {
   "cell_type": "markdown",
   "id": "3740c2db",
   "metadata": {},
   "source": [
    "# Distance"
   ]
  },
  {
   "cell_type": "code",
   "execution_count": null,
   "id": "de2f0c5d",
   "metadata": {},
   "outputs": [],
   "source": [
    "cos_dev = []\n",
    "for i in range(en_dev_encoded_reference.shape[0]):\n",
    "    cos_dev.append(cosine_similarity(en_dev_encoded_reference[i], en_dev_encoded_translation[i])[0])\n",
    "cos_dev = np.array(cos_dev)\n",
    "cos_dev.shape = (cos_dev.shape[0],)\n",
    "\n",
    "cos_test = []\n",
    "for i in range(en_test_encoded_reference.shape[0]):\n",
    "    cos_test.append(cosine_similarity(en_test_encoded_reference[i], en_test_encoded_translation[i])[0])\n",
    "cos_test = np.array(cos_test)\n",
    "cos_test.shape = (cos_test.shape[0],)"
   ]
  },
  {
   "cell_type": "code",
   "execution_count": null,
   "id": "9e00d28b",
   "metadata": {},
   "outputs": [],
   "source": [
    "baseline_corr_dev, baseline_corr_dev_pvalue = pearsonr(y_dev, cos_dev)\n",
    "baseline_corr_test, baseline_corr_test_pvalue = pearsonr(y_test,cos_test)\n",
    "\n",
    "baseline_corr_ktau_dev, baseline_corr_ktau_dev_pvalue = kendalltau(y_dev, cos_dev)\n",
    "baseline_corr_ktau_test, baseline_corr_ktau_test_pvalue = kendalltau(y_test,cos_test)\n",
    "\n",
    "print(f'Pearson correlation between cosine similarity and score on development set: {baseline_corr_dev} (p-value < 0.001: {baseline_corr_dev_pvalue < 0.001}); and Kendall Tau: {baseline_corr_ktau_dev} (p-value < 0.001: {baseline_corr_ktau_dev_pvalue < 0.001})')\n",
    "print(f'Pearson correlation between cosine similarity and score on test set: {baseline_corr_test} (p-value < 0.001: {baseline_corr_test_pvalue < 0.001}); and Kendall Tau: {baseline_corr_ktau_test} (p-value < 0.001: {baseline_corr_ktau_test_pvalue < 0.001})')"
   ]
  }
 ],
 "metadata": {
  "kernelspec": {
   "display_name": "Python 3",
   "language": "python",
   "name": "python3"
  },
  "language_info": {
   "codemirror_mode": {
    "name": "ipython",
    "version": 3
   },
   "file_extension": ".py",
   "mimetype": "text/x-python",
   "name": "python",
   "nbconvert_exporter": "python",
   "pygments_lexer": "ipython3",
   "version": "3.9.2"
  }
 },
 "nbformat": 4,
 "nbformat_minor": 5
}
