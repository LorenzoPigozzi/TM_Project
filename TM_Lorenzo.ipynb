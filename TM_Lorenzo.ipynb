{
 "cells": [
  {
   "cell_type": "markdown",
   "metadata": {},
   "source": [
    "# Text Mining Project\n",
    "\n",
    "### NOVA IMS MT Metrics Shared Task\n",
    "\n",
    "**Group members:**\n",
    "- Lorenzo Pigozzi\t--- m20200745\n",
    "- Davide Farinati\n",
    "- Antonio\n",
    "- Luis Reis"
   ]
  },
  {
   "cell_type": "markdown",
   "metadata": {},
   "source": [
    "**Objective**\n",
    "\n",
    "The goal of this project is to develop a metric that predicts the quality of a translation using the reference. \n",
    "\n",
    "\\\n",
    "**Evaluation**\\\n",
    "Your metric should correlate well with the existing quality assessments that you have in the above corpus.\n",
    "The one that we have so far are just the training sets, we will have a test set without the z-score, average score and annotators.\n",
    "Produce our own metric that will be compared with the existing ones.\n"
   ]
  },
  {
   "cell_type": "markdown",
   "metadata": {},
   "source": [
    "<a class=\"anchor\" id=\"0.1\"></a>\n",
    "# **Table of Contents**\n",
    "\n",
    "1.\t[Importing libraries and corpora](#1)   \n",
    "2.\t[Brief Exploratory data analysis (EDA)](#2)       \n",
    "3.\t[Pre-processing](#3.)     \n",
    " 3.1. [Cleaning](#3.1.)\\\n",
    " 3.2. [Train-dev-test](#3.2.)\n",
    "4. [Metrics](#4.)\n",
    "5. [Modeling](#5.)"
   ]
  },
  {
   "cell_type": "markdown",
   "metadata": {},
   "source": [
    "**Notes**\\\n",
    "Sklearn:\n",
    "https://scikit-learn.org/stable/modules/generated/sklearn.feature_extraction.text.CountVectorizer.html"
   ]
  },
  {
   "cell_type": "markdown",
   "metadata": {},
   "source": [
    "## 1. Importing libraries and corpora <a class=\"anchor\" id=\"1\"></a>"
   ]
  },
  {
   "cell_type": "code",
   "execution_count": 1,
   "metadata": {},
   "outputs": [],
   "source": [
    "# general libraries\n",
    "import pandas as pd\n",
    "import numpy as np\n",
    "import re \n",
    "import matplotlib.pyplot as plt\n",
    "from tqdm import tqdm_notebook as tqdm\n",
    "\n",
    "# word's preprocessing\n",
    "import nltk\n",
    "from nltk.corpus import stopwords\n",
    "from nltk.stem.wordnet import WordNetLemmatizer\n",
    "from nltk.tokenize import word_tokenize\n",
    "from nltk.corpus import wordnet\n",
    "from nltk.stem import SnowballStemmer\n",
    "from nltk.translate.bleu_score import sentence_bleu\n",
    "from bs4 import BeautifulSoup\n",
    "import string\n",
    "\n",
    "# sklearn\n",
    "from sklearn.feature_extraction.text import CountVectorizer, TfidfVectorizer\n",
    "from sklearn.model_selection import train_test_split\n",
    "\n",
    "# warnings\n",
    "import warnings\n",
    "warnings.filterwarnings(\"ignore\")"
   ]
  },
  {
   "cell_type": "code",
   "execution_count": 2,
   "metadata": {
    "scrolled": true
   },
   "outputs": [],
   "source": [
    "# importing the corpora\n",
    "cs_en = pd.read_csv('corpus\\cs-en\\scores.csv')\n",
    "de_en = pd.read_csv('corpus\\de-en\\scores.csv')\n",
    "ru_en = pd.read_csv('corpus\\scores_ru-en.csv')\n",
    "zh_en = pd.read_csv('corpus\\zh-en\\scores.csv')\n",
    "en_fi = pd.read_csv('corpus\\en-fi\\scores.csv')\n",
    "en_zh = pd.read_csv('corpus\\en-zh\\scores.csv')"
   ]
  },
  {
   "cell_type": "markdown",
   "metadata": {},
   "source": [
    "## 2. Brief Exploratory Data Analysis <a class=\"anchor\" id=\"2\"></a>"
   ]
  },
  {
   "cell_type": "code",
   "execution_count": 3,
   "metadata": {},
   "outputs": [
    {
     "data": {
      "text/html": [
       "<div>\n",
       "<style scoped>\n",
       "    .dataframe tbody tr th:only-of-type {\n",
       "        vertical-align: middle;\n",
       "    }\n",
       "\n",
       "    .dataframe tbody tr th {\n",
       "        vertical-align: top;\n",
       "    }\n",
       "\n",
       "    .dataframe thead th {\n",
       "        text-align: right;\n",
       "    }\n",
       "</style>\n",
       "<table border=\"1\" class=\"dataframe\">\n",
       "  <thead>\n",
       "    <tr style=\"text-align: right;\">\n",
       "      <th></th>\n",
       "      <th>source</th>\n",
       "      <th>reference</th>\n",
       "      <th>translation</th>\n",
       "      <th>z-score</th>\n",
       "      <th>avg-score</th>\n",
       "      <th>annotators</th>\n",
       "    </tr>\n",
       "  </thead>\n",
       "  <tbody>\n",
       "    <tr>\n",
       "      <th>0</th>\n",
       "      <td>You can turn yourself into a pineapple, a dog ...</td>\n",
       "      <td>Voit muuttaa itsesi ananasta, koirasta tai Roy...</td>\n",
       "      <td>Voit muuttaa itsesi ananakseksi, koiraksi tai ...</td>\n",
       "      <td>-0.286195</td>\n",
       "      <td>34.20</td>\n",
       "      <td>5</td>\n",
       "    </tr>\n",
       "    <tr>\n",
       "      <th>1</th>\n",
       "      <td>Also shot were three men: two 29-year-olds and...</td>\n",
       "      <td>Myös ammuttiin kolme miestä: kaksi 29-vuotiait...</td>\n",
       "      <td>Myös kolmea miestä ammuttiin: kahta 29-vuotias...</td>\n",
       "      <td>0.547076</td>\n",
       "      <td>58.40</td>\n",
       "      <td>5</td>\n",
       "    </tr>\n",
       "    <tr>\n",
       "      <th>2</th>\n",
       "      <td>The information is stored at the cash register...</td>\n",
       "      <td>Tiedot tallennetaan kassakoneisiin joka tapauk...</td>\n",
       "      <td>Tiedot kuitenkin tallentuvat kassoilla joka ta...</td>\n",
       "      <td>1.122476</td>\n",
       "      <td>74.60</td>\n",
       "      <td>5</td>\n",
       "    </tr>\n",
       "    <tr>\n",
       "      <th>3</th>\n",
       "      <td>Xinhua says that there were traces of hydrochl...</td>\n",
       "      <td>Xinhua kertoo, että Xinyin näytteestä oli sunn...</td>\n",
       "      <td>Xinhua kertoo, että Xinyin sunnuntaina antamas...</td>\n",
       "      <td>0.383095</td>\n",
       "      <td>53.60</td>\n",
       "      <td>5</td>\n",
       "    </tr>\n",
       "    <tr>\n",
       "      <th>4</th>\n",
       "      <td>MacDonald, who was brought on board CBC's comm...</td>\n",
       "      <td>Voitaisiin kuulla CBD: n kommenttitiimin toimi...</td>\n",
       "      <td>MacDonaldin, joka tuli CBC:n selostajatiimiin ...</td>\n",
       "      <td>-0.493065</td>\n",
       "      <td>32.25</td>\n",
       "      <td>4</td>\n",
       "    </tr>\n",
       "  </tbody>\n",
       "</table>\n",
       "</div>"
      ],
      "text/plain": [
       "                                              source  \\\n",
       "0  You can turn yourself into a pineapple, a dog ...   \n",
       "1  Also shot were three men: two 29-year-olds and...   \n",
       "2  The information is stored at the cash register...   \n",
       "3  Xinhua says that there were traces of hydrochl...   \n",
       "4  MacDonald, who was brought on board CBC's comm...   \n",
       "\n",
       "                                           reference  \\\n",
       "0  Voit muuttaa itsesi ananasta, koirasta tai Roy...   \n",
       "1  Myös ammuttiin kolme miestä: kaksi 29-vuotiait...   \n",
       "2  Tiedot tallennetaan kassakoneisiin joka tapauk...   \n",
       "3  Xinhua kertoo, että Xinyin näytteestä oli sunn...   \n",
       "4  Voitaisiin kuulla CBD: n kommenttitiimin toimi...   \n",
       "\n",
       "                                         translation   z-score  avg-score  \\\n",
       "0  Voit muuttaa itsesi ananakseksi, koiraksi tai ... -0.286195      34.20   \n",
       "1  Myös kolmea miestä ammuttiin: kahta 29-vuotias...  0.547076      58.40   \n",
       "2  Tiedot kuitenkin tallentuvat kassoilla joka ta...  1.122476      74.60   \n",
       "3  Xinhua kertoo, että Xinyin sunnuntaina antamas...  0.383095      53.60   \n",
       "4  MacDonaldin, joka tuli CBC:n selostajatiimiin ... -0.493065      32.25   \n",
       "\n",
       "   annotators  \n",
       "0           5  \n",
       "1           5  \n",
       "2           5  \n",
       "3           5  \n",
       "4           4  "
      ]
     },
     "execution_count": 3,
     "metadata": {},
     "output_type": "execute_result"
    }
   ],
   "source": [
    "en_fi.head()"
   ]
  },
  {
   "cell_type": "markdown",
   "metadata": {},
   "source": [
    "**Notes**\\\n",
    "All the the Dataframes imported have 6 columns:\n",
    "- Sources: the original text in the original language\n",
    "- Reference: The correct translation\n",
    "- Translation: the translation that we will evaluate\n",
    "- Z-score: score of the translation normalized\n",
    "- Avg-score: score of the translation from 0 to 100\n",
    "- Annotators: number of annotators"
   ]
  },
  {
   "cell_type": "code",
   "execution_count": 4,
   "metadata": {},
   "outputs": [
    {
     "name": "stdout",
     "output_type": "stream",
     "text": [
      "Total number of translations :  94657\n"
     ]
    }
   ],
   "source": [
    "print('Total number of translations : ',len(cs_en) + len(de_en) + len(ru_en) + len(zh_en) + len(en_fi) + len(en_zh) )"
   ]
  },
  {
   "cell_type": "markdown",
   "metadata": {},
   "source": [
    "**Idea**\\\n",
    "Splitting the problem in 3:\n",
    "- estimate the translations from other languages to English\n",
    "- estimate the translations from English to Finnish\n",
    "- estimate the translations from English to Chinese\n",
    "\n",
    "\\\n",
    "Reason:\\\n",
    "Proably going forward we will need to have different preprocessing for English and for the other 2 languages"
   ]
  },
  {
   "cell_type": "markdown",
   "metadata": {},
   "source": [
    "#  3. Pre-processing <a class=\"anchor\" id=\"3.\"></a>"
   ]
  },
  {
   "cell_type": "code",
   "execution_count": 5,
   "metadata": {},
   "outputs": [
    {
     "data": {
      "text/html": [
       "<div>\n",
       "<style scoped>\n",
       "    .dataframe tbody tr th:only-of-type {\n",
       "        vertical-align: middle;\n",
       "    }\n",
       "\n",
       "    .dataframe tbody tr th {\n",
       "        vertical-align: top;\n",
       "    }\n",
       "\n",
       "    .dataframe thead th {\n",
       "        text-align: right;\n",
       "    }\n",
       "</style>\n",
       "<table border=\"1\" class=\"dataframe\">\n",
       "  <thead>\n",
       "    <tr style=\"text-align: right;\">\n",
       "      <th></th>\n",
       "      <th>source</th>\n",
       "      <th>reference</th>\n",
       "      <th>translation</th>\n",
       "      <th>z-score</th>\n",
       "      <th>avg-score</th>\n",
       "      <th>annotators</th>\n",
       "    </tr>\n",
       "  </thead>\n",
       "  <tbody>\n",
       "    <tr>\n",
       "      <th>0</th>\n",
       "      <td>Uchopíte pak zbraň mezi své předloktí a rameno...</td>\n",
       "      <td>You will then grab the weapon between your for...</td>\n",
       "      <td>You then grasp the gun between your forearm an...</td>\n",
       "      <td>-0.675383</td>\n",
       "      <td>60.000000</td>\n",
       "      <td>3</td>\n",
       "    </tr>\n",
       "    <tr>\n",
       "      <th>1</th>\n",
       "      <td>Ale je-li New York změna, pak je to také znovu...</td>\n",
       "      <td>But if New York is changed, then it's also a r...</td>\n",
       "      <td>But if New York is change, it is also reinvent...</td>\n",
       "      <td>-0.829403</td>\n",
       "      <td>44.000000</td>\n",
       "      <td>2</td>\n",
       "    </tr>\n",
       "    <tr>\n",
       "      <th>2</th>\n",
       "      <td>Dlouho a intenzivně jsem během léta přemýšlel,...</td>\n",
       "      <td>I have been thinking over and over again over ...</td>\n",
       "      <td>I have thought long and hard over the course o...</td>\n",
       "      <td>0.803185</td>\n",
       "      <td>96.500000</td>\n",
       "      <td>2</td>\n",
       "    </tr>\n",
       "    <tr>\n",
       "      <th>3</th>\n",
       "      <td>Najdou si jiný způsob, jak někde podvádět.</td>\n",
       "      <td>They find another way to cheat somewhere.</td>\n",
       "      <td>They will find another way how to defraud others.</td>\n",
       "      <td>0.563149</td>\n",
       "      <td>90.500000</td>\n",
       "      <td>2</td>\n",
       "    </tr>\n",
       "    <tr>\n",
       "      <th>4</th>\n",
       "      <td>Zpráva o výměně v čele prezidentovy administra...</td>\n",
       "      <td>The report on the replacement of the president...</td>\n",
       "      <td>The news of the replacement at the top of the ...</td>\n",
       "      <td>0.021549</td>\n",
       "      <td>74.666667</td>\n",
       "      <td>3</td>\n",
       "    </tr>\n",
       "  </tbody>\n",
       "</table>\n",
       "</div>"
      ],
      "text/plain": [
       "                                              source  \\\n",
       "0  Uchopíte pak zbraň mezi své předloktí a rameno...   \n",
       "1  Ale je-li New York změna, pak je to také znovu...   \n",
       "2  Dlouho a intenzivně jsem během léta přemýšlel,...   \n",
       "3         Najdou si jiný způsob, jak někde podvádět.   \n",
       "4  Zpráva o výměně v čele prezidentovy administra...   \n",
       "\n",
       "                                           reference  \\\n",
       "0  You will then grab the weapon between your for...   \n",
       "1  But if New York is changed, then it's also a r...   \n",
       "2  I have been thinking over and over again over ...   \n",
       "3          They find another way to cheat somewhere.   \n",
       "4  The report on the replacement of the president...   \n",
       "\n",
       "                                         translation   z-score  avg-score  \\\n",
       "0  You then grasp the gun between your forearm an... -0.675383  60.000000   \n",
       "1  But if New York is change, it is also reinvent... -0.829403  44.000000   \n",
       "2  I have thought long and hard over the course o...  0.803185  96.500000   \n",
       "3  They will find another way how to defraud others.  0.563149  90.500000   \n",
       "4  The news of the replacement at the top of the ...  0.021549  74.666667   \n",
       "\n",
       "   annotators  \n",
       "0           3  \n",
       "1           2  \n",
       "2           2  \n",
       "3           2  \n",
       "4           3  "
      ]
     },
     "execution_count": 5,
     "metadata": {},
     "output_type": "execute_result"
    }
   ],
   "source": [
    "cs_en.head()"
   ]
  },
  {
   "cell_type": "code",
   "execution_count": 6,
   "metadata": {},
   "outputs": [],
   "source": [
    "# selecting the necessary variables for the baseline\n",
    "cs_en = cs_en[['reference','translation','avg-score']]\n",
    "de_en = de_en[['reference','translation','avg-score']]\n",
    "ru_en = ru_en[['reference','translation','avg-score']]\n",
    "zh_en = zh_en[['reference','translation','avg-score']]"
   ]
  },
  {
   "cell_type": "code",
   "execution_count": 7,
   "metadata": {
    "scrolled": true
   },
   "outputs": [
    {
     "data": {
      "text/html": [
       "<div>\n",
       "<style scoped>\n",
       "    .dataframe tbody tr th:only-of-type {\n",
       "        vertical-align: middle;\n",
       "    }\n",
       "\n",
       "    .dataframe tbody tr th {\n",
       "        vertical-align: top;\n",
       "    }\n",
       "\n",
       "    .dataframe thead th {\n",
       "        text-align: right;\n",
       "    }\n",
       "</style>\n",
       "<table border=\"1\" class=\"dataframe\">\n",
       "  <thead>\n",
       "    <tr style=\"text-align: right;\">\n",
       "      <th></th>\n",
       "      <th>reference</th>\n",
       "      <th>translation</th>\n",
       "      <th>avg-score</th>\n",
       "    </tr>\n",
       "  </thead>\n",
       "  <tbody>\n",
       "    <tr>\n",
       "      <th>0</th>\n",
       "      <td>You will then grab the weapon between your for...</td>\n",
       "      <td>You then grasp the gun between your forearm an...</td>\n",
       "      <td>60.000000</td>\n",
       "    </tr>\n",
       "    <tr>\n",
       "      <th>1</th>\n",
       "      <td>But if New York is changed, then it's also a r...</td>\n",
       "      <td>But if New York is change, it is also reinvent...</td>\n",
       "      <td>44.000000</td>\n",
       "    </tr>\n",
       "    <tr>\n",
       "      <th>2</th>\n",
       "      <td>I have been thinking over and over again over ...</td>\n",
       "      <td>I have thought long and hard over the course o...</td>\n",
       "      <td>96.500000</td>\n",
       "    </tr>\n",
       "    <tr>\n",
       "      <th>3</th>\n",
       "      <td>They find another way to cheat somewhere.</td>\n",
       "      <td>They will find another way how to defraud others.</td>\n",
       "      <td>90.500000</td>\n",
       "    </tr>\n",
       "    <tr>\n",
       "      <th>4</th>\n",
       "      <td>The report on the replacement of the president...</td>\n",
       "      <td>The news of the replacement at the top of the ...</td>\n",
       "      <td>74.666667</td>\n",
       "    </tr>\n",
       "  </tbody>\n",
       "</table>\n",
       "</div>"
      ],
      "text/plain": [
       "                                           reference  \\\n",
       "0  You will then grab the weapon between your for...   \n",
       "1  But if New York is changed, then it's also a r...   \n",
       "2  I have been thinking over and over again over ...   \n",
       "3          They find another way to cheat somewhere.   \n",
       "4  The report on the replacement of the president...   \n",
       "\n",
       "                                         translation  avg-score  \n",
       "0  You then grasp the gun between your forearm an...  60.000000  \n",
       "1  But if New York is change, it is also reinvent...  44.000000  \n",
       "2  I have thought long and hard over the course o...  96.500000  \n",
       "3  They will find another way how to defraud others.  90.500000  \n",
       "4  The news of the replacement at the top of the ...  74.666667  "
      ]
     },
     "execution_count": 7,
     "metadata": {},
     "output_type": "execute_result"
    }
   ],
   "source": [
    "cs_en.head()"
   ]
  },
  {
   "cell_type": "code",
   "execution_count": 45,
   "metadata": {},
   "outputs": [],
   "source": [
    "# joining the 4 datasets with English translations\n",
    "english_corpus = pd.concat([cs_en, de_en, ru_en, zh_en], axis = 0).reset_index(drop=True)"
   ]
  },
  {
   "cell_type": "markdown",
   "metadata": {},
   "source": [
    "## 3.1. Cleaning <a class=\"anchor\" id=\"3.1.\"></a>"
   ]
  },
  {
   "cell_type": "code",
   "execution_count": 46,
   "metadata": {},
   "outputs": [],
   "source": [
    "def clean(text_list,\n",
    "          lower = False,\n",
    "          keep_numbers = False,\n",
    "          keep_expression = False,\n",
    "          remove_char = False,\n",
    "          remove_stop = False,\n",
    "          remove_tag = False,\n",
    "          lemmatize = False,\n",
    "          stemmer = False,\n",
    "          english = True\n",
    "          ):\n",
    "    \"\"\"\n",
    "    Function that a receives a list of strings and preprocesses it.\n",
    "    \n",
    "    :param text_list: List of strings.\n",
    "    :param lemmatize: Tag to apply lemmatization if True.\n",
    "    :param stemmer: Tag to apply the stemmer if True.\n",
    "    \"\"\"\n",
    "    if english:\n",
    "        lang = 'english'\n",
    "    else:\n",
    "        lang = 'finnish'\n",
    "    \n",
    "    stop = set(stopwords.words(lang))\n",
    "    stem = SnowballStemmer(lang)\n",
    "    \n",
    "    updates = []\n",
    "    for j in tqdm(range(len(text_list))):\n",
    "        \n",
    "        text = text_list[j]\n",
    "        \n",
    "        #LOWERCASE TEXT\n",
    "        if lower:\n",
    "            text = text.lower()\n",
    "            \n",
    "        #KEEP NUMBERS AS TOKENS\n",
    "        if keep_numbers:\n",
    "            text = re.sub(\"[\\d+]\", 'NUMBER', text)\n",
    "        \n",
    "        #KEEP '?' and '!' AS TOKENS\n",
    "        if keep_expression:\n",
    "            text = re.sub(\"[\\?|\\!]\", 'EXPRESSION', text)\n",
    "            \n",
    "        #REMOVE THAT IS NOT TEXT\n",
    "        if remove_char:\n",
    "            text = re.sub(\"[^a-zA-Z]\", ' ', text)\n",
    "            \n",
    "        #REMOVE TAGS\n",
    "        if remove_tag:\n",
    "            text = BeautifulSoup(text).get_text()\n",
    "        \n",
    "        #REMOVE STOP WORDS\n",
    "        if remove_stop:\n",
    "            text = ' '.join([word for word in text.split(' ') if word not in stop])\n",
    "        \n",
    "        #LEMMATIZATION\n",
    "        if lemmatize:\n",
    "            if english:\n",
    "                lemma = WordNetLemmatizer()\n",
    "                text = \" \".join(lemma.lemmatize(word) for word in text.split())\n",
    "#             else:\n",
    "#                 lemma = libvoikko.Voikko(u\"fi\")\n",
    "#                 text = \" \".join(lemma.analyze(word)[0]['BASEFORM'] for word in text.split())\n",
    "        \n",
    "        #STEMMER\n",
    "        if stemmer:\n",
    "            text = \" \".join(stem.stem(word) for word in text.split())\n",
    "        \n",
    "        updates.append(text)\n",
    "        \n",
    "    return updates\n",
    "\n",
    "def clean_zh_stopwords(text_list, stopwords_set='merged'):\n",
    "    \"\"\"\n",
    "    Function that removes chinese stopwords\n",
    "    \n",
    "    :param stopwords_set: remove words of both sets (merged), just the 1st (fst) or just the second (snd) \n",
    "    \"\"\"\n",
    "    updates = []\n",
    "    \n",
    "    zh_stopwords1 = [line.strip() for line in open('chinese_stopwords/chinese_stopwords1.txt', 'r', encoding='utf-8').readlines()]\n",
    "    zh_stopwords2 = [line.strip() for line in open('chinese_stopwords/chinese_stopwords2.txt', 'r', encoding='utf-8').readlines()]\n",
    "    \n",
    "    if stopwords_set == 'merged':\n",
    "        stop = list(set(zh_stopwords1 + zh_stopwords2))\n",
    "    elif stopwords_set == 'fst':\n",
    "        stop = zh_stopwords1\n",
    "    elif stopwords_set == 'snd':\n",
    "        stop = zh_stopwords2\n",
    "        \n",
    "\n",
    "    for j in tqdm(range(len(text_list))):\n",
    "        text = text_list[j]\n",
    "        text = ' '.join([word for word in text.split(' ') if word not in stop])\n",
    "        updates.append(text)\n",
    "        \n",
    "    return updates\n",
    "        \n",
    "    \n",
    "def update_df(dataframe, list_updated):\n",
    "    dataframe.update(pd.DataFrame({\"Text\": list_updated}))"
   ]
  },
  {
   "cell_type": "code",
   "execution_count": 47,
   "metadata": {},
   "outputs": [
    {
     "data": {
      "application/vnd.jupyter.widget-view+json": {
       "model_id": "3bcb70e5fa0a4f838d7001e785f6ed2f",
       "version_major": 2,
       "version_minor": 0
      },
      "text/plain": [
       "HBox(children=(HTML(value=''), FloatProgress(value=0.0, max=77688.0), HTML(value='')))"
      ]
     },
     "metadata": {},
     "output_type": "display_data"
    },
    {
     "name": "stdout",
     "output_type": "stream",
     "text": [
      "\n"
     ]
    },
    {
     "data": {
      "application/vnd.jupyter.widget-view+json": {
       "model_id": "169c0b75ff814d94b1e4d97f183d3a0c",
       "version_major": 2,
       "version_minor": 0
      },
      "text/plain": [
       "HBox(children=(HTML(value=''), FloatProgress(value=0.0, max=77688.0), HTML(value='')))"
      ]
     },
     "metadata": {},
     "output_type": "display_data"
    },
    {
     "name": "stdout",
     "output_type": "stream",
     "text": [
      "\n"
     ]
    }
   ],
   "source": [
    "english_cleaned = pd.DataFrame()\n",
    "english_cleaned['avg-score'] = english_corpus['avg-score']\n",
    "for column in ['reference', 'translation']:\n",
    "    english_cleaned[column] = clean(english_corpus[column], lower = True, \n",
    "                                                    remove_char = True,\n",
    "                                                    remove_stop = True,\n",
    "                                                    lemmatize = True,\n",
    "                                                    stemmer = False)"
   ]
  },
  {
   "cell_type": "code",
   "execution_count": 48,
   "metadata": {},
   "outputs": [
    {
     "data": {
      "text/html": [
       "<div>\n",
       "<style scoped>\n",
       "    .dataframe tbody tr th:only-of-type {\n",
       "        vertical-align: middle;\n",
       "    }\n",
       "\n",
       "    .dataframe tbody tr th {\n",
       "        vertical-align: top;\n",
       "    }\n",
       "\n",
       "    .dataframe thead th {\n",
       "        text-align: right;\n",
       "    }\n",
       "</style>\n",
       "<table border=\"1\" class=\"dataframe\">\n",
       "  <thead>\n",
       "    <tr style=\"text-align: right;\">\n",
       "      <th></th>\n",
       "      <th>avg-score</th>\n",
       "      <th>reference</th>\n",
       "      <th>translation</th>\n",
       "    </tr>\n",
       "  </thead>\n",
       "  <tbody>\n",
       "    <tr>\n",
       "      <th>0</th>\n",
       "      <td>60.000000</td>\n",
       "      <td>grab weapon forearm shoulder hit face free elbow</td>\n",
       "      <td>grasp gun forearm shoulder hitting face free e...</td>\n",
       "    </tr>\n",
       "    <tr>\n",
       "      <th>1</th>\n",
       "      <td>44.000000</td>\n",
       "      <td>new york changed also rediscovery</td>\n",
       "      <td>new york change also reinvention</td>\n",
       "    </tr>\n",
       "    <tr>\n",
       "      <th>2</th>\n",
       "      <td>96.500000</td>\n",
       "      <td>thinking summer improve give depth need get hi...</td>\n",
       "      <td>thought long hard course summer might improve ...</td>\n",
       "    </tr>\n",
       "    <tr>\n",
       "      <th>3</th>\n",
       "      <td>90.500000</td>\n",
       "      <td>find another way cheat somewhere</td>\n",
       "      <td>find another way defraud others</td>\n",
       "    </tr>\n",
       "    <tr>\n",
       "      <th>4</th>\n",
       "      <td>74.666667</td>\n",
       "      <td>report replacement president administration he...</td>\n",
       "      <td>news replacement top president office come sur...</td>\n",
       "    </tr>\n",
       "  </tbody>\n",
       "</table>\n",
       "</div>"
      ],
      "text/plain": [
       "   avg-score                                          reference  \\\n",
       "0  60.000000   grab weapon forearm shoulder hit face free elbow   \n",
       "1  44.000000                  new york changed also rediscovery   \n",
       "2  96.500000  thinking summer improve give depth need get hi...   \n",
       "3  90.500000                   find another way cheat somewhere   \n",
       "4  74.666667  report replacement president administration he...   \n",
       "\n",
       "                                         translation  \n",
       "0  grasp gun forearm shoulder hitting face free e...  \n",
       "1                   new york change also reinvention  \n",
       "2  thought long hard course summer might improve ...  \n",
       "3                    find another way defraud others  \n",
       "4  news replacement top president office come sur...  "
      ]
     },
     "execution_count": 48,
     "metadata": {},
     "output_type": "execute_result"
    }
   ],
   "source": [
    "english_cleaned.head()"
   ]
  },
  {
   "cell_type": "markdown",
   "metadata": {},
   "source": [
    "### 3.2. Train, Development and Test sets <a class=\"anchor\" id=\"3.2.\"></a>"
   ]
  },
  {
   "cell_type": "code",
   "execution_count": 13,
   "metadata": {},
   "outputs": [],
   "source": [
    "## train-dev-test split\n",
    "train, test = train_test_split(english_cleaned, test_size=0.2, shuffle = True, random_state = 7)\n",
    "test, dev = train_test_split(test, test_size=0.5, shuffle = True, random_state = 7)"
   ]
  },
  {
   "cell_type": "markdown",
   "metadata": {},
   "source": [
    "# 4. Metrics <a class=\"anchor\" id=\"4.\"></a>"
   ]
  },
  {
   "cell_type": "markdown",
   "metadata": {},
   "source": [
    "### BLEU\n",
    "**How to evauate a translation: BLEU**\\\n",
    "One thing you might do is look at each word in the output sentence and assign it a score of 1 if it shows up in any of the reference sentences and 0 if it doesn’t. Then, to normalize that count so that it’s always between 0 and 1, you can divide the number of words that showed up in one of the reference translations by the total number of words in the output sentence. This gives us a measure called unigram precision.\\\n",
    "https://towardsdatascience.com/evaluating-text-output-in-nlp-bleu-at-your-own-risk-e8609665a213\n",
    "\n",
    "\\\n",
    "**A Gentle Introduction to Calculating the BLEU Score for Text in Python**\n",
    "https://machinelearningmastery.com/calculate-bleu-score-for-text-python/\n",
    "\n",
    "\\\n",
    "**NLP Metrics Made Simple: The BLEU Score**\\\n",
    "https://towardsdatascience.com/nlp-metrics-made-simple-the-bleu-score-b06b14fbdbc1\n",
    "\n",
    "\n",
    "\\\n",
    "\"A popular metric is BLEU, which counts the sequences of words in the candidate that also appear in the reference (the BLEU score is very similar to precision).\"\\\n",
    "https://ai.googleblog.com/2020/05/evaluating-natural-language-generation.html#:~:text=BLEURT%20is%20a%20novel,%20machine,ratings%20provided%20by%20the%20user."
   ]
  },
  {
   "cell_type": "code",
   "execution_count": 15,
   "metadata": {},
   "outputs": [
    {
     "name": "stdout",
     "output_type": "stream",
     "text": [
      "1.0\n"
     ]
    }
   ],
   "source": [
    "## Example\n",
    "reference = [['this', 'is', 'a', 'test'], ['this', 'is' 'test']]\n",
    "candidate = ['this', 'is', 'a', 'test']\n",
    "score = sentence_bleu(reference, candidate)\n",
    "print(score)"
   ]
  },
  {
   "cell_type": "code",
   "execution_count": 16,
   "metadata": {},
   "outputs": [],
   "source": [
    "# cumulative BLEU score\n",
    "def avg_bleu_score(df, ngram = 'unigram'):\n",
    "    bleu_scores = []\n",
    "    for i in df.index:\n",
    "        reference = []\n",
    "        reference.append(df['reference'][i].split(' '))\n",
    "        translation = df['translation'][i].split(' ')\n",
    "        if ngram == 'bigram':\n",
    "            bleu_scores.append(sentence_bleu(reference, translation, weights=(0.5, 0.5, 0, 0)))\n",
    "        elif ngram == '3-gram':\n",
    "            bleu_scores.append(sentence_bleu(reference, translation, weights=(0.33, 0.33, 0.33, 0)))\n",
    "        elif ngram == '4-gram':\n",
    "            bleu_scores.append(sentence_bleu(reference, translation, weights=(0.25, 0.25, 0.25, 0.25)))\n",
    "        else:\n",
    "            bleu_scores.append(sentence_bleu(reference, translation))\n",
    "    return pd.Series(bleu_scores).mean(), bleu_scores"
   ]
  },
  {
   "cell_type": "code",
   "execution_count": 17,
   "metadata": {},
   "outputs": [],
   "source": [
    "# calculating the scores\n",
    "bleu_score_unigram, unigram_scores = avg_bleu_score(train)\n",
    "bleu_score_bigram, bigram_scores = avg_bleu_score(train, ngram = 'bigram')\n",
    "bleu_score_3gram, trigram_scores = avg_bleu_score(train, ngram = '3-gram')\n",
    "bleu_score_4gram, fourgram_scores = avg_bleu_score(train, ngram = '4-gram')"
   ]
  },
  {
   "cell_type": "code",
   "execution_count": 18,
   "metadata": {},
   "outputs": [
    {
     "name": "stdout",
     "output_type": "stream",
     "text": [
      "Average BLEU score for unigram  : 0.2076622654785226\n",
      "Average BLEU score for bigram  : 0.4090547842910233\n",
      "Average BLEU score for 3-gram  : 0.297260902239954\n",
      "Average BLEU score for 4-gram  : 0.2076622654785226\n"
     ]
    }
   ],
   "source": [
    "grams = ['unigram', 'bigram', '3-gram', '4-gram']\n",
    "bleu_scores = [bleu_score_unigram, bleu_score_bigram, bleu_score_3gram, bleu_score_4gram]\n",
    "for i in range(len(grams)):\n",
    "    print('Average BLEU score for', grams[i] ,' :', bleu_scores[i])"
   ]
  },
  {
   "cell_type": "code",
   "execution_count": 19,
   "metadata": {},
   "outputs": [],
   "source": [
    "# checking the correlation with the avg-score\n",
    "bleu_score_relation = pd.concat([train.reset_index(drop=True), pd.Series(unigram_scores)], axis = 1).iloc[:, -2:]\n",
    "pearson_unigram = bleu_score_relation.corr(method='pearson').iloc[1:2,:1].values[0][0]\n",
    "bleu_score_relation = pd.concat([train.reset_index(drop=True), pd.Series(bigram_scores)], axis = 1).iloc[:, -2:]\n",
    "pearson_bigram = bleu_score_relation.corr(method='pearson').iloc[1:2,:1].values[0][0]\n",
    "bleu_score_relation = pd.concat([train.reset_index(drop=True), pd.Series(trigram_scores)], axis = 1).iloc[:, -2:]\n",
    "pearson_3gram = bleu_score_relation.corr(method='pearson').iloc[1:2,:1].values[0][0]\n",
    "bleu_score_relation = pd.concat([train.reset_index(drop=True), pd.Series(fourgram_scores)], axis = 1).iloc[:, -2:]\n",
    "pearson_4gram = bleu_score_relation.corr(method='pearson').iloc[1:2,:1].values[0][0]"
   ]
  },
  {
   "cell_type": "code",
   "execution_count": 20,
   "metadata": {},
   "outputs": [
    {
     "name": "stdout",
     "output_type": "stream",
     "text": [
      "Pearson relations among Bleu and score unigram  : 0.2556770746721379\n",
      "Pearson relations among Bleu and score bigram  : 0.3120262696218851\n",
      "Pearson relations among Bleu and score 3-gram  : 0.2856859598242893\n",
      "Pearson relations among Bleu and score 4-gram  : 0.2556770746721379\n"
     ]
    }
   ],
   "source": [
    "pearson_grams = [pearson_unigram, pearson_bigram, pearson_3gram, pearson_4gram]\n",
    "for i in range(len(grams)):\n",
    "    print('Pearson relations among Bleu and score', grams[i] ,' :', pearson_grams[i])"
   ]
  },
  {
   "cell_type": "markdown",
   "metadata": {},
   "source": [
    "### ROUGE\n",
    "\n"
   ]
  },
  {
   "cell_type": "markdown",
   "metadata": {},
   "source": [
    "**The Ultimate Performance Metric in NLP**\\\n",
    "https://towardsdatascience.com/the-ultimate-performance-metric-in-nlp-111df6c64460\n",
    "http://www.ccs.neu.edu/home/vip/teach/DMcourse/5_topicmodel_summ/notes_slides/What-is-ROUGE.pdf\n",
    "\n",
    "**How to evauate a translation: Rouge**\n",
    "\n",
    "ROUGE-N measures the number of matching ‘n-grams’ between our model-generated text and a ‘reference’. Once we have decided which N to use — we now decide on whether we’d like to calculate the ROUGE recall, precision, or F1 score.\\\n",
    "ROUGE-L measures the longest common subsequence (LCS) between our model output and reference. All this means is that we count the longest sequence of tokens that is shared between both"
   ]
  },
  {
   "cell_type": "code",
   "execution_count": 21,
   "metadata": {},
   "outputs": [],
   "source": [
    "# !pip install rouge\n",
    "from rouge import Rouge"
   ]
  },
  {
   "cell_type": "markdown",
   "metadata": {},
   "source": [
    " #### Example:"
   ]
  },
  {
   "cell_type": "code",
   "execution_count": 22,
   "metadata": {},
   "outputs": [],
   "source": [
    "model_out = \"he began by starting a five person war cabinet and included chamberlain as lord president of the council\"\n",
    "reference = \"he began his premiership by forming a five-man war cabinet which included chamberlain as lord president of the council\"\n",
    "rouge = Rouge()"
   ]
  },
  {
   "cell_type": "markdown",
   "metadata": {},
   "source": [
    "**How to evauate a translation: Rouge**\\\n",
    "The get_scores method returns three metrics, ROUGE-N using a unigram (ROUGE-1) and a bigram (ROUGE-2) — and ROUGE-L.\n",
    "For each of these, we receive the F1 score f, precision p, and recall r."
   ]
  },
  {
   "cell_type": "code",
   "execution_count": 23,
   "metadata": {},
   "outputs": [
    {
     "name": "stdout",
     "output_type": "stream",
     "text": [
      "[{'rouge-1': {'f': 0.7567567517604091, 'p': 0.7777777777777778, 'r': 0.7368421052631579}, 'rouge-2': {'f': 0.514285709289796, 'p': 0.5294117647058824, 'r': 0.5}, 'rouge-l': {'f': 0.7567567517604091, 'p': 0.7777777777777778, 'r': 0.7368421052631579}}]\n"
     ]
    }
   ],
   "source": [
    "scores=rouge.get_scores(model_out, reference)\n",
    "print(scores)"
   ]
  },
  {
   "cell_type": "markdown",
   "metadata": {},
   "source": [
    "#### Real:"
   ]
  },
  {
   "cell_type": "code",
   "execution_count": 24,
   "metadata": {},
   "outputs": [],
   "source": [
    "references =df['reference'].to_list()\n",
    "translation =df['translation'].to_list()"
   ]
  },
  {
   "cell_type": "code",
   "execution_count": 25,
   "metadata": {},
   "outputs": [
    {
     "name": "stdout",
     "output_type": "stream",
     "text": [
      "77688\n",
      "77688\n"
     ]
    }
   ],
   "source": [
    "print(len(references))\n",
    "print(len(translation))"
   ]
  },
  {
   "cell_type": "code",
   "execution_count": 26,
   "metadata": {},
   "outputs": [
    {
     "data": {
      "text/plain": [
       "{'rouge-1': {'f': 0.5976460310969777,\n",
       "  'p': 0.6075188171878395,\n",
       "  'r': 0.5975205263220686},\n",
       " 'rouge-2': {'f': 0.33520325254967454,\n",
       "  'p': 0.340811401059499,\n",
       "  'r': 0.3348847621445332},\n",
       " 'rouge-l': {'f': 0.5499618408308292,\n",
       "  'p': 0.563194001821836,\n",
       "  'r': 0.5445585779541465}}"
      ]
     },
     "execution_count": 26,
     "metadata": {},
     "output_type": "execute_result"
    }
   ],
   "source": [
    "scores = rouge.get_scores(references, translation, avg=True,ignore_empty=True)\n",
    "scores"
   ]
  },
  {
   "attachments": {
    "image.png": {
     "image/png": "[encoded data removed]"
    }
   },
   "cell_type": "markdown",
   "metadata": {},
   "source": [
    "## BLEURT\n",
    "### Bilingual Evaluation Understudy with Representations from Transformers\n",
    "BLEURT is a novel, machine learning-based automatic metric that can capture non-trivial semantic similarities between sentences. It is trained on a public collection of ratings (the WMT Metrics Shared Task dataset) as well as additional ratings provided by the user.\n",
    "\n",
    "\\\n",
    "The success of BLEURT relies on “warming-up” the model using millions of synthetic sentence pairs before fine-tuning on human ratings. We generated training data by applying random perturbations to sentences from Wikipedia. Instead of collecting human ratings, we use a collection of metrics and models from the literature (including BLEU), which allows the number of training examples to be scaled up at very low cost.\n",
    "\n",
    "\\\n",
    "For example, BLEURT is ~48% more accurate than BLEU on the WMT Metrics Shared Task of 2019. We also demonstrate that pre-training helps BLEURT cope with quality drift.\n",
    "\n",
    "![image.png](attachment:image.png)\n",
    "\n",
    "\\\n",
    "Article:https://ai.googleblog.com/2020/05/evaluating-natural-language-generation.html#:~:text=BLEURT%20is%20a%20novel,%20machine,ratings%20provided%20by%20the%20user \\\n",
    "GitHub: https://github.com/google-research/bleurt\n"
   ]
  },
  {
   "cell_type": "code",
   "execution_count": 82,
   "metadata": {},
   "outputs": [],
   "source": [
    "import bleurt\n",
    "from bleurt import checkpoint as checkpoint_lib\n",
    "from bleurt import encoding\n",
    "from bleurt import model\n",
    "from bleurt.lib import experiment_utils\n",
    "import tensorflow.compat.v1 as tf"
   ]
  },
  {
   "cell_type": "code",
   "execution_count": 73,
   "metadata": {},
   "outputs": [],
   "source": [
    "def run_finetuning_pipeline(train_set, dev_set, run_in_lazy_mode=True):\n",
    "  \"\"\"Runs the full BLEURT fine-tuning pipeline.\"\"\"\n",
    "\n",
    "  if run_in_lazy_mode:\n",
    "    tf.disable_eager_execution()\n",
    "\n",
    "  bleurt_params = checkpoint_lib.get_bleurt_params_from_flags_or_ckpt()\n",
    "\n",
    "  # Preprocessing and encoding for train and dev set.\n",
    "  logging.info(\"*** Running pre-processing pipeline for training examples.\")\n",
    "  if FLAGS.serialized_train_set:\n",
    "    train_tfrecord = FLAGS.serialized_train_set\n",
    "  else:\n",
    "    train_tfrecord = train_set + \".tfrecord\"\n",
    "  encoding.encode_and_serialize(\n",
    "      train_set,\n",
    "      train_tfrecord,\n",
    "      vocab_file=bleurt_params[\"vocab_file\"],\n",
    "      do_lower_case=bleurt_params[\"do_lower_case\"],\n",
    "      sp_model=bleurt_params[\"sp_model\"],\n",
    "      max_seq_length=bleurt_params[\"max_seq_length\"])\n",
    "\n",
    "  logging.info(\"*** Running pre-processing pipeline for eval examples.\")\n",
    "  if FLAGS.serialized_dev_set:\n",
    "    dev_tfrecord = FLAGS.serialized_dev_set\n",
    "  else:\n",
    "    dev_tfrecord = dev_set + \".tfrecord\"\n",
    "  encoding.encode_and_serialize(\n",
    "      dev_set,\n",
    "      dev_tfrecord,\n",
    "      vocab_file=bleurt_params[\"vocab_file\"],\n",
    "      do_lower_case=bleurt_params[\"do_lower_case\"],\n",
    "      sp_model=bleurt_params[\"sp_model\"],\n",
    "      max_seq_length=bleurt_params[\"max_seq_length\"])\n",
    "\n",
    "  # Actual fine-tuning work.\n",
    "  logging.info(\"*** Running fine-tuning.\")\n",
    "  train_eval_fun = experiment_utils.run_experiment\n",
    "  model.run_finetuning(train_tfrecord, dev_tfrecord, train_eval_fun)\n",
    "\n",
    "  # Deletes temp files.\n",
    "  if not FLAGS.serialized_train_set:\n",
    "    logging.info(\"Deleting serialized training examples.\")\n",
    "    tf.io.gfile.remove(train_tfrecord)\n",
    "  if not FLAGS.serialized_dev_set:\n",
    "    logging.info(\"Deleting serialized dev examples.\")\n",
    "    tf.io.gfile.remove(dev_tfrecord)\n",
    "\n",
    "  # Gets export location.\n",
    "  glob_pattern = os.path.join(FLAGS.model_dir, \"export\", \"bleurt_best\", \"*\")\n",
    "  export_dirs = tf.io.gfile.glob(glob_pattern)\n",
    "  assert export_dirs, \"Model export directory not found.\"\n",
    "  export_dir = export_dirs[0]\n",
    "\n",
    "  # Finalizes the BLEURT checkpoint.\n",
    "  logging.info(\"Exporting BLEURT checkpoint to {}.\".format(export_dir))\n",
    "  checkpoint_lib.finalize_bleurt_checkpoint(export_dir)\n",
    "\n",
    "  return export_dir\n"
   ]
  },
  {
   "cell_type": "code",
   "execution_count": 74,
   "metadata": {
    "collapsed": true
   },
   "outputs": [
    {
     "name": "stdout",
     "output_type": "stream",
     "text": [
      "INFO:tensorflow:Reading BLEURT parameters\n"
     ]
    },
    {
     "ename": "UnrecognizedFlagError",
     "evalue": "Unknown command line flag 'f'",
     "output_type": "error",
     "traceback": [
      "\u001b[1;31m---------------------------------------------------------------------------\u001b[0m",
      "\u001b[1;31mUnrecognizedFlagError\u001b[0m                     Traceback (most recent call last)",
      "\u001b[1;32m<ipython-input-74-3ac509e2abc2>\u001b[0m in \u001b[0;36m<module>\u001b[1;34m\u001b[0m\n\u001b[1;32m----> 1\u001b[1;33m \u001b[0mrun_finetuning_pipeline\u001b[0m\u001b[1;33m(\u001b[0m\u001b[0mtrain\u001b[0m\u001b[1;33m,\u001b[0m \u001b[0mdev\u001b[0m\u001b[1;33m)\u001b[0m\u001b[1;33m\u001b[0m\u001b[1;33m\u001b[0m\u001b[0m\n\u001b[0m",
      "\u001b[1;32m<ipython-input-73-ffa3f7ba65fb>\u001b[0m in \u001b[0;36mrun_finetuning_pipeline\u001b[1;34m(train_set, dev_set, run_in_lazy_mode)\u001b[0m\n\u001b[0;32m      5\u001b[0m     \u001b[0mtf\u001b[0m\u001b[1;33m.\u001b[0m\u001b[0mdisable_eager_execution\u001b[0m\u001b[1;33m(\u001b[0m\u001b[1;33m)\u001b[0m\u001b[1;33m\u001b[0m\u001b[1;33m\u001b[0m\u001b[0m\n\u001b[0;32m      6\u001b[0m \u001b[1;33m\u001b[0m\u001b[0m\n\u001b[1;32m----> 7\u001b[1;33m   \u001b[0mbleurt_params\u001b[0m \u001b[1;33m=\u001b[0m \u001b[0mcheckpoint_lib\u001b[0m\u001b[1;33m.\u001b[0m\u001b[0mget_bleurt_params_from_flags_or_ckpt\u001b[0m\u001b[1;33m(\u001b[0m\u001b[1;33m)\u001b[0m\u001b[1;33m\u001b[0m\u001b[1;33m\u001b[0m\u001b[0m\n\u001b[0m\u001b[0;32m      8\u001b[0m \u001b[1;33m\u001b[0m\u001b[0m\n\u001b[0;32m      9\u001b[0m   \u001b[1;31m# Preprocessing and encoding for train and dev set.\u001b[0m\u001b[1;33m\u001b[0m\u001b[1;33m\u001b[0m\u001b[1;33m\u001b[0m\u001b[0m\n",
      "\u001b[1;32m~\\anaconda3\\lib\\site-packages\\bleurt\\checkpoint.py\u001b[0m in \u001b[0;36mget_bleurt_params_from_flags_or_ckpt\u001b[1;34m()\u001b[0m\n\u001b[0;32m     33\u001b[0m   \u001b[0mlogging\u001b[0m\u001b[1;33m.\u001b[0m\u001b[0minfo\u001b[0m\u001b[1;33m(\u001b[0m\u001b[1;34m\"Reading BLEURT parameters\"\u001b[0m\u001b[1;33m)\u001b[0m\u001b[1;33m\u001b[0m\u001b[1;33m\u001b[0m\u001b[0m\n\u001b[0;32m     34\u001b[0m \u001b[1;33m\u001b[0m\u001b[0m\n\u001b[1;32m---> 35\u001b[1;33m   \u001b[1;32mif\u001b[0m \u001b[0mFLAGS\u001b[0m\u001b[1;33m.\u001b[0m\u001b[0minit_bleurt_checkpoint\u001b[0m\u001b[1;33m:\u001b[0m\u001b[1;33m\u001b[0m\u001b[1;33m\u001b[0m\u001b[0m\n\u001b[0m\u001b[0;32m     36\u001b[0m     logging.info(\"Reading paramter from BLEURT checkpoint: {}\".format(\n\u001b[0;32m     37\u001b[0m         FLAGS.init_bleurt_checkpoint))\n",
      "\u001b[1;32m~\\anaconda3\\lib\\site-packages\\tensorflow\\python\\platform\\flags.py\u001b[0m in \u001b[0;36m__getattr__\u001b[1;34m(self, name)\u001b[0m\n\u001b[0;32m     83\u001b[0m     \u001b[1;31m# a flag.\u001b[0m\u001b[1;33m\u001b[0m\u001b[1;33m\u001b[0m\u001b[1;33m\u001b[0m\u001b[0m\n\u001b[0;32m     84\u001b[0m     \u001b[1;32mif\u001b[0m \u001b[1;32mnot\u001b[0m \u001b[0mwrapped\u001b[0m\u001b[1;33m.\u001b[0m\u001b[0mis_parsed\u001b[0m\u001b[1;33m(\u001b[0m\u001b[1;33m)\u001b[0m\u001b[1;33m:\u001b[0m\u001b[1;33m\u001b[0m\u001b[1;33m\u001b[0m\u001b[0m\n\u001b[1;32m---> 85\u001b[1;33m       \u001b[0mwrapped\u001b[0m\u001b[1;33m(\u001b[0m\u001b[0m_sys\u001b[0m\u001b[1;33m.\u001b[0m\u001b[0margv\u001b[0m\u001b[1;33m)\u001b[0m\u001b[1;33m\u001b[0m\u001b[1;33m\u001b[0m\u001b[0m\n\u001b[0m\u001b[0;32m     86\u001b[0m     \u001b[1;32mreturn\u001b[0m \u001b[0mwrapped\u001b[0m\u001b[1;33m.\u001b[0m\u001b[0m__getattr__\u001b[0m\u001b[1;33m(\u001b[0m\u001b[0mname\u001b[0m\u001b[1;33m)\u001b[0m\u001b[1;33m\u001b[0m\u001b[1;33m\u001b[0m\u001b[0m\n\u001b[0;32m     87\u001b[0m \u001b[1;33m\u001b[0m\u001b[0m\n",
      "\u001b[1;32m~\\anaconda3\\lib\\site-packages\\absl\\flags\\_flagvalues.py\u001b[0m in \u001b[0;36m__call__\u001b[1;34m(self, argv, known_only)\u001b[0m\n\u001b[0;32m    652\u001b[0m     \u001b[1;32mfor\u001b[0m \u001b[0mname\u001b[0m\u001b[1;33m,\u001b[0m \u001b[0mvalue\u001b[0m \u001b[1;32min\u001b[0m \u001b[0munknown_flags\u001b[0m\u001b[1;33m:\u001b[0m\u001b[1;33m\u001b[0m\u001b[1;33m\u001b[0m\u001b[0m\n\u001b[0;32m    653\u001b[0m       \u001b[0msuggestions\u001b[0m \u001b[1;33m=\u001b[0m \u001b[0m_helpers\u001b[0m\u001b[1;33m.\u001b[0m\u001b[0mget_flag_suggestions\u001b[0m\u001b[1;33m(\u001b[0m\u001b[0mname\u001b[0m\u001b[1;33m,\u001b[0m \u001b[0mlist\u001b[0m\u001b[1;33m(\u001b[0m\u001b[0mself\u001b[0m\u001b[1;33m)\u001b[0m\u001b[1;33m)\u001b[0m\u001b[1;33m\u001b[0m\u001b[1;33m\u001b[0m\u001b[0m\n\u001b[1;32m--> 654\u001b[1;33m       raise _exceptions.UnrecognizedFlagError(\n\u001b[0m\u001b[0;32m    655\u001b[0m           name, value, suggestions=suggestions)\n\u001b[0;32m    656\u001b[0m \u001b[1;33m\u001b[0m\u001b[0m\n",
      "\u001b[1;31mUnrecognizedFlagError\u001b[0m: Unknown command line flag 'f'"
     ]
    }
   ],
   "source": [
    "run_finetuning_pipeline(train, dev)"
   ]
  },
  {
   "cell_type": "code",
   "execution_count": null,
   "metadata": {},
   "outputs": [],
   "source": []
  },
  {
   "cell_type": "code",
   "execution_count": null,
   "metadata": {},
   "outputs": [],
   "source": []
  },
  {
   "cell_type": "markdown",
   "metadata": {},
   "source": [
    "# Further Engineering"
   ]
  },
  {
   "cell_type": "markdown",
   "metadata": {},
   "source": [
    "## Encoding\n",
    "\n",
    "**Sklearn : BOW**\\\n",
    "https://scikit-learn.org/stable/modules/generated/sklearn.feature_extraction.text.CountVectorizer.html\n",
    "\n",
    "**Sklearn : TF-IDF**\\\n",
    "https://scikit-learn.org/stable/modules/generated/sklearn.feature_extraction.text.TfidfVectorizer.html"
   ]
  },
  {
   "cell_type": "code",
   "execution_count": 106,
   "metadata": {},
   "outputs": [],
   "source": [
    "# function for encoding the text\n",
    "def encoding(train, dev, test, vectorizer):\n",
    "    baseline_encoder = vectorizer()\n",
    "    names = ['train', 'dev', 'test']\n",
    "    for i,df in enumerate([train, dev, test]):\n",
    "        for column in ['reference', 'translation']:\n",
    "            encoded_df = names[i] + '_encoded_' + column\n",
    "            if i == 0:\n",
    "                vars()[encoded_df] = baseline_encoder.fit_transform(df[column]).todense()\n",
    "            else:\n",
    "                vars()[encoded_df] = baseline_encoder.transform(df[column]).todense()           \n",
    "        y_name = 'y_' + names[i].split('_')[0]\n",
    "        vars()[y_name] = np.array(df['avg-score'])\n",
    "    return train_encoded_translation, train_encoded_reference, dev_encoded_reference,\\\n",
    "           dev_encoded_translation, test_encoded_translation, test_encoded_reference\n",
    "\n",
    "# checking the sparsity of the encoded matrix\n",
    "def get_sparsity(sparse_matrix):\n",
    "    ''' Check for sparsity of the dataset'''\n",
    "    matrix_size = sparse_matrix.shape[0]*sparse_matrix.shape[1] # Number of possible interactions in the matrix\n",
    "    num_words = len(sparse_matrix.nonzero()[0]) # Number of words interacted with\n",
    "    sparsity = 100*(1 - (num_words/matrix_size))\n",
    "    return sparsity"
   ]
  },
  {
   "cell_type": "code",
   "execution_count": null,
   "metadata": {},
   "outputs": [],
   "source": [
    "encoding(train, dev, test, TfidfVectorizer)\n",
    "# encoding(train, dev, test, CountVectorizer)"
   ]
  },
  {
   "cell_type": "code",
   "execution_count": 44,
   "metadata": {},
   "outputs": [
    {
     "data": {
      "text/plain": [
       "99.84900650211618"
      ]
     },
     "execution_count": 44,
     "metadata": {},
     "output_type": "execute_result"
    }
   ],
   "source": [
    "get_sparsity(train_encoded_translation)"
   ]
  },
  {
   "cell_type": "markdown",
   "metadata": {},
   "source": [
    "## Score Bins"
   ]
  },
  {
   "cell_type": "code",
   "execution_count": 59,
   "metadata": {},
   "outputs": [],
   "source": [
    "def create_score_classes(df):\n",
    "    score_classes = []\n",
    "    for i in df['avg-score']:\n",
    "        if i <= 20:\n",
    "            score_classes.append(1)\n",
    "        elif i <= 40:\n",
    "            score_classes.append(2)\n",
    "        elif i <= 60:\n",
    "            score_classes.append(3)\n",
    "        elif i <= 80:\n",
    "            score_classes.append(4)\n",
    "        else:\n",
    "            score_classes.append(5)\n",
    "    df['score_classes'] = score_classes\n",
    "    return df.head()"
   ]
  },
  {
   "cell_type": "code",
   "execution_count": 60,
   "metadata": {},
   "outputs": [
    {
     "data": {
      "text/html": [
       "<div>\n",
       "<style scoped>\n",
       "    .dataframe tbody tr th:only-of-type {\n",
       "        vertical-align: middle;\n",
       "    }\n",
       "\n",
       "    .dataframe tbody tr th {\n",
       "        vertical-align: top;\n",
       "    }\n",
       "\n",
       "    .dataframe thead th {\n",
       "        text-align: right;\n",
       "    }\n",
       "</style>\n",
       "<table border=\"1\" class=\"dataframe\">\n",
       "  <thead>\n",
       "    <tr style=\"text-align: right;\">\n",
       "      <th></th>\n",
       "      <th>reference</th>\n",
       "      <th>translation</th>\n",
       "      <th>avg-score</th>\n",
       "      <th>score_classes</th>\n",
       "    </tr>\n",
       "  </thead>\n",
       "  <tbody>\n",
       "    <tr>\n",
       "      <th>5954</th>\n",
       "      <td>i wa hoping to be in it until the end</td>\n",
       "      <td>i had hoped to see it through to the end but t...</td>\n",
       "      <td>65.666667</td>\n",
       "      <td>4</td>\n",
       "    </tr>\n",
       "    <tr>\n",
       "      <th>34334</th>\n",
       "      <td>the imam interviewed by kommersant who conduct...</td>\n",
       "      <td>the imam interviewed by kommersant who were co...</td>\n",
       "      <td>85.500000</td>\n",
       "      <td>5</td>\n",
       "    </tr>\n",
       "    <tr>\n",
       "      <th>47395</th>\n",
       "      <td>fiji gave master class on the ownership of bal...</td>\n",
       "      <td>fiji gave a masterclass in handling off loadin...</td>\n",
       "      <td>100.000000</td>\n",
       "      <td>5</td>\n",
       "    </tr>\n",
       "    <tr>\n",
       "      <th>20160</th>\n",
       "      <td>he did not violate his information duty he said</td>\n",
       "      <td>according to the judgement the organiser had n...</td>\n",
       "      <td>77.000000</td>\n",
       "      <td>4</td>\n",
       "    </tr>\n",
       "    <tr>\n",
       "      <th>18324</th>\n",
       "      <td>an investigation ha been opened which is a log...</td>\n",
       "      <td>a criminal investigation ha been opened a logi...</td>\n",
       "      <td>79.000000</td>\n",
       "      <td>4</td>\n",
       "    </tr>\n",
       "  </tbody>\n",
       "</table>\n",
       "</div>"
      ],
      "text/plain": [
       "                                               reference  \\\n",
       "5954               i wa hoping to be in it until the end   \n",
       "34334  the imam interviewed by kommersant who conduct...   \n",
       "47395  fiji gave master class on the ownership of bal...   \n",
       "20160    he did not violate his information duty he said   \n",
       "18324  an investigation ha been opened which is a log...   \n",
       "\n",
       "                                             translation   avg-score  \\\n",
       "5954   i had hoped to see it through to the end but t...   65.666667   \n",
       "34334  the imam interviewed by kommersant who were co...   85.500000   \n",
       "47395  fiji gave a masterclass in handling off loadin...  100.000000   \n",
       "20160  according to the judgement the organiser had n...   77.000000   \n",
       "18324  a criminal investigation ha been opened a logi...   79.000000   \n",
       "\n",
       "       score_classes  \n",
       "5954               4  \n",
       "34334              5  \n",
       "47395              5  \n",
       "20160              4  \n",
       "18324              4  "
      ]
     },
     "execution_count": 60,
     "metadata": {},
     "output_type": "execute_result"
    }
   ],
   "source": [
    "create_score_classes(train)"
   ]
  },
  {
   "cell_type": "code",
   "execution_count": 61,
   "metadata": {},
   "outputs": [
    {
     "data": {
      "text/html": [
       "<div>\n",
       "<style scoped>\n",
       "    .dataframe tbody tr th:only-of-type {\n",
       "        vertical-align: middle;\n",
       "    }\n",
       "\n",
       "    .dataframe tbody tr th {\n",
       "        vertical-align: top;\n",
       "    }\n",
       "\n",
       "    .dataframe thead th {\n",
       "        text-align: right;\n",
       "    }\n",
       "</style>\n",
       "<table border=\"1\" class=\"dataframe\">\n",
       "  <thead>\n",
       "    <tr style=\"text-align: right;\">\n",
       "      <th></th>\n",
       "      <th>reference</th>\n",
       "      <th>translation</th>\n",
       "      <th>avg-score</th>\n",
       "      <th>score_classes</th>\n",
       "    </tr>\n",
       "  </thead>\n",
       "  <tbody>\n",
       "    <tr>\n",
       "      <th>62924</th>\n",
       "      <td>he carefully observed the action of his russia...</td>\n",
       "      <td>he carefully observed every word and action of...</td>\n",
       "      <td>11.0</td>\n",
       "      <td>1</td>\n",
       "    </tr>\n",
       "    <tr>\n",
       "      <th>47609</th>\n",
       "      <td>but it in my opinion somewhat tire with the su...</td>\n",
       "      <td>but it is also what i find slightly exhausting...</td>\n",
       "      <td>73.0</td>\n",
       "      <td>4</td>\n",
       "    </tr>\n",
       "    <tr>\n",
       "      <th>77239</th>\n",
       "      <td>there is an economic motive</td>\n",
       "      <td>there is also an economic motive</td>\n",
       "      <td>93.0</td>\n",
       "      <td>5</td>\n",
       "    </tr>\n",
       "    <tr>\n",
       "      <th>61084</th>\n",
       "      <td>it is understood that the first shipment of th...</td>\n",
       "      <td>it is understood that the first carriage of go...</td>\n",
       "      <td>69.0</td>\n",
       "      <td>4</td>\n",
       "    </tr>\n",
       "    <tr>\n",
       "      <th>47115</th>\n",
       "      <td>the buyer of primark insulted the woman who sh...</td>\n",
       "      <td>primark shopper outraged at woman who brazenly...</td>\n",
       "      <td>6.0</td>\n",
       "      <td>1</td>\n",
       "    </tr>\n",
       "  </tbody>\n",
       "</table>\n",
       "</div>"
      ],
      "text/plain": [
       "                                               reference  \\\n",
       "62924  he carefully observed the action of his russia...   \n",
       "47609  but it in my opinion somewhat tire with the su...   \n",
       "77239                        there is an economic motive   \n",
       "61084  it is understood that the first shipment of th...   \n",
       "47115  the buyer of primark insulted the woman who sh...   \n",
       "\n",
       "                                             translation  avg-score  \\\n",
       "62924  he carefully observed every word and action of...       11.0   \n",
       "47609  but it is also what i find slightly exhausting...       73.0   \n",
       "77239                   there is also an economic motive       93.0   \n",
       "61084  it is understood that the first carriage of go...       69.0   \n",
       "47115  primark shopper outraged at woman who brazenly...        6.0   \n",
       "\n",
       "       score_classes  \n",
       "62924              1  \n",
       "47609              4  \n",
       "77239              5  \n",
       "61084              4  \n",
       "47115              1  "
      ]
     },
     "execution_count": 61,
     "metadata": {},
     "output_type": "execute_result"
    }
   ],
   "source": [
    "create_score_classes(dev)"
   ]
  },
  {
   "cell_type": "code",
   "execution_count": 103,
   "metadata": {},
   "outputs": [
    {
     "data": {
      "text/html": [
       "<div>\n",
       "<style scoped>\n",
       "    .dataframe tbody tr th:only-of-type {\n",
       "        vertical-align: middle;\n",
       "    }\n",
       "\n",
       "    .dataframe tbody tr th {\n",
       "        vertical-align: top;\n",
       "    }\n",
       "\n",
       "    .dataframe thead th {\n",
       "        text-align: right;\n",
       "    }\n",
       "</style>\n",
       "<table border=\"1\" class=\"dataframe\">\n",
       "  <thead>\n",
       "    <tr style=\"text-align: right;\">\n",
       "      <th></th>\n",
       "      <th>reference</th>\n",
       "      <th>translation</th>\n",
       "      <th>avg-score</th>\n",
       "      <th>score_classes</th>\n",
       "    </tr>\n",
       "  </thead>\n",
       "  <tbody>\n",
       "    <tr>\n",
       "      <th>36920</th>\n",
       "      <td>a such pita and discovers a female redhead gam...</td>\n",
       "      <td>it is in this state that he is found by the re...</td>\n",
       "      <td>40.0</td>\n",
       "      <td>2</td>\n",
       "    </tr>\n",
       "    <tr>\n",
       "      <th>15960</th>\n",
       "      <td>de maizi re is also here to make sense</td>\n",
       "      <td>de maizi re is also trying to strike a concili...</td>\n",
       "      <td>19.0</td>\n",
       "      <td>1</td>\n",
       "    </tr>\n",
       "    <tr>\n",
       "      <th>51283</th>\n",
       "      <td>bodini said he hoped that the matter could be ...</td>\n",
       "      <td>bordini said he waited for month for the situa...</td>\n",
       "      <td>97.0</td>\n",
       "      <td>5</td>\n",
       "    </tr>\n",
       "    <tr>\n",
       "      <th>49847</th>\n",
       "      <td>bile spent the last three year dominated by it...</td>\n",
       "      <td>bile ha spent the last three year dominating h...</td>\n",
       "      <td>98.0</td>\n",
       "      <td>5</td>\n",
       "    </tr>\n",
       "    <tr>\n",
       "      <th>73972</th>\n",
       "      <td>the moscow city tourist police unit commander ...</td>\n",
       "      <td>lei sakov the brigade captain of moscow city p...</td>\n",
       "      <td>74.0</td>\n",
       "      <td>4</td>\n",
       "    </tr>\n",
       "  </tbody>\n",
       "</table>\n",
       "</div>"
      ],
      "text/plain": [
       "                                               reference  \\\n",
       "36920  a such pita and discovers a female redhead gam...   \n",
       "15960             de maizi re is also here to make sense   \n",
       "51283  bodini said he hoped that the matter could be ...   \n",
       "49847  bile spent the last three year dominated by it...   \n",
       "73972  the moscow city tourist police unit commander ...   \n",
       "\n",
       "                                             translation  avg-score  \\\n",
       "36920  it is in this state that he is found by the re...       40.0   \n",
       "15960  de maizi re is also trying to strike a concili...       19.0   \n",
       "51283  bordini said he waited for month for the situa...       97.0   \n",
       "49847  bile ha spent the last three year dominating h...       98.0   \n",
       "73972  lei sakov the brigade captain of moscow city p...       74.0   \n",
       "\n",
       "       score_classes  \n",
       "36920              2  \n",
       "15960              1  \n",
       "51283              5  \n",
       "49847              5  \n",
       "73972              4  "
      ]
     },
     "execution_count": 103,
     "metadata": {},
     "output_type": "execute_result"
    }
   ],
   "source": [
    "create_score_classes(test)"
   ]
  },
  {
   "cell_type": "markdown",
   "metadata": {},
   "source": [
    "# 5. Model <a class=\"anchor\" id=\"5.\"></a>"
   ]
  },
  {
   "cell_type": "markdown",
   "metadata": {},
   "source": [
    "### RNN"
   ]
  },
  {
   "cell_type": "code",
   "execution_count": 83,
   "metadata": {},
   "outputs": [],
   "source": [
    "import tensorflow as tf\n",
    "from tensorflow import keras\n",
    "from tensorflow.keras import layers"
   ]
  },
  {
   "cell_type": "code",
   "execution_count": 101,
   "metadata": {},
   "outputs": [
    {
     "data": {
      "text/html": [
       "<div>\n",
       "<style scoped>\n",
       "    .dataframe tbody tr th:only-of-type {\n",
       "        vertical-align: middle;\n",
       "    }\n",
       "\n",
       "    .dataframe tbody tr th {\n",
       "        vertical-align: top;\n",
       "    }\n",
       "\n",
       "    .dataframe thead th {\n",
       "        text-align: right;\n",
       "    }\n",
       "</style>\n",
       "<table border=\"1\" class=\"dataframe\">\n",
       "  <thead>\n",
       "    <tr style=\"text-align: right;\">\n",
       "      <th></th>\n",
       "      <th>reference</th>\n",
       "      <th>translation</th>\n",
       "      <th>avg-score</th>\n",
       "      <th>score_classes</th>\n",
       "    </tr>\n",
       "  </thead>\n",
       "  <tbody>\n",
       "    <tr>\n",
       "      <th>5954</th>\n",
       "      <td>i wa hoping to be in it until the end</td>\n",
       "      <td>i had hoped to see it through to the end but t...</td>\n",
       "      <td>65.666667</td>\n",
       "      <td>4</td>\n",
       "    </tr>\n",
       "    <tr>\n",
       "      <th>34334</th>\n",
       "      <td>the imam interviewed by kommersant who conduct...</td>\n",
       "      <td>the imam interviewed by kommersant who were co...</td>\n",
       "      <td>85.500000</td>\n",
       "      <td>5</td>\n",
       "    </tr>\n",
       "    <tr>\n",
       "      <th>47395</th>\n",
       "      <td>fiji gave master class on the ownership of bal...</td>\n",
       "      <td>fiji gave a masterclass in handling off loadin...</td>\n",
       "      <td>100.000000</td>\n",
       "      <td>5</td>\n",
       "    </tr>\n",
       "    <tr>\n",
       "      <th>20160</th>\n",
       "      <td>he did not violate his information duty he said</td>\n",
       "      <td>according to the judgement the organiser had n...</td>\n",
       "      <td>77.000000</td>\n",
       "      <td>4</td>\n",
       "    </tr>\n",
       "    <tr>\n",
       "      <th>18324</th>\n",
       "      <td>an investigation ha been opened which is a log...</td>\n",
       "      <td>a criminal investigation ha been opened a logi...</td>\n",
       "      <td>79.000000</td>\n",
       "      <td>4</td>\n",
       "    </tr>\n",
       "  </tbody>\n",
       "</table>\n",
       "</div>"
      ],
      "text/plain": [
       "                                               reference  \\\n",
       "5954               i wa hoping to be in it until the end   \n",
       "34334  the imam interviewed by kommersant who conduct...   \n",
       "47395  fiji gave master class on the ownership of bal...   \n",
       "20160    he did not violate his information duty he said   \n",
       "18324  an investigation ha been opened which is a log...   \n",
       "\n",
       "                                             translation   avg-score  \\\n",
       "5954   i had hoped to see it through to the end but t...   65.666667   \n",
       "34334  the imam interviewed by kommersant who were co...   85.500000   \n",
       "47395  fiji gave a masterclass in handling off loadin...  100.000000   \n",
       "20160  according to the judgement the organiser had n...   77.000000   \n",
       "18324  a criminal investigation ha been opened a logi...   79.000000   \n",
       "\n",
       "       score_classes  \n",
       "5954               4  \n",
       "34334              5  \n",
       "47395              5  \n",
       "20160              4  \n",
       "18324              4  "
      ]
     },
     "execution_count": 101,
     "metadata": {},
     "output_type": "execute_result"
    }
   ],
   "source": [
    "train.head()"
   ]
  },
  {
   "cell_type": "code",
   "execution_count": 102,
   "metadata": {},
   "outputs": [
    {
     "data": {
      "text/plain": [
       "(62150, 3)"
      ]
     },
     "execution_count": 102,
     "metadata": {},
     "output_type": "execute_result"
    }
   ],
   "source": [
    "train2 = train[['reference', 'translation', 'score_classes']]\n",
    "train2.shape"
   ]
  },
  {
   "cell_type": "code",
   "execution_count": 94,
   "metadata": {},
   "outputs": [
    {
     "name": "stdout",
     "output_type": "stream",
     "text": [
      "Model: \"sequential_2\"\n",
      "_________________________________________________________________\n",
      "Layer (type)                 Output Shape              Param #   \n",
      "=================================================================\n",
      "embedding_1 (Embedding)      (None, None, 64)          64000     \n",
      "_________________________________________________________________\n",
      "lstm_2 (LSTM)                (None, 128)               98816     \n",
      "_________________________________________________________________\n",
      "dense_2 (Dense)              (None, 5)                 645       \n",
      "=================================================================\n",
      "Total params: 163,461\n",
      "Trainable params: 163,461\n",
      "Non-trainable params: 0\n",
      "_________________________________________________________________\n"
     ]
    }
   ],
   "source": [
    "model = keras.Sequential()\n",
    "# Add an Embedding layer expecting input vocab of size 1000, and\n",
    "# output embedding dimension of size 64.\n",
    "\n",
    "model.add(layers.Embedding(input_dim=1000, output_dim=64))\n",
    "\n",
    "\n",
    "# model.add(Conv2D(32, (3,3), input_shape = (62150,3) , activation = 'relu'))\n",
    "# # creating a Pooling layer: each window (pool) has size (2,2)\n",
    "# model.add(MaxPooling2D(pool_size = (2,2)))\n",
    "\n",
    "# Add a LSTM layer with 128 internal units.\n",
    "model.add(layers.LSTM(128))\n",
    "\n",
    "# Add a Dense layer with 10 units.\n",
    "model.add(layers.Dense(5, activation = 'softmax'))\n",
    "\n",
    "model.summary()"
   ]
  },
  {
   "cell_type": "code",
   "execution_count": 95,
   "metadata": {},
   "outputs": [],
   "source": [
    "# compiling the created model\n",
    "model.compile(optimizer = 'adam', \n",
    "              loss = 'categorical_crossentropy',\n",
    "              metrics = ['accuracy'])"
   ]
  },
  {
   "cell_type": "code",
   "execution_count": null,
   "metadata": {},
   "outputs": [],
   "source": []
  },
  {
   "cell_type": "markdown",
   "metadata": {},
   "source": [
    "### Evaluation "
   ]
  },
  {
   "cell_type": "code",
   "execution_count": null,
   "metadata": {},
   "outputs": [],
   "source": []
  },
  {
   "cell_type": "code",
   "execution_count": null,
   "metadata": {},
   "outputs": [],
   "source": []
  }
 ],
 "metadata": {
  "kernelspec": {
   "display_name": "Python 3",
   "language": "python",
   "name": "python3"
  },
  "language_info": {
   "codemirror_mode": {
    "name": "ipython",
    "version": 3
   },
   "file_extension": ".py",
   "mimetype": "text/x-python",
   "name": "python",
   "nbconvert_exporter": "python",
   "pygments_lexer": "ipython3",
   "version": "3.8.5"
  }
 },
 "nbformat": 4,
 "nbformat_minor": 4
}
