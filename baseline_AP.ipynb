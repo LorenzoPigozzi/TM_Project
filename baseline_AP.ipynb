{
 "cells": [
  {
   "cell_type": "code",
   "execution_count": 1,
   "id": "1705b0f0",
   "metadata": {},
   "outputs": [],
   "source": [
    "from nltk.corpus import stopwords\n",
    "from nltk.stem.wordnet import WordNetLemmatizer\n",
    "from nltk.tokenize import word_tokenize\n",
    "from nltk.corpus import wordnet\n",
    "from nltk.stem import SnowballStemmer\n",
    "from bs4 import BeautifulSoup\n",
    "from tqdm.notebook import tqdm\n",
    "import re\n",
    "import string\n",
    "import nltk\n",
    "import pandas as pd\n",
    "import os\n",
    "import numpy as np\n",
    "import matplotlib.pyplot as plt\n",
    "import seaborn as sns\n",
    "from sklearn.preprocessing import MinMaxScaler\n",
    "from sklearn.model_selection import train_test_split, ParameterGrid\n",
    "from sklearn.feature_extraction.text import CountVectorizer\n",
    "from sklearn.metrics.pairwise import cosine_similarity\n",
    "from sklearn.linear_model import LinearRegression\n",
    "from scipy.stats import pearsonr, kendalltau\n",
    "import libvoikko"
   ]
  },
  {
   "cell_type": "code",
   "execution_count": 2,
   "id": "06459d9e",
   "metadata": {},
   "outputs": [],
   "source": [
    "import warnings\n",
    "warnings.filterwarnings(\"ignore\")"
   ]
  },
  {
   "cell_type": "code",
   "execution_count": null,
   "id": "fdcce188",
   "metadata": {},
   "outputs": [],
   "source": [
    "# !pip install libvoikko\n",
    "# !pip install voikko"
   ]
  },
  {
   "cell_type": "markdown",
   "id": "ce514b72",
   "metadata": {
    "id": "jA_9c3SpLTUn"
   },
   "source": [
    "# Data Importing and Sorting"
   ]
  },
  {
   "cell_type": "code",
   "execution_count": 3,
   "id": "bb58d83f",
   "metadata": {
    "id": "nU_gOCWtF8XY"
   },
   "outputs": [],
   "source": [
    "files = os.listdir('corpus')\n",
    "files.remove('.DS_Store')\n",
    "files.remove('scores_ru-en.csv')\n",
    "scaler = MinMaxScaler()\n",
    "for file_ in files:\n",
    "  name = file_.split('-')[0] + file_.split('-')[1]\n",
    "  vars()[name] = pd.read_csv(os.path.join('corpus', file_, 'scores.csv'))\n",
    "  vars()[name].drop(columns = ['source', 'annotators', 'z-score'], inplace = True)\n",
    "  vars()[name]['avg-score'] = scaler.fit_transform(vars()[name]['avg-score'].values.reshape(-1,1)) #normalizing values betwewen 0 and 1"
   ]
  },
  {
   "cell_type": "code",
   "execution_count": 4,
   "id": "9f1ef1c2",
   "metadata": {
    "id": "EcUEx6elHvwd"
   },
   "outputs": [],
   "source": [
    "english = csen.copy()\n",
    "for df in [deen, ruen, zhen]:\n",
    "  english = english.append(df)"
   ]
  },
  {
   "cell_type": "code",
   "execution_count": 5,
   "id": "074be1cf",
   "metadata": {
    "id": "8ziEKCv4LFwE"
   },
   "outputs": [],
   "source": [
    "finnish = enfi.copy()\n",
    "chinese = enzh.copy()"
   ]
  },
  {
   "cell_type": "code",
   "execution_count": 6,
   "id": "8ddc2095",
   "metadata": {},
   "outputs": [],
   "source": [
    "english.reset_index(drop = True, inplace = True)"
   ]
  },
  {
   "cell_type": "markdown",
   "id": "a5db87e2",
   "metadata": {},
   "source": [
    "# Baseline assessment before preprocessment"
   ]
  },
  {
   "cell_type": "markdown",
   "id": "9ea7c5eb",
   "metadata": {},
   "source": [
    "### Finnish & Chinese"
   ]
  },
  {
   "cell_type": "code",
   "execution_count": 22,
   "id": "1932053c",
   "metadata": {},
   "outputs": [],
   "source": [
    "# Train, Validation & Test split\n",
    "# en_train, en_dev = train_test_split(english, shuffle = True, test_size = 0.2, random_state = 7)\n",
    "# en_dev, en_test = train_test_split(en_dev, shuffle = True, test_size = 0.5, random_state = 7)\n",
    "\n",
    "fin_train, fin_dev = train_test_split(finnish, shuffle = True, test_size = 0.2, random_state = 7)\n",
    "fin_dev, fin_test = train_test_split(fin_dev, shuffle = True, test_size = 0.5, random_state = 7)\n",
    "\n",
    "ch_train, ch_dev = train_test_split(chinese, shuffle = True, test_size = 0.2, random_state = 7)\n",
    "ch_dev, ch_test = train_test_split(ch_dev, shuffle = True, test_size = 0.5, random_state = 7)"
   ]
  },
  {
   "cell_type": "code",
   "execution_count": 7,
   "id": "3e223b71",
   "metadata": {},
   "outputs": [],
   "source": [
    "def dataVectorization(train, dev, test):\n",
    "    \"\"\"\n",
    "    Function that receives train, development and test datasets and returns the sets vectorized.\n",
    "    \n",
    "    \"\"\"    \n",
    "    # Create the CountVectorizer (Bag of words) object\n",
    "    baseline_encoder = CountVectorizer(max_features = 5000) # Settting limit for computational reasons\n",
    "    \n",
    "    train_vectorizer_reference = baseline_encoder.fit_transform(train['reference']).todense()\n",
    "    train_vectorizer_translation = baseline_encoder.transform(train['translation']).todense()\n",
    "    train_vectorizer = [train_vectorizer_reference, train_vectorizer_translation]\n",
    "    \n",
    "    for i, d in enumerate([dev, test]):\n",
    "        referece_vectorized = baseline_encoder.transform(d['reference']).todense()\n",
    "        translation_vectorized = baseline_encoder.transform(d['translation']).todense()\n",
    "        if i == 0:\n",
    "            dev_vectorizer = [referece_vectorized, translation_vectorized]\n",
    "        else:\n",
    "            test_vectorizer = [referece_vectorized, translation_vectorized]\n",
    "    \n",
    "    return train_vectorizer, dev_vectorizer, test_vectorizer\n",
    "\n",
    "def getBaseline(reference, translation, yLabels):\n",
    "    \"\"\"\n",
    "    Get baseline correlations for the given sets, computing the cosine similarity.\n",
    "    \n",
    "    \"\"\"   \n",
    "    cos = []\n",
    "    for i in range(reference.shape[0]):\n",
    "        cos.append(cosine_similarity(reference[i], translation[i])[0])\n",
    "    cos = np.array(cos)\n",
    "    cos.shape = (cos.shape[0],)\n",
    "    \n",
    "    return pearsonr(yLabels, cos), kendalltau(yLabels, cos)"
   ]
  },
  {
   "cell_type": "code",
   "execution_count": 23,
   "id": "c401fd39",
   "metadata": {},
   "outputs": [],
   "source": [
    "fin_train_bl_encoded, fin_dev_bl_encoded, fin_test_bl_encoded = dataVectorization(fin_train, fin_dev, fin_test)\n",
    "ch_train_bl_encoded, ch_dev_bl_encoded, ch_test_bl_encoded = dataVectorization(ch_train, ch_dev, ch_test)"
   ]
  },
  {
   "cell_type": "code",
   "execution_count": 24,
   "id": "d42c1d63",
   "metadata": {},
   "outputs": [
    {
     "name": "stdout",
     "output_type": "stream",
     "text": [
      "Finnish - Pearson correlation between cosine similarity and score on train set: 0.44505469485853616 (p-value < 0.001: True); and Kendall Tau: 0.29043657889118873 (p-value < 0.001: True)\n",
      "Finnish - Pearson correlation between cosine similarity and score on validation set: 0.4587223249911555 (p-value < 0.001: True); and Kendall Tau: 0.29043657889118873 (p-value < 0.001: True)\n",
      "Chinese - Pearson correlation between cosine similarity and score on train set: 0.14019816862465778 (p-value < 0.001: True); and Kendall Tau: 0.11768872321881868 (p-value < 0.001: True)\n",
      "Chinese - Pearson correlation between cosine similarity and score on validation set: 0.0627879376611599 (p-value < 0.001: False); and Kendall Tau: 0.11768872321881868 (p-value < 0.001: True)\n"
     ]
    }
   ],
   "source": [
    "# Finnish\n",
    "y_train_label = np.array(fin_train['avg-score'])\n",
    "finnish_train_pearson, finnish_train_kendalltau = getBaseline(fin_train_bl_encoded[0], fin_train_bl_encoded[1], y_train_label)\n",
    "print(f'Finnish - Pearson correlation between cosine similarity and score on train set: {finnish_train_pearson[0]} (p-value < 0.001: {finnish_train_pearson[1] < 0.001}); and Kendall Tau: {finnish_train_kendalltau[0]} (p-value < 0.001: {finnish_train_kendalltau[1] < 0.001})')\n",
    "y_dev_label = np.array(fin_dev['avg-score'])\n",
    "finnish_dev_pearson, finnish_dev_kendalltau = getBaseline(fin_dev_bl_encoded[0], fin_dev_bl_encoded[1], y_dev_label)\n",
    "print(f'Finnish - Pearson correlation between cosine similarity and score on validation set: {finnish_dev_pearson[0]} (p-value < 0.001: {finnish_dev_pearson[1] < 0.001}); and Kendall Tau: {finnish_train_kendalltau[0]} (p-value < 0.001: {finnish_train_kendalltau[1] < 0.001})')\n",
    "\n",
    "# Chinese\n",
    "y_train_label = np.array(ch_train['avg-score'])\n",
    "chinese_train_pearson, chinese_train_kendalltau = getBaseline(ch_train_bl_encoded[0], ch_train_bl_encoded[1], y_train_label)\n",
    "print(f'Chinese - Pearson correlation between cosine similarity and score on train set: {chinese_train_pearson[0]} (p-value < 0.001: {chinese_train_pearson[1] < 0.001}); and Kendall Tau: {chinese_train_kendalltau[0]} (p-value < 0.001: {chinese_train_kendalltau[1] < 0.001})')\n",
    "y_dev_label = np.array(ch_dev['avg-score'])\n",
    "chinese_dev_pearson, chinese_dev_kendalltau = getBaseline(ch_dev_bl_encoded[0], ch_dev_bl_encoded[1], y_dev_label)\n",
    "print(f'Chinese - Pearson correlation between cosine similarity and score on validation set: {chinese_dev_pearson[0]} (p-value < 0.001: {chinese_dev_pearson[1] < 0.001}); and Kendall Tau: {chinese_train_kendalltau[0]} (p-value < 0.001: {chinese_train_kendalltau[1] < 0.001})')"
   ]
  },
  {
   "cell_type": "markdown",
   "id": "e17c2d59",
   "metadata": {},
   "source": [
    "# Cleaning the corpus"
   ]
  },
  {
   "cell_type": "code",
   "execution_count": 8,
   "id": "50996387",
   "metadata": {},
   "outputs": [],
   "source": [
    "def clean(text_list,\n",
    "          lower = False,\n",
    "          keep_numbers = False,\n",
    "          keep_expression = False,\n",
    "          remove_char = False,\n",
    "          remove_stop = False,\n",
    "          remove_tag = False,\n",
    "          lemmatize = False,\n",
    "          stemmer = False,\n",
    "          english = True\n",
    "          ):\n",
    "    \"\"\"\n",
    "    Function that a receives a list of strings and preprocesses it.\n",
    "    \n",
    "    :param text_list: List of strings.\n",
    "    :param lemmatize: Tag to apply lemmatization if True.\n",
    "    :param stemmer: Tag to apply the stemmer if True.\n",
    "    \"\"\"\n",
    "    if english:\n",
    "        lang = 'english'\n",
    "    else:\n",
    "        lang = 'finnish'\n",
    "    \n",
    "    stop = set(stopwords.words(lang))\n",
    "    stem = SnowballStemmer(lang)\n",
    "    \n",
    "    updates = []\n",
    "    for j in range(len(text_list)):\n",
    "        \n",
    "        text = text_list[j]\n",
    "        \n",
    "        #LOWERCASE TEXT\n",
    "        if lower:\n",
    "            text = text.lower()\n",
    "            \n",
    "        #KEEP NUMBERS AS TOKENS\n",
    "        if not keep_numbers:\n",
    "            text = re.sub(\"[\\d+]\", 'X', text)\n",
    "        \n",
    "        #KEEP '?' and '!' AS TOKENS\n",
    "        if not keep_expression:\n",
    "            text = re.sub(\"[\\?|\\!]\", 'EXPRESSION', text)\n",
    "            \n",
    "        #REMOVE TAGS\n",
    "        if remove_tag:\n",
    "            text = BeautifulSoup(text).get_text()\n",
    "            \n",
    "        #REMOVE THAT IS NOT TEXT\n",
    "        if remove_char:\n",
    "            text = re.sub(\"[^a-zA-Z]\", ' ', text)\n",
    "        \n",
    "        #REMOVE STOP WORDS\n",
    "        if remove_stop:\n",
    "            text = ' '.join([word for word in text.split(' ') if word not in stop])\n",
    "        \n",
    "        #LEMMATIZATION\n",
    "        if lemmatize:\n",
    "            if english:\n",
    "                lemma = WordNetLemmatizer()\n",
    "                text = \" \".join(lemma.lemmatize(word) for word in text.split())\n",
    "        \n",
    "        #STEMMER\n",
    "        if stemmer:\n",
    "            text = \" \".join(stem.stem(word) for word in text.split())\n",
    "        \n",
    "        updates.append(text)\n",
    "        \n",
    "    return updates\n",
    "\n",
    "def clean_ch(text_list, keep_numbers=False, remove_punctuation=False, remove_stop = False, stopwords_set='merged'):\n",
    "    \"\"\"\n",
    "    Function that removes chinese stopwords\n",
    "    \n",
    "    :param stopwords_set: remove words of both sets (merged), just the 1st (fst) or just the second (snd) \n",
    "    \"\"\"\n",
    "    updates = []\n",
    "    \n",
    "    zh_stopwords1 = [line.strip() for line in open('chinese_stopwords/chinese_stopwords1.txt', 'r', encoding='utf-8').readlines()]\n",
    "    zh_stopwords2 = [line.strip() for line in open('chinese_stopwords/chinese_stopwords2.txt', 'r', encoding='utf-8').readlines()]\n",
    "    \n",
    "    if stopwords_set == 'merged':\n",
    "        stop = list(set(zh_stopwords1 + zh_stopwords2))\n",
    "    elif stopwords_set == 'fst':\n",
    "        stop = zh_stopwords1\n",
    "    elif stopwords_set == 'snd':\n",
    "        stop = zh_stopwords2\n",
    "\n",
    "    for j in range(len(text_list)):\n",
    "        \n",
    "        text = text_list[j]\n",
    "        \n",
    "        #KEEP NUMBERS AS TOKENS\n",
    "        if keep_numbers:\n",
    "            text = re.sub(\"[\\d+]\", 'X', text)\n",
    "        \n",
    "        # REMOVE PUNCTUATION\n",
    "        if remove_punctuation:\n",
    "            # https://stackoverflow.com/questions/36640587/how-to-remove-chinese-punctuation-in-python\n",
    "            punc = \"！？｡。＂＃＄％＆＇（）＊＋，－／：；＜＝＞＠［＼］＾＿｀｛｜｝～｟｠｢｣､、〃》「」『』【】〔〕〖〗〘〙〚〛〜〝〞〟〰〾〿–—‘’‛“”„‟…‧﹏.\"\n",
    "            text = re.sub(r\"[%s]+\" %punc, \"\", text)\n",
    "        \n",
    "        # REMOVE STOP WORDS\n",
    "        if remove_stop:\n",
    "            text = ' '.join([word for word in text.split(' ') if word not in stop])\n",
    "            \n",
    "        updates.append(text)\n",
    "        \n",
    "    return updates"
   ]
  },
  {
   "cell_type": "code",
   "execution_count": 9,
   "id": "88425f81",
   "metadata": {},
   "outputs": [],
   "source": [
    "parameters = {'lower': [True, False],\n",
    "              'keep_numbers': [True, False],\n",
    "              'keep_expression': [True, False],\n",
    "              'remove_char': [True, False],\n",
    "              'remove_stop': [True, False],\n",
    "              'remove_tag': [True, False],\n",
    "              'lemmatize': [False],\n",
    "              'stemmer': [True, False]}\n",
    "\n",
    "parameters = pd.DataFrame(list(ParameterGrid(parameters)))"
   ]
  },
  {
   "cell_type": "code",
   "execution_count": 11,
   "id": "0a667ec3",
   "metadata": {},
   "outputs": [
    {
     "name": "stdout",
     "output_type": "stream",
     "text": [
      "keep_expression        True\n",
      "keep_numbers           True\n",
      "lemmatize             False\n",
      "lower                 False\n",
      "remove_char           False\n",
      "remove_stop           False\n",
      "remove_tag            False\n",
      "stemmer               False\n",
      "pearson_train      0.445055\n",
      "kendal_train       0.290437\n",
      "pearson_dev        0.458722\n",
      "kendal_dev          0.31621\n",
      "Name: 31, dtype: object\n",
      "0.44505469485853616 0.29043657889118873\n",
      "0.4587223249911555 0.31620991479123983\n"
     ]
    }
   ],
   "source": [
    "for conf in range(parameters.shape[0]):\n",
    "    sets = ['train', 'dev']\n",
    "    cleaned_data = pd.DataFrame()\n",
    "    cleaned_data['avg-score'] = finnish['avg-score']\n",
    "    for column in ['reference', 'translation']:\n",
    "        cleaned_data[column] = clean(finnish[column],\n",
    "                                    lower = parameters.loc[conf, 'lower'],\n",
    "                                    keep_numbers = parameters.loc[conf, 'keep_numbers'],\n",
    "                                    keep_expression = parameters.loc[conf, 'keep_expression'],\n",
    "                                    remove_char = parameters.loc[conf, 'remove_char'],\n",
    "                                    remove_stop = parameters.loc[conf, 'remove_stop'],\n",
    "                                    remove_tag = parameters.loc[conf, 'remove_tag'],\n",
    "                                    lemmatize = parameters.loc[conf, 'lemmatize'],\n",
    "                                    stemmer = parameters.loc[conf, 'stemmer'],\n",
    "                                    english=False)\n",
    "    \n",
    "    fin_train, fin_dev = train_test_split(cleaned_data, shuffle = True, test_size = 0.2, random_state = 7)\n",
    "    fin_dev, fin_test = train_test_split(fin_dev, shuffle = True, test_size = 0.5, random_state = 7)\n",
    "    \n",
    "    fin_train_bl_encoded, fin_dev_bl_encoded, fin_test_bl_encoded = dataVectorization(fin_train, fin_dev, fin_test)\n",
    "    \n",
    "    y_train_label = np.array(fin_train['avg-score'])\n",
    "    finnish_train_pearson, finnish_train_kendalltau = getBaseline(fin_train_bl_encoded[0], fin_train_bl_encoded[1], y_train_label)\n",
    "    parameters.loc[conf, ['pearson_train', 'kendal_train']] = finnish_train_pearson[0], finnish_train_kendalltau[0]\n",
    "    \n",
    "    y_dev_label = np.array(fin_dev['avg-score'])\n",
    "    finnish_dev_pearson, finnish_dev_kendalltau = getBaseline(fin_dev_bl_encoded[0], fin_dev_bl_encoded[1], y_dev_label)\n",
    "    parameters.loc[conf, ['pearson_dev', 'kendal_dev']] = finnish_dev_pearson[0], finnish_dev_kendalltau[0]\n",
    "        \n",
    "parameters.to_csv('grid_parameters_finnish.csv')"
   ]
  },
  {
   "cell_type": "code",
   "execution_count": 25,
   "id": "91bddc78",
   "metadata": {},
   "outputs": [],
   "source": [
    "finnishDf = pd.read_csv('grid_parameters_finnish.csv', index_col = 0)"
   ]
  },
  {
   "cell_type": "code",
   "execution_count": 26,
   "id": "c1884565",
   "metadata": {},
   "outputs": [],
   "source": [
    "finnishDf['train_avg'] = finnishDf[['pearson_train', 'kendal_train']].mean(axis=1)\n",
    "finnishDf['dev_avg'] = finnishDf[['pearson_dev', 'kendal_dev']].mean(axis=1)"
   ]
  },
  {
   "cell_type": "code",
   "execution_count": 27,
   "id": "5067ec9f",
   "metadata": {},
   "outputs": [
    {
     "data": {
      "text/html": [
       "<div>\n",
       "<style scoped>\n",
       "    .dataframe tbody tr th:only-of-type {\n",
       "        vertical-align: middle;\n",
       "    }\n",
       "\n",
       "    .dataframe tbody tr th {\n",
       "        vertical-align: top;\n",
       "    }\n",
       "\n",
       "    .dataframe thead th {\n",
       "        text-align: right;\n",
       "    }\n",
       "</style>\n",
       "<table border=\"1\" class=\"dataframe\">\n",
       "  <thead>\n",
       "    <tr style=\"text-align: right;\">\n",
       "      <th></th>\n",
       "      <th>keep_expression</th>\n",
       "      <th>keep_numbers</th>\n",
       "      <th>lemmatize</th>\n",
       "      <th>lower</th>\n",
       "      <th>remove_char</th>\n",
       "      <th>remove_stop</th>\n",
       "      <th>remove_tag</th>\n",
       "      <th>stemmer</th>\n",
       "      <th>pearson_train</th>\n",
       "      <th>kendal_train</th>\n",
       "      <th>pearson_dev</th>\n",
       "      <th>kendal_dev</th>\n",
       "      <th>train_avg</th>\n",
       "      <th>dev_avg</th>\n",
       "    </tr>\n",
       "  </thead>\n",
       "  <tbody>\n",
       "    <tr>\n",
       "      <th>118</th>\n",
       "      <td>False</td>\n",
       "      <td>False</td>\n",
       "      <td>False</td>\n",
       "      <td>False</td>\n",
       "      <td>True</td>\n",
       "      <td>False</td>\n",
       "      <td>False</td>\n",
       "      <td>True</td>\n",
       "      <td>0.496241</td>\n",
       "      <td>0.320892</td>\n",
       "      <td>0.529824</td>\n",
       "      <td>0.367403</td>\n",
       "      <td>0.408566</td>\n",
       "      <td>0.448614</td>\n",
       "    </tr>\n",
       "    <tr>\n",
       "      <th>116</th>\n",
       "      <td>False</td>\n",
       "      <td>False</td>\n",
       "      <td>False</td>\n",
       "      <td>False</td>\n",
       "      <td>True</td>\n",
       "      <td>False</td>\n",
       "      <td>True</td>\n",
       "      <td>True</td>\n",
       "      <td>0.496241</td>\n",
       "      <td>0.320892</td>\n",
       "      <td>0.529824</td>\n",
       "      <td>0.367403</td>\n",
       "      <td>0.408566</td>\n",
       "      <td>0.448614</td>\n",
       "    </tr>\n",
       "    <tr>\n",
       "      <th>102</th>\n",
       "      <td>False</td>\n",
       "      <td>False</td>\n",
       "      <td>False</td>\n",
       "      <td>True</td>\n",
       "      <td>True</td>\n",
       "      <td>False</td>\n",
       "      <td>False</td>\n",
       "      <td>True</td>\n",
       "      <td>0.496241</td>\n",
       "      <td>0.320892</td>\n",
       "      <td>0.529824</td>\n",
       "      <td>0.367403</td>\n",
       "      <td>0.408566</td>\n",
       "      <td>0.448614</td>\n",
       "    </tr>\n",
       "    <tr>\n",
       "      <th>100</th>\n",
       "      <td>False</td>\n",
       "      <td>False</td>\n",
       "      <td>False</td>\n",
       "      <td>True</td>\n",
       "      <td>True</td>\n",
       "      <td>False</td>\n",
       "      <td>True</td>\n",
       "      <td>True</td>\n",
       "      <td>0.496241</td>\n",
       "      <td>0.320892</td>\n",
       "      <td>0.529824</td>\n",
       "      <td>0.367403</td>\n",
       "      <td>0.408566</td>\n",
       "      <td>0.448614</td>\n",
       "    </tr>\n",
       "    <tr>\n",
       "      <th>54</th>\n",
       "      <td>True</td>\n",
       "      <td>False</td>\n",
       "      <td>False</td>\n",
       "      <td>False</td>\n",
       "      <td>True</td>\n",
       "      <td>False</td>\n",
       "      <td>False</td>\n",
       "      <td>True</td>\n",
       "      <td>0.495549</td>\n",
       "      <td>0.320471</td>\n",
       "      <td>0.530620</td>\n",
       "      <td>0.369137</td>\n",
       "      <td>0.408010</td>\n",
       "      <td>0.449879</td>\n",
       "    </tr>\n",
       "  </tbody>\n",
       "</table>\n",
       "</div>"
      ],
      "text/plain": [
       "     keep_expression  keep_numbers  lemmatize  lower  remove_char  \\\n",
       "118            False         False      False  False         True   \n",
       "116            False         False      False  False         True   \n",
       "102            False         False      False   True         True   \n",
       "100            False         False      False   True         True   \n",
       "54              True         False      False  False         True   \n",
       "\n",
       "     remove_stop  remove_tag  stemmer  pearson_train  kendal_train  \\\n",
       "118        False       False     True       0.496241      0.320892   \n",
       "116        False        True     True       0.496241      0.320892   \n",
       "102        False       False     True       0.496241      0.320892   \n",
       "100        False        True     True       0.496241      0.320892   \n",
       "54         False       False     True       0.495549      0.320471   \n",
       "\n",
       "     pearson_dev  kendal_dev  train_avg   dev_avg  \n",
       "118     0.529824    0.367403   0.408566  0.448614  \n",
       "116     0.529824    0.367403   0.408566  0.448614  \n",
       "102     0.529824    0.367403   0.408566  0.448614  \n",
       "100     0.529824    0.367403   0.408566  0.448614  \n",
       "54      0.530620    0.369137   0.408010  0.449879  "
      ]
     },
     "execution_count": 27,
     "metadata": {},
     "output_type": "execute_result"
    }
   ],
   "source": [
    "finnishDf.sort_values(f'train_avg', ascending=False).iloc[0:5,]"
   ]
  },
  {
   "cell_type": "code",
   "execution_count": 28,
   "id": "0863ffa5",
   "metadata": {},
   "outputs": [
    {
     "data": {
      "image/png": "[encoded data removed]",
      "text/plain": [
       "<Figure size 432x288 with 1 Axes>"
      ]
     },
     "metadata": {
      "needs_background": "light"
     },
     "output_type": "display_data"
    },
    {
     "data": {
      "image/png": "[encoded data removed]",
      "text/plain": [
       "<Figure size 432x288 with 1 Axes>"
      ]
     },
     "metadata": {
      "needs_background": "light"
     },
     "output_type": "display_data"
    }
   ],
   "source": [
    "for data_type in ['train', 'dev']:\n",
    "    fig = sns.barplot(finnishDf.sort_values(f'{data_type}_avg', ascending=False).iloc[0,8:].index,\n",
    "                      finnishDf.sort_values(f'{data_type}_avg', ascending=False).iloc[0,8:].values)\n",
    "    # Iterrating over the bars one-by-one\n",
    "    for bar in fig.patches:\n",
    "        fig.annotate(format(bar.get_height(), '.2f'), \n",
    "                       (bar.get_x() + bar.get_width() / 2, \n",
    "                        bar.get_height()), ha='center', va='center',\n",
    "                       size=8, xytext=(0, 8),\n",
    "                       textcoords='offset points')\n",
    "    fig.set_xticklabels(fig.get_xticklabels(),rotation=90)\n",
    "    fig.set_title(f'Higher config on {data_type} \\n' + str(dict(finnishDf.sort_values(f'{data_type}_avg', ascending=False).iloc[0, 0:8])))\n",
    "    plt.show()"
   ]
  },
  {
   "cell_type": "code",
   "execution_count": 29,
   "id": "4656357a",
   "metadata": {},
   "outputs": [],
   "source": [
    "parameters_ch = {'keep_numbers': [True, False],\n",
    "                  'remove_punctuation': [True, False],\n",
    "                  'remove_stop': [True, False],\n",
    "                  'stopwords_set': ['merged', 'fst', 'snd']}\n",
    "\n",
    "parameters_ch = pd.DataFrame(list(ParameterGrid(parameters_ch)))"
   ]
  },
  {
   "cell_type": "code",
   "execution_count": null,
   "id": "ca8667de",
   "metadata": {},
   "outputs": [],
   "source": [
    "for conf in range(parameters_ch.shape[0]):\n",
    "    sets = ['train', 'dev']\n",
    "    cleaned_data = pd.DataFrame()\n",
    "    cleaned_data['avg-score'] = chinese['avg-score']\n",
    "    for column in ['reference', 'translation']:\n",
    "        cleaned_data[column] = clean_ch(chinese[column],\n",
    "                                    keep_numbers = parameters_ch.loc[conf, 'keep_numbers'],\n",
    "                                    remove_punctuation = parameters_ch.loc[conf, 'remove_punctuation'],\n",
    "                                    remove_stop = parameters_ch.loc[conf, 'remove_stop'],\n",
    "                                    stopwords_set = parameters_ch.loc[conf, 'stopwords_set'])\n",
    "    \n",
    "    ch_train, ch_dev = train_test_split(cleaned_data, shuffle = True, test_size = 0.2, random_state = 7)\n",
    "    ch_dev, ch_test = train_test_split(ch_dev, shuffle = True, test_size = 0.5, random_state = 7)\n",
    "    \n",
    "    ch_train_bl_encoded, ch_dev_bl_encoded, ch_test_bl_encoded = dataVectorization(ch_train, ch_dev, ch_test)\n",
    "    \n",
    "    y_train_label = np.array(ch_train['avg-score'])\n",
    "    chinese_train_pearson, chinese_train_kendalltau = getBaseline(ch_train_bl_encoded[0], ch_train_bl_encoded[1], y_train_label)\n",
    "    parameters_ch.loc[conf, ['pearson_train', 'kendal_train']] = chinese_train_pearson[0], chinese_train_kendalltau[0]\n",
    "    \n",
    "    y_dev_label = np.array(ch_dev['avg-score'])\n",
    "    chinese_dev_pearson, chinese_dev_kendalltau = getBaseline(ch_dev_bl_encoded[0], ch_dev_bl_encoded[1], y_dev_label)\n",
    "    parameters_ch.loc[conf, ['pearson_dev', 'kendal_dev']] = chinese_dev_pearson[0], chinese_dev_kendalltau[0]\n",
    "    \n",
    "parameters_ch.to_csv('grid_parameters_chinese.csv')"
   ]
  },
  {
   "cell_type": "code",
   "execution_count": 30,
   "id": "0ba10b63",
   "metadata": {},
   "outputs": [],
   "source": [
    "chineseDf = pd.read_csv('grid_parameters_chinese.csv', index_col = 0)"
   ]
  },
  {
   "cell_type": "code",
   "execution_count": 31,
   "id": "6d4d4e12",
   "metadata": {},
   "outputs": [],
   "source": [
    "chineseDf['train_avg'] = (chineseDf['pearson_train'] + chineseDf['kendal_train']) / 2\n",
    "chineseDf['dev_avg'] = (chineseDf['pearson_dev'] + chineseDf['kendal_dev']) / 2"
   ]
  },
  {
   "cell_type": "code",
   "execution_count": 33,
   "id": "53b155df",
   "metadata": {},
   "outputs": [
    {
     "data": {
      "text/html": [
       "<div>\n",
       "<style scoped>\n",
       "    .dataframe tbody tr th:only-of-type {\n",
       "        vertical-align: middle;\n",
       "    }\n",
       "\n",
       "    .dataframe tbody tr th {\n",
       "        vertical-align: top;\n",
       "    }\n",
       "\n",
       "    .dataframe thead th {\n",
       "        text-align: right;\n",
       "    }\n",
       "</style>\n",
       "<table border=\"1\" class=\"dataframe\">\n",
       "  <thead>\n",
       "    <tr style=\"text-align: right;\">\n",
       "      <th></th>\n",
       "      <th>keep_numbers</th>\n",
       "      <th>remove_punctuation</th>\n",
       "      <th>remove_stop</th>\n",
       "      <th>stopwords_set</th>\n",
       "      <th>pearson_train</th>\n",
       "      <th>kendal_train</th>\n",
       "      <th>pearson_dev</th>\n",
       "      <th>kendal_dev</th>\n",
       "      <th>train_avg</th>\n",
       "      <th>dev_avg</th>\n",
       "    </tr>\n",
       "  </thead>\n",
       "  <tbody>\n",
       "    <tr>\n",
       "      <th>9</th>\n",
       "      <td>True</td>\n",
       "      <td>False</td>\n",
       "      <td>False</td>\n",
       "      <td>merged</td>\n",
       "      <td>0.142854</td>\n",
       "      <td>0.119220</td>\n",
       "      <td>0.065018</td>\n",
       "      <td>0.052359</td>\n",
       "      <td>0.131037</td>\n",
       "      <td>0.058689</td>\n",
       "    </tr>\n",
       "    <tr>\n",
       "      <th>10</th>\n",
       "      <td>True</td>\n",
       "      <td>False</td>\n",
       "      <td>False</td>\n",
       "      <td>fst</td>\n",
       "      <td>0.142854</td>\n",
       "      <td>0.119220</td>\n",
       "      <td>0.065018</td>\n",
       "      <td>0.052359</td>\n",
       "      <td>0.131037</td>\n",
       "      <td>0.058689</td>\n",
       "    </tr>\n",
       "    <tr>\n",
       "      <th>11</th>\n",
       "      <td>True</td>\n",
       "      <td>False</td>\n",
       "      <td>False</td>\n",
       "      <td>snd</td>\n",
       "      <td>0.142854</td>\n",
       "      <td>0.119220</td>\n",
       "      <td>0.065018</td>\n",
       "      <td>0.052359</td>\n",
       "      <td>0.131037</td>\n",
       "      <td>0.058689</td>\n",
       "    </tr>\n",
       "    <tr>\n",
       "      <th>8</th>\n",
       "      <td>True</td>\n",
       "      <td>False</td>\n",
       "      <td>True</td>\n",
       "      <td>snd</td>\n",
       "      <td>0.141367</td>\n",
       "      <td>0.118394</td>\n",
       "      <td>0.072398</td>\n",
       "      <td>0.058600</td>\n",
       "      <td>0.129881</td>\n",
       "      <td>0.065499</td>\n",
       "    </tr>\n",
       "    <tr>\n",
       "      <th>6</th>\n",
       "      <td>True</td>\n",
       "      <td>False</td>\n",
       "      <td>True</td>\n",
       "      <td>merged</td>\n",
       "      <td>0.141189</td>\n",
       "      <td>0.118187</td>\n",
       "      <td>0.072398</td>\n",
       "      <td>0.058600</td>\n",
       "      <td>0.129688</td>\n",
       "      <td>0.065499</td>\n",
       "    </tr>\n",
       "  </tbody>\n",
       "</table>\n",
       "</div>"
      ],
      "text/plain": [
       "    keep_numbers  remove_punctuation  remove_stop stopwords_set  \\\n",
       "9           True               False        False        merged   \n",
       "10          True               False        False           fst   \n",
       "11          True               False        False           snd   \n",
       "8           True               False         True           snd   \n",
       "6           True               False         True        merged   \n",
       "\n",
       "    pearson_train  kendal_train  pearson_dev  kendal_dev  train_avg   dev_avg  \n",
       "9        0.142854      0.119220     0.065018    0.052359   0.131037  0.058689  \n",
       "10       0.142854      0.119220     0.065018    0.052359   0.131037  0.058689  \n",
       "11       0.142854      0.119220     0.065018    0.052359   0.131037  0.058689  \n",
       "8        0.141367      0.118394     0.072398    0.058600   0.129881  0.065499  \n",
       "6        0.141189      0.118187     0.072398    0.058600   0.129688  0.065499  "
      ]
     },
     "execution_count": 33,
     "metadata": {},
     "output_type": "execute_result"
    }
   ],
   "source": [
    "chineseDf.sort_values(f'train_avg', ascending=False).iloc[0:5,]"
   ]
  },
  {
   "cell_type": "code",
   "execution_count": 34,
   "id": "dc76d72a",
   "metadata": {},
   "outputs": [
    {
     "data": {
      "image/png": "[encoded data removed]",
      "text/plain": [
       "<Figure size 432x288 with 1 Axes>"
      ]
     },
     "metadata": {
      "needs_background": "light"
     },
     "output_type": "display_data"
    },
    {
     "data": {
      "image/png": "[encoded data removed]",
      "text/plain": [
       "<Figure size 432x288 with 1 Axes>"
      ]
     },
     "metadata": {
      "needs_background": "light"
     },
     "output_type": "display_data"
    }
   ],
   "source": [
    "for data_type in ['train', 'dev']:\n",
    "    fig = sns.barplot(chineseDf.sort_values(f'{data_type}_avg', ascending=False).iloc[0,4:].index,\n",
    "                      chineseDf.sort_values(f'{data_type}_avg', ascending=False).iloc[0,4:].values)\n",
    "    # Iterrating over the bars one-by-one\n",
    "    for bar in fig.patches:\n",
    "        fig.annotate(format(bar.get_height(), '.2f'), \n",
    "                       (bar.get_x() + bar.get_width() / 2, \n",
    "                        bar.get_height()), ha='center', va='center',\n",
    "                       size=8, xytext=(0, 8),\n",
    "                       textcoords='offset points')\n",
    "    fig.set_xticklabels(fig.get_xticklabels(),rotation=90)\n",
    "    fig.set_title(f'Higher config on {data_type} \\n' + str(dict(chineseDf.sort_values(f'{data_type}_avg', ascending=False).iloc[0, 0:4])))\n",
    "    plt.show()"
   ]
  },
  {
   "cell_type": "code",
   "execution_count": null,
   "id": "a0a7e07e",
   "metadata": {},
   "outputs": [],
   "source": []
  }
 ],
 "metadata": {
  "kernelspec": {
   "display_name": "Python 3",
   "language": "python",
   "name": "python3"
  },
  "language_info": {
   "codemirror_mode": {
    "name": "ipython",
    "version": 3
   },
   "file_extension": ".py",
   "mimetype": "text/x-python",
   "name": "python",
   "nbconvert_exporter": "python",
   "pygments_lexer": "ipython3",
   "version": "3.8.8"
  }
 },
 "nbformat": 4,
 "nbformat_minor": 5
}
